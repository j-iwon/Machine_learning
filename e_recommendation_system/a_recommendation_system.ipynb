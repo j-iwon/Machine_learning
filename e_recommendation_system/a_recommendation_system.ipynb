{
 "cells": [
  {
   "cell_type": "code",
   "execution_count": 1,
   "id": "dc0e3015-1706-4dad-9d77-d9339e54bb5b",
   "metadata": {},
   "outputs": [],
   "source": [
    "import numpy as np\n",
    "\n",
    "# 3차원\n",
    "# 첫번째의 비중이 높다\n",
    "# 각각의 빈도수를 판단해서 중요도를 정한다\n",
    "v1 = np.array([0, 0, 1])\n",
    "v2 = np.array([0, 1, 1])"
   ]
  },
  {
   "cell_type": "code",
   "execution_count": 2,
   "id": "67f6a300-97e4-4665-94aa-cd1cbe53cee2",
   "metadata": {},
   "outputs": [],
   "source": [
    "from numpy import dot\n",
    "from numpy.linalg import norm\n",
    "\n",
    "def get_cosine_similarity(A, B):\n",
    "# def get_cosine_similarity(feature):\n",
    "    return dot(A, B) / (norm(A) * norm(B))"
   ]
  },
  {
   "cell_type": "code",
   "execution_count": 3,
   "id": "ef98872b-df30-49e0-92a9-c3c7a5364ae9",
   "metadata": {},
   "outputs": [
    {
     "data": {
      "text/plain": [
       "0.7071067811865475"
      ]
     },
     "execution_count": 3,
     "metadata": {},
     "output_type": "execute_result"
    }
   ],
   "source": [
    "get_cosine_similarity(v1, v2)"
   ]
  },
  {
   "cell_type": "code",
   "execution_count": 4,
   "id": "bcd63809-062a-46dc-8511-be00f1e342ea",
   "metadata": {},
   "outputs": [
    {
     "data": {
      "text/plain": [
       "array([[0.70710678]])"
      ]
     },
     "execution_count": 4,
     "metadata": {},
     "output_type": "execute_result"
    }
   ],
   "source": [
    "from sklearn.metrics.pairwise import cosine_similarity\n",
    "\n",
    "v1 = np.array([[0, 0, 2]])\n",
    "v2 = np.array([[0, 1, 1]])\n",
    "cosine_similarity(v1, v2)"
   ]
  },
  {
   "cell_type": "code",
   "execution_count": 5,
   "id": "eb4d5ab1-caee-4e43-b533-28e147b982a1",
   "metadata": {},
   "outputs": [],
   "source": [
    "import pandas as pd\n",
    "\n",
    "# 데이터 호출\n",
    "m_df = pd.read_csv('./datasets/movie_dataset.csv')"
   ]
  },
  {
   "cell_type": "code",
   "execution_count": 6,
   "id": "d1efa6e5-dd00-4457-83de-95e314bbe89e",
   "metadata": {},
   "outputs": [
    {
     "name": "stdout",
     "output_type": "stream",
     "text": [
      "<class 'pandas.core.frame.DataFrame'>\n",
      "RangeIndex: 4803 entries, 0 to 4802\n",
      "Data columns (total 24 columns):\n",
      " #   Column                Non-Null Count  Dtype  \n",
      "---  ------                --------------  -----  \n",
      " 0   index                 4803 non-null   int64  \n",
      " 1   budget                4803 non-null   int64  \n",
      " 2   genres                4775 non-null   object \n",
      " 3   homepage              1712 non-null   object \n",
      " 4   id                    4803 non-null   int64  \n",
      " 5   keywords              4391 non-null   object \n",
      " 6   original_language     4803 non-null   object \n",
      " 7   original_title        4803 non-null   object \n",
      " 8   overview              4800 non-null   object \n",
      " 9   popularity            4803 non-null   float64\n",
      " 10  production_companies  4803 non-null   object \n",
      " 11  production_countries  4803 non-null   object \n",
      " 12  release_date          4802 non-null   object \n",
      " 13  revenue               4803 non-null   int64  \n",
      " 14  runtime               4801 non-null   float64\n",
      " 15  spoken_languages      4803 non-null   object \n",
      " 16  status                4803 non-null   object \n",
      " 17  tagline               3959 non-null   object \n",
      " 18  title                 4803 non-null   object \n",
      " 19  vote_average          4803 non-null   float64\n",
      " 20  vote_count            4803 non-null   int64  \n",
      " 21  cast                  4760 non-null   object \n",
      " 22  crew                  4803 non-null   object \n",
      " 23  director              4773 non-null   object \n",
      "dtypes: float64(3), int64(5), object(16)\n",
      "memory usage: 900.7+ KB\n"
     ]
    }
   ],
   "source": [
    "m_df.info()"
   ]
  },
  {
   "cell_type": "code",
   "execution_count": 7,
   "id": "f0ada12b-085e-482d-bc99-ef93e64a5b50",
   "metadata": {},
   "outputs": [
    {
     "data": {
      "text/plain": [
       "0       In the 22nd century, a paraplegic Marine is di...\n",
       "1       Captain Barbossa, long believed to be dead, ha...\n",
       "2       A cryptic message from Bond’s past sends him o...\n",
       "3       Following the death of District Attorney Harve...\n",
       "4       John Carter is a war-weary, former military ca...\n",
       "                              ...                        \n",
       "4798    El Mariachi just wants to play his guitar and ...\n",
       "4799    A newlywed couple's honeymoon is upended by th...\n",
       "4800    \"Signed, Sealed, Delivered\" introduces a dedic...\n",
       "4801    When ambitious New York attorney Sam is sent t...\n",
       "4802    Ever since the second grade when he first saw ...\n",
       "Name: overview, Length: 4803, dtype: object"
      ]
     },
     "execution_count": 7,
     "metadata": {},
     "output_type": "execute_result"
    }
   ],
   "source": [
    "m_df.overview"
   ]
  },
  {
   "cell_type": "code",
   "execution_count": 8,
   "id": "22592134-6e5b-4d96-95bf-426e91abb461",
   "metadata": {},
   "outputs": [
    {
     "data": {
      "text/plain": [
       "0                             Enter the World of Pandora.\n",
       "1          At the end of the world, the adventure begins.\n",
       "2                                   A Plan No One Escapes\n",
       "3                                         The Legend Ends\n",
       "4                    Lost in our world, found in another.\n",
       "                              ...                        \n",
       "4798    He didn't come looking for trouble, but troubl...\n",
       "4799    A newlywed couple's honeymoon is upended by th...\n",
       "4800                                                  NaN\n",
       "4801                             A New Yorker in Shanghai\n",
       "4802                                                  NaN\n",
       "Name: tagline, Length: 4803, dtype: object"
      ]
     },
     "execution_count": 8,
     "metadata": {},
     "output_type": "execute_result"
    }
   ],
   "source": [
    "m_df.tagline"
   ]
  },
  {
   "cell_type": "code",
   "execution_count": 9,
   "id": "c0da65a6-e2e3-4dc3-a3d1-f7cb26d87223",
   "metadata": {},
   "outputs": [
    {
     "data": {
      "text/plain": [
       "index                      0\n",
       "budget                     0\n",
       "genres                    28\n",
       "homepage                3091\n",
       "id                         0\n",
       "keywords                 412\n",
       "original_language          0\n",
       "original_title             0\n",
       "overview                   3\n",
       "popularity                 0\n",
       "production_companies       0\n",
       "production_countries       0\n",
       "release_date               1\n",
       "revenue                    0\n",
       "runtime                    2\n",
       "spoken_languages           0\n",
       "status                     0\n",
       "tagline                  844\n",
       "title                      0\n",
       "vote_average               0\n",
       "vote_count                 0\n",
       "cast                      43\n",
       "crew                       0\n",
       "director                  30\n",
       "dtype: int64"
      ]
     },
     "execution_count": 9,
     "metadata": {},
     "output_type": "execute_result"
    }
   ],
   "source": [
    "m_df.isna().sum()"
   ]
  },
  {
   "cell_type": "code",
   "execution_count": 10,
   "id": "79f62817-147d-44d3-8927-ff47502e6b0a",
   "metadata": {},
   "outputs": [
    {
     "data": {
      "text/plain": [
       "genres      0\n",
       "keywords    0\n",
       "overview    0\n",
       "tagline     0\n",
       "cast        0\n",
       "director    0\n",
       "dtype: int64"
      ]
     },
     "execution_count": 10,
     "metadata": {},
     "output_type": "execute_result"
    }
   ],
   "source": [
    "# genres, keywords, overview, tagline, cast, director\n",
    "columns = ['genres', 'keywords', 'overview', 'tagline', 'cast', 'director']\n",
    "# 연결해서 하나의 문장으로 만들어야한다\n",
    "# 단어의 빈도수가 중요하기 때문에\n",
    "# 결측치를 제거할 필요가 없다\n",
    "\n",
    "pre_m_df = m_df[columns].fillna('')\n",
    "# 빈문자열을 제외하고 만들면 된다\n",
    "pre_m_df.isna().sum()"
   ]
  },
  {
   "cell_type": "code",
   "execution_count": 11,
   "id": "89bbacaa-b0dc-46f5-bb60-1a2802491d01",
   "metadata": {},
   "outputs": [
    {
     "data": {
      "text/plain": [
       "0       Action Adventure Fantasy Science Fiction cultu...\n",
       "1       Adventure Fantasy Action ocean drug abuse exot...\n",
       "2       Action Adventure Crime spy based on novel secr...\n",
       "3       Action Crime Drama Thriller dc comics crime fi...\n",
       "4       Action Adventure Science Fiction based on nove...\n",
       "                              ...                        \n",
       "4798    Action Crime Thriller united states\\u2013mexic...\n",
       "4799    Comedy Romance  A newlywed couple's honeymoon ...\n",
       "4800    Comedy Drama Romance TV Movie date love at fir...\n",
       "4801      When ambitious New York attorney Sam is sent...\n",
       "4802    Documentary obsession camcorder crush dream gi...\n",
       "Length: 4803, dtype: object"
      ]
     },
     "execution_count": 11,
     "metadata": {},
     "output_type": "execute_result"
    }
   ],
   "source": [
    "columns = ['genres', 'keywords', 'overview', 'tagline', 'cast', 'director']\n",
    "features = pre_m_df.loc[:, columns]\n",
    "\n",
    "def concatenate(features):\n",
    "    return features.genres + ' ' + features.keywords + ' ' + \\\n",
    "            features.overview + ' ' + features.tagline + ' ' + \\\n",
    "            features.cast + ' ' + features.director\n",
    "\n",
    "result_df = concatenate(features)\n",
    "result_df"
   ]
  },
  {
   "cell_type": "code",
   "execution_count": 12,
   "id": "232e5000-4c5e-40fb-b19b-43976ae08c06",
   "metadata": {},
   "outputs": [
    {
     "name": "stdout",
     "output_type": "stream",
     "text": [
      "  (0, 561)\t1\n",
      "  (0, 703)\t1\n",
      "  (0, 9754)\t1\n",
      "  (0, 23977)\t1\n",
      "  (0, 10023)\t1\n",
      "  (0, 6601)\t1\n",
      "  (0, 5279)\t1\n",
      "  (0, 10796)\t1\n",
      "  (0, 25413)\t2\n",
      "  (0, 29469)\t1\n",
      "  (0, 5592)\t1\n",
      "  (0, 25232)\t1\n",
      "  (0, 13474)\t1\n",
      "  (0, 27118)\t3\n",
      "  (0, 239)\t1\n",
      "  (0, 4768)\t1\n",
      "  (0, 20104)\t1\n",
      "  (0, 17021)\t1\n",
      "  (0, 14023)\t1\n",
      "  (0, 7827)\t1\n",
      "  (0, 27405)\t1\n",
      "  (0, 18249)\t1\n",
      "  (0, 20039)\t2\n",
      "  (0, 19541)\t1\n",
      "  (0, 28597)\t1\n",
      "  :\t:\n",
      "  (4802, 9588)\t1\n",
      "  (4802, 21386)\t1\n",
      "  (4802, 9166)\t1\n",
      "  (4802, 24102)\t1\n",
      "  (4802, 6136)\t1\n",
      "  (4802, 14324)\t1\n",
      "  (4802, 3875)\t1\n",
      "  (4802, 8258)\t3\n",
      "  (4802, 2501)\t3\n",
      "  (4802, 23076)\t1\n",
      "  (4802, 10089)\t1\n",
      "  (4802, 10738)\t1\n",
      "  (4802, 11677)\t1\n",
      "  (4802, 1833)\t1\n",
      "  (4802, 7044)\t1\n",
      "  (4802, 23793)\t1\n",
      "  (4802, 1819)\t1\n",
      "  (4802, 7964)\t1\n",
      "  (4802, 8403)\t1\n",
      "  (4802, 250)\t1\n",
      "  (4802, 6542)\t2\n",
      "  (4802, 9910)\t1\n",
      "  (4802, 11524)\t1\n",
      "  (4802, 4278)\t1\n",
      "  (4802, 12576)\t4\n",
      "[[1.         0.35896368 0.24467726 ... 0.29233355 0.21320072 0.11875422]\n",
      " [0.35896368 1.         0.33243277 ... 0.39097542 0.2896669  0.16501336]\n",
      " [0.24467726 0.33243277 1.         ... 0.24353367 0.21252557 0.15496777]\n",
      " ...\n",
      " [0.29233355 0.39097542 0.24353367 ... 1.         0.27749786 0.1636604 ]\n",
      " [0.21320072 0.2896669  0.21252557 ... 0.27749786 1.         0.20254787]\n",
      " [0.11875422 0.16501336 0.15496777 ... 0.1636604  0.20254787 1.        ]]\n"
     ]
    }
   ],
   "source": [
    "from sklearn.feature_extraction.text import CountVectorizer\n",
    "from sklearn.metrics.pairwise import cosine_similarity\n",
    "\n",
    "count_v = CountVectorizer()\n",
    "count_metrix = count_v.fit_transform(result_df)\n",
    "print(count_metrix)\n",
    "\n",
    "c_s = cosine_similarity(count_metrix)\n",
    "print(c_s)"
   ]
  },
  {
   "cell_type": "code",
   "execution_count": 13,
   "id": "65e96bab-3650-4414-8960-d0239915e023",
   "metadata": {},
   "outputs": [
    {
     "name": "stdout",
     "output_type": "stream",
     "text": [
      "Men in Black II\n",
      "Space Battleship Yamato\n",
      "The Hobbit: The Battle of the Five Armies\n",
      "The Work and the Glory II: American Zion\n",
      "The Andromeda Strain\n"
     ]
    }
   ],
   "source": [
    "def get_index_from_title(title):\n",
    "    return m_df[m_df.title == title].index[0]\n",
    "\n",
    "def get_title_from_index(index):\n",
    "    return m_df[m_df.index == index]['title'].values[0]\n",
    "\n",
    "movie_title = \"Men in Black\"\n",
    "movie_index = get_index_from_title(movie_title)\n",
    "recommended_movie = sorted(list(enumerate(c_s[movie_index])), key=lambda x: x[1], reverse=True)\n",
    "\n",
    "for movie in recommended_movie[1:6]:\n",
    "    print(get_title_from_index(movie[0]))"
   ]
  }
 ],
 "metadata": {
  "kernelspec": {
   "display_name": "Python 3 (ipykernel)",
   "language": "python",
   "name": "python3"
  },
  "language_info": {
   "codemirror_mode": {
    "name": "ipython",
    "version": 3
   },
   "file_extension": ".py",
   "mimetype": "text/x-python",
   "name": "python",
   "nbconvert_exporter": "python",
   "pygments_lexer": "ipython3",
   "version": "3.11.8"
  }
 },
 "nbformat": 4,
 "nbformat_minor": 5
}
