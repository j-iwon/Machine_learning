{
 "cells": [
  {
   "cell_type": "markdown",
   "id": "2e23edc0-b401-4a97-a50e-684bf298e0fe",
   "metadata": {},
   "source": [
    "### Regularized Linear Regression (정규화된 선형 회귀)\n",
    "\n",
    "- 다중 회귀 모델은 복잡도가 높아서 과대적합(overfitting)되는 경향이 있다. 이를 해결하기 위해서는 규제(penalty)를 주어 복잡도를 감소시켜야 한다.\n",
    "\n",
    "#### 라쏘(LASSO, Least Absolute Shrinkage and Selection Operator)\n",
    "- L1 규제를 통한 정규화를 사용하는 방식이다.\n",
    "- 규제항이 0에 수렴할 때 L1 정규화에서는 가중치(W)가 0이 될 수 있다.\n",
    "- L1 NORM의 경우에 절대값에 대한 식이므로 미분이 불가능한 점이 있지만, 특정 방식을 통해 미분하면 가중치가 0이 된다. 따라서 경사하강법을 통해 학습하는 모델에는 적합하지 않다.\n",
    "- 중요하지 않은 feature들은 모델에서 제외하여 모델을 단순하게 만들고, 가장 영향력이 큰 특성이 무엇인지 알 수 있기 때문에 모델의 해석력이 좋아진다.\n",
    "\n",
    "<div style=\"display: flex; margin-top:20px\">\n",
    "    <div>\n",
    "        <img src=\"./images/regularized01.png\" width=\"350\" style=\"margin-left: 30px\">\n",
    "    </div>\n",
    "    <div>\n",
    "        <img src=\"./images/regularized02.png\" style=\"margin-left: 50px\">\n",
    "    </div>\n",
    "</div>\n",
    "\n",
    "#### 릿지(Ridge)\n",
    "- L2 규제를 통한 정규화를 사용하는 방식이다.\n",
    "- 규제항이 0에 수렴할 때 L2 정규화의 경우 가중치는 0이 될 수 없다.\n",
    "- L2 NORM의 경우 미분했을 때 가중치가 남아있기 때문에, 경사하강법을 통해 학습하는 모델에 적합하다.\n",
    "- 값이 0이 되어 제외되는 feature가 없지만, 골고루 0에 가까운 값으로 작아지기 때문에 장기적으로 더 좋은 모델이 된다.\n",
    "\n",
    "<div style=\"display: flex; margin-top:20px\">\n",
    "    <div>\n",
    "        <img src=\"./images/regularized03.png\" width=\"350\" style=\"margin-left: 30px\">\n",
    "    </div>\n",
    "    <div>\n",
    "        <img src=\"./images/regularized04.png\" style=\"margin-left: 50px\">\n",
    "    </div>\n",
    "</div>\n",
    "\n",
    "**λ (Regulation parameter)**\n",
    "- λ이 커지면 loss function을 최소화하는 과정에서 NORM이 작아지므로 규제가 강해졌다고 표현한다.\n",
    "- λ이 작아지면 loss function을 최소화하는 과정에서 NORM이 커지므로 규제가 약해졌다고 표현한다."
   ]
  },
  {
   "cell_type": "markdown",
   "id": "eae597cc-248a-4be1-b49d-0e0644b37ee1",
   "metadata": {},
   "source": [
    "##### 한국인 수익 예측\n",
    "- id : 식별 번호\n",
    "- year : 조사 년도\n",
    "- wave : 2005년 wave 1위부터 2018년 wave 14위까지\n",
    "- region: 1)서울 2)경기 3)경남 4)경북 5)충남 6)강원 & 충북 7)전라 & 제주\n",
    "- income: 연간 수입 M원(백만원.1100원=1USD)\n",
    "- family_member: 가족 구성원 수\n",
    "- gender: 1) 남성 2) 여성\n",
    "- year_born: 태어난 년도\n",
    "- education_level:1)무교육(7세 미만) 2)무교육(7세 이상) 3)초등학교 4)중학교 5)고등학교 6)대학 학위 8)MA 9)박사 학위\n",
    "- marriage: 혼인상태. 1)해당없음(18세 미만) 2)혼인중 3)사망으로 별거중 4)별거중 5)미혼 6)기타\n",
    "- religion: 1) 종교 있음 2) 종교 없음  \n",
    "- occupation: 직종 코드, 별도 첨부\n",
    "- company_size: 기업 규모\n",
    "- reason_none_worker: 1)능력 없음 2)군 복무 중 3)학교에서 공부 중 4)학교 준비 5)직장인 7)집에서 돌보는 아이들 8)간호 9)경제 활동 포기 10)일할 의사 없음 11)기타"
   ]
  },
  {
   "cell_type": "code",
   "execution_count": null,
   "id": "bb2bef92-7b9e-43d9-a675-9eca0fb6a5ae",
   "metadata": {},
   "outputs": [],
   "source": []
  },
  {
   "cell_type": "code",
   "execution_count": null,
   "id": "85edb97e-d680-48ba-8fad-bee894c30a54",
   "metadata": {},
   "outputs": [],
   "source": []
  },
  {
   "cell_type": "code",
   "execution_count": null,
   "id": "e6753103-0b86-4320-894d-ed70bb7eb912",
   "metadata": {},
   "outputs": [],
   "source": []
  },
  {
   "cell_type": "code",
   "execution_count": null,
   "id": "86c62f6d-3d3c-4d5e-88d4-aab19bd60b24",
   "metadata": {},
   "outputs": [],
   "source": []
  },
  {
   "cell_type": "code",
   "execution_count": null,
   "id": "44b52266-8e74-40b5-9eeb-b530c89c93e1",
   "metadata": {},
   "outputs": [],
   "source": []
  },
  {
   "cell_type": "code",
   "execution_count": null,
   "id": "66901b2c-418b-4e84-b3bc-a04e2e884e1f",
   "metadata": {},
   "outputs": [],
   "source": []
  },
  {
   "cell_type": "code",
   "execution_count": null,
   "id": "31ccdda5-52c5-4699-ba21-7ff14a0318ad",
   "metadata": {},
   "outputs": [],
   "source": []
  },
  {
   "cell_type": "code",
   "execution_count": null,
   "id": "fdf4881a-a5a2-4d34-883c-820c80a4dbfd",
   "metadata": {},
   "outputs": [],
   "source": []
  },
  {
   "cell_type": "code",
   "execution_count": null,
   "id": "1570fafd-7ca8-43d6-8bd3-bef7b321c5b9",
   "metadata": {},
   "outputs": [],
   "source": []
  },
  {
   "cell_type": "code",
   "execution_count": null,
   "id": "c57fd68e-b085-478a-b78c-13a7fea385a2",
   "metadata": {},
   "outputs": [],
   "source": []
  }
 ],
 "metadata": {
  "kernelspec": {
   "display_name": "Python 3 (ipykernel)",
   "language": "python",
   "name": "python3"
  },
  "language_info": {
   "codemirror_mode": {
    "name": "ipython",
    "version": 3
   },
   "file_extension": ".py",
   "mimetype": "text/x-python",
   "name": "python",
   "nbconvert_exporter": "python",
   "pygments_lexer": "ipython3",
   "version": "3.11.8"
  }
 },
 "nbformat": 4,
 "nbformat_minor": 5
}
