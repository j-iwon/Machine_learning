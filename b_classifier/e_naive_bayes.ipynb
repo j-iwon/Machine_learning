{
 "cells": [
  {
   "cell_type": "markdown",
   "id": "1e0568b1-3013-44e4-a67a-2a0e1fdac217",
   "metadata": {},
   "source": [
    "### **베이즈 추론, 베이즈 정리, 베이즈 추정 (Bayesian Inference)**\n",
    "- 역확률(inverse probability) 문제를 해결하기 위한 방법으로서, 조건부 확률(P(B|A))을 알고 있을 때,\n",
    "  정반대인 조건부 확률(P(A|B))을 구하는 방법이다.\n",
    "- 추론 대상의 사전 확률과 추가적인 정보를 기반으로 해당 대상의 \"사후 확률\"을 추론하는 통계적 방법이다.\n",
    "- 어떤 사건이 서로 \"배반\"하는(독립하는) 원인 둘에 의해 일어난다고 하면, 실제 사건이 일어났을 때 이 사건이 두 원인 중 하나일 확률을 구하는 방식이다.\n",
    "- 어떤 상황에서 N개의 원인이 있을 때, 실제 사건이 발생하면 N개 중 한 가지 원인일 확률을 구하는 방법이다.\n",
    "- 기존 사건들의 확률을 알 수 없을 때, 전혀 사용할 수 없는 방식이다.\n",
    "- 하지만, 그 간 데이터가 쌓이면서, 기존 사건들의 확률을 대략적으로 뽑아낼 수 있게 되었다.\n",
    "- 이로 인해, 사회적 통계나 주식에서 베이즈 정리 활용이 필수로 꼽히고 있다.\n",
    "\n",
    "> ##### 예시\r\n",
    "질병 A의 양성판정 정확도가 80%인 검사기가 있다. 검사를 시행해서 양성이 나왔다면, 이 사람이 80%의 확률로 병에 걸렸다고 이야기할 수 없다. 왜냐하면 검사기가 알려주는 확률과 양성일 경우 질병을 앓고 있을 확률은 조건부 확률의 의미에서 정반대이기 때문이다.  \r\n",
    "<table style=\"width:50%; margin-left: 50px\">\r\n",
    "    <tr>\r\n",
    "        <th>전제</th>\r\n",
    "        <th>관심 사건</th>\r\n",
    "        <th>확률</th>\r\n",
    "    </tr>\r\n",
    "    <tr>\r\n",
    "        <th>병을 앓고 있다</th>\r\n",
    "        <th>양성이다</th>\r\n",
    "        <th>80%</th>\r\n",
    "    </tr>\r\n",
    "    <tr>\r\n",
    "        <th>양성이다</th>\r\n",
    "        <th>병을 앓고 있다</th>\r\n",
    "        <th>알수 없음</th>\r\n",
    "    </tr>\r\n",
    "</table>  \r\n",
    "\r\n",
    "> 이런 식의 확률을 구해야 하는 문제를 역확률 문제라고 하고 이를 베이즈 추론을 활용하여 구할 수 있다.  \r\n",
    "단, 검사 대상인 질병의 유병률(사전 확률, 기존 사건들의 확률)을 알고 있어야 한다.  \r\n",
    "전세계 인구 중 10%의 사람들이 질병 A를 앓는다고 가정한다.\r\n",
    "\r\n",
    "\r\n",
    "<div style=\"width: 60%; display:flex; margin-top: -20px; margin-left:30px\">\r\n",
    "    <div>\r\n",
    "        <img src=\"./images/bayesian_inference01.png\" width=\"300\" style=\"margin-top:20px; margin-left:0\">\r\n",
    "    </div>\r\n",
    "    <div style=\"margin-top: 28px; margin-left: 20px\">\r\n",
    "        <img src=\"./images/bayesian_inference02.png\" width=\"310\" style=\"margin-top:20px; margin-left:0\">\r\n",
    "    </div>\r\n",
    "</div>  \r\n",
    "\r\n",
    "<div style=\"width: 60%; display:flex; margin-left:30px\">\r\n",
    "    <div>\r\n",
    "        <img src=\"./images/bayesian_inference03.png\" width=\"800\" style=\"margin-top:20px; margin-left:0\">\r\n",
    "    </div>\r\n",
    "    <div style=\"margin-top: 28px; margin-left: 20px\">\r\n",
    "        <img src=\"./images/bayesian_inference04.png\" width=\"550\" style=\"margin-top:-8px; margin-left:0\">\r\n",
    "    </div>\r\n",
    "</div>  \r\n",
    "\r\n",
    "> 🚩결과: 약 30.8%\r\n",
    "<img src=\"./images/bayesian_inference05.png\" width=\"200\" style=\"margin-top:20px; margin-left:0\">"
   ]
  },
  {
   "cell_type": "markdown",
   "id": "9240b882-9061-40aa-81f2-6c77864834ef",
   "metadata": {},
   "source": [
    "### **나이브 베이즈 분류 (Naive Bayes Classifer)**\n",
    "- 텍스트 분류를 위해 전통적으로 사용되는 분류기로서, 분류에 있어서 준수한 성능을 보인다.\n",
    "- 베이즈 정리에 기반한 통계적 분류 기법으로서, 정확성도 높고 대용량 데이터에 대한 속도도 빠르다.\n",
    "- 반드시 모든 feature가 서로 독립적이여야 한다. 즉, 서로 영향을 미치지 않는 feature들로 구성되어야 한다.\n",
    "- 감정 분석, 스팸 메일 필터링, 텍스트 분류, 추천 시스템 등 여러 서비스에서 활용되는 분류 기법이다.\n",
    "- 빠르고 정확하고 간단한 분류 방법이지만, 실제 데이터에서 모든 feature가 독립적인 경우는 드물기 때문에 실생활에 적용하기 어려운 점이 있다.\n",
    "\n",
    "<img src=\"./images/naive_bayes_classifier.png\" width=\"400px\">"
   ]
  },
  {
   "cell_type": "markdown",
   "id": "89f526e2-040b-471e-a166-0471d9e0a5b2",
   "metadata": {},
   "source": [
    "#### **스팸 메일 분류**"
   ]
  },
  {
   "cell_type": "code",
   "execution_count": 1,
   "id": "938c66ac-4406-4777-9c43-03a85fddc8c3",
   "metadata": {},
   "outputs": [
    {
     "data": {
      "text/html": [
       "<div>\n",
       "<style scoped>\n",
       "    .dataframe tbody tr th:only-of-type {\n",
       "        vertical-align: middle;\n",
       "    }\n",
       "\n",
       "    .dataframe tbody tr th {\n",
       "        vertical-align: top;\n",
       "    }\n",
       "\n",
       "    .dataframe thead th {\n",
       "        text-align: right;\n",
       "    }\n",
       "</style>\n",
       "<table border=\"1\" class=\"dataframe\">\n",
       "  <thead>\n",
       "    <tr style=\"text-align: right;\">\n",
       "      <th></th>\n",
       "      <th>Category</th>\n",
       "      <th>Message</th>\n",
       "    </tr>\n",
       "  </thead>\n",
       "  <tbody>\n",
       "    <tr>\n",
       "      <th>0</th>\n",
       "      <td>ham</td>\n",
       "      <td>Go until jurong point, crazy.. Available only ...</td>\n",
       "    </tr>\n",
       "    <tr>\n",
       "      <th>1</th>\n",
       "      <td>ham</td>\n",
       "      <td>Ok lar... Joking wif u oni...</td>\n",
       "    </tr>\n",
       "    <tr>\n",
       "      <th>2</th>\n",
       "      <td>spam</td>\n",
       "      <td>Free entry in 2 a wkly comp to win FA Cup fina...</td>\n",
       "    </tr>\n",
       "    <tr>\n",
       "      <th>3</th>\n",
       "      <td>ham</td>\n",
       "      <td>U dun say so early hor... U c already then say...</td>\n",
       "    </tr>\n",
       "    <tr>\n",
       "      <th>4</th>\n",
       "      <td>ham</td>\n",
       "      <td>Nah I don't think he goes to usf, he lives aro...</td>\n",
       "    </tr>\n",
       "    <tr>\n",
       "      <th>...</th>\n",
       "      <td>...</td>\n",
       "      <td>...</td>\n",
       "    </tr>\n",
       "    <tr>\n",
       "      <th>5567</th>\n",
       "      <td>spam</td>\n",
       "      <td>This is the 2nd time we have tried 2 contact u...</td>\n",
       "    </tr>\n",
       "    <tr>\n",
       "      <th>5568</th>\n",
       "      <td>ham</td>\n",
       "      <td>Will ü b going to esplanade fr home?</td>\n",
       "    </tr>\n",
       "    <tr>\n",
       "      <th>5569</th>\n",
       "      <td>ham</td>\n",
       "      <td>Pity, * was in mood for that. So...any other s...</td>\n",
       "    </tr>\n",
       "    <tr>\n",
       "      <th>5570</th>\n",
       "      <td>ham</td>\n",
       "      <td>The guy did some bitching but I acted like i'd...</td>\n",
       "    </tr>\n",
       "    <tr>\n",
       "      <th>5571</th>\n",
       "      <td>ham</td>\n",
       "      <td>Rofl. Its true to its name</td>\n",
       "    </tr>\n",
       "  </tbody>\n",
       "</table>\n",
       "<p>5572 rows × 2 columns</p>\n",
       "</div>"
      ],
      "text/plain": [
       "     Category                                            Message\n",
       "0         ham  Go until jurong point, crazy.. Available only ...\n",
       "1         ham                      Ok lar... Joking wif u oni...\n",
       "2        spam  Free entry in 2 a wkly comp to win FA Cup fina...\n",
       "3         ham  U dun say so early hor... U c already then say...\n",
       "4         ham  Nah I don't think he goes to usf, he lives aro...\n",
       "...       ...                                                ...\n",
       "5567     spam  This is the 2nd time we have tried 2 contact u...\n",
       "5568      ham               Will ü b going to esplanade fr home?\n",
       "5569      ham  Pity, * was in mood for that. So...any other s...\n",
       "5570      ham  The guy did some bitching but I acted like i'd...\n",
       "5571      ham                         Rofl. Its true to its name\n",
       "\n",
       "[5572 rows x 2 columns]"
      ]
     },
     "execution_count": 1,
     "metadata": {},
     "output_type": "execute_result"
    }
   ],
   "source": [
    "import pandas as pd\n",
    "\n",
    "spam_df = pd.read_csv('./datasets/spam.csv')\n",
    "spam_df"
   ]
  },
  {
   "cell_type": "code",
   "execution_count": 2,
   "id": "d240f10a-57fa-4211-a018-d653c797d2f7",
   "metadata": {},
   "outputs": [
    {
     "name": "stdout",
     "output_type": "stream",
     "text": [
      "<class 'pandas.core.frame.DataFrame'>\n",
      "RangeIndex: 5572 entries, 0 to 5571\n",
      "Data columns (total 2 columns):\n",
      " #   Column    Non-Null Count  Dtype \n",
      "---  ------    --------------  ----- \n",
      " 0   Category  5572 non-null   object\n",
      " 1   Message   5572 non-null   object\n",
      "dtypes: object(2)\n",
      "memory usage: 87.2+ KB\n"
     ]
    }
   ],
   "source": [
    "spam_df.info()"
   ]
  },
  {
   "cell_type": "code",
   "execution_count": 4,
   "id": "3e118239-61d4-442e-90c8-9592678b8203",
   "metadata": {},
   "outputs": [
    {
     "data": {
      "text/plain": [
       "Category    0\n",
       "Message     0\n",
       "dtype: int64"
      ]
     },
     "execution_count": 4,
     "metadata": {},
     "output_type": "execute_result"
    }
   ],
   "source": [
    "spam_df.isna().sum()"
   ]
  },
  {
   "cell_type": "code",
   "execution_count": 6,
   "id": "c0a06917-d586-420d-ba0a-96030e45ca36",
   "metadata": {},
   "outputs": [],
   "source": [
    "from sklearn.preprocessing import LabelEncoder\n",
    "\n",
    "spam_encoder = LabelEncoder()\n",
    "targets = spam_encoder.fit_transform(spam_df.loc[:, 'Category'])\n",
    "spam_df['Target'] = targets"
   ]
  },
  {
   "cell_type": "code",
   "execution_count": 7,
   "id": "66b7d9a7-8596-4ae8-9a5b-8b0cb842e3bf",
   "metadata": {},
   "outputs": [
    {
     "data": {
      "text/html": [
       "<div>\n",
       "<style scoped>\n",
       "    .dataframe tbody tr th:only-of-type {\n",
       "        vertical-align: middle;\n",
       "    }\n",
       "\n",
       "    .dataframe tbody tr th {\n",
       "        vertical-align: top;\n",
       "    }\n",
       "\n",
       "    .dataframe thead th {\n",
       "        text-align: right;\n",
       "    }\n",
       "</style>\n",
       "<table border=\"1\" class=\"dataframe\">\n",
       "  <thead>\n",
       "    <tr style=\"text-align: right;\">\n",
       "      <th></th>\n",
       "      <th>Message</th>\n",
       "      <th>Target</th>\n",
       "    </tr>\n",
       "  </thead>\n",
       "  <tbody>\n",
       "    <tr>\n",
       "      <th>0</th>\n",
       "      <td>Go until jurong point, crazy.. Available only ...</td>\n",
       "      <td>0</td>\n",
       "    </tr>\n",
       "    <tr>\n",
       "      <th>1</th>\n",
       "      <td>Ok lar... Joking wif u oni...</td>\n",
       "      <td>0</td>\n",
       "    </tr>\n",
       "    <tr>\n",
       "      <th>2</th>\n",
       "      <td>Free entry in 2 a wkly comp to win FA Cup fina...</td>\n",
       "      <td>1</td>\n",
       "    </tr>\n",
       "    <tr>\n",
       "      <th>3</th>\n",
       "      <td>U dun say so early hor... U c already then say...</td>\n",
       "      <td>0</td>\n",
       "    </tr>\n",
       "    <tr>\n",
       "      <th>4</th>\n",
       "      <td>Nah I don't think he goes to usf, he lives aro...</td>\n",
       "      <td>0</td>\n",
       "    </tr>\n",
       "    <tr>\n",
       "      <th>...</th>\n",
       "      <td>...</td>\n",
       "      <td>...</td>\n",
       "    </tr>\n",
       "    <tr>\n",
       "      <th>5567</th>\n",
       "      <td>This is the 2nd time we have tried 2 contact u...</td>\n",
       "      <td>1</td>\n",
       "    </tr>\n",
       "    <tr>\n",
       "      <th>5568</th>\n",
       "      <td>Will ü b going to esplanade fr home?</td>\n",
       "      <td>0</td>\n",
       "    </tr>\n",
       "    <tr>\n",
       "      <th>5569</th>\n",
       "      <td>Pity, * was in mood for that. So...any other s...</td>\n",
       "      <td>0</td>\n",
       "    </tr>\n",
       "    <tr>\n",
       "      <th>5570</th>\n",
       "      <td>The guy did some bitching but I acted like i'd...</td>\n",
       "      <td>0</td>\n",
       "    </tr>\n",
       "    <tr>\n",
       "      <th>5571</th>\n",
       "      <td>Rofl. Its true to its name</td>\n",
       "      <td>0</td>\n",
       "    </tr>\n",
       "  </tbody>\n",
       "</table>\n",
       "<p>5572 rows × 2 columns</p>\n",
       "</div>"
      ],
      "text/plain": [
       "                                                Message  Target\n",
       "0     Go until jurong point, crazy.. Available only ...       0\n",
       "1                         Ok lar... Joking wif u oni...       0\n",
       "2     Free entry in 2 a wkly comp to win FA Cup fina...       1\n",
       "3     U dun say so early hor... U c already then say...       0\n",
       "4     Nah I don't think he goes to usf, he lives aro...       0\n",
       "...                                                 ...     ...\n",
       "5567  This is the 2nd time we have tried 2 contact u...       1\n",
       "5568               Will ü b going to esplanade fr home?       0\n",
       "5569  Pity, * was in mood for that. So...any other s...       0\n",
       "5570  The guy did some bitching but I acted like i'd...       0\n",
       "5571                         Rofl. Its true to its name       0\n",
       "\n",
       "[5572 rows x 2 columns]"
      ]
     },
     "execution_count": 7,
     "metadata": {},
     "output_type": "execute_result"
    }
   ],
   "source": [
    "spam_df = spam_df.drop(labels=['Category'], axis=1)\n",
    "spam_df"
   ]
  },
  {
   "cell_type": "code",
   "execution_count": 8,
   "id": "90074683-b025-4c6d-8bc1-c335449fd12d",
   "metadata": {},
   "outputs": [],
   "source": [
    "from sklearn.model_selection import train_test_split\n",
    "X_train, X_test, y_train, y_test = \\\n",
    "train_test_split(spam_df.Message,\n",
    "                spam_df.Target,\n",
    "                stratify=spam_df.Target,\n",
    "                test_size=0.2,\n",
    "                random_state=124)"
   ]
  },
  {
   "cell_type": "code",
   "execution_count": 9,
   "id": "9dba0298-0e10-4535-85e7-906fe25da9c4",
   "metadata": {},
   "outputs": [
    {
     "name": "stdout",
     "output_type": "stream",
     "text": [
      "[[2 0 0 1 0 1 0]\n",
      " [2 0 1 0 1 0 1]\n",
      " [0 1 1 0 0 0 0]]\n",
      "{'햄버거는': 5, '맛있어': 0, '정말': 3, '아니야': 2, '피자가': 4, '햄버거보다': 6, '먹자': 1}\n"
     ]
    }
   ],
   "source": [
    "from sklearn.feature_extraction.text import CountVectorizer\n",
    "\n",
    "token = ['맛있어', '정말', '아니야']\n",
    "\n",
    "text = [\"햄버거는 맛있어! 정말 맛있어\", \n",
    "        \"아니야 피자가 더 맛있어 햄버거보다 더 맛있어!\",\n",
    "        \"아니야 둘 다 먹자!\"]\n",
    "\n",
    "c_vct = CountVectorizer()\n",
    "freq = c_vct.fit_transform(text)\n",
    "print(freq.toarray())\n",
    "print(c_vct.vocabulary_)"
   ]
  },
  {
   "cell_type": "code",
   "execution_count": null,
   "id": "0d6ac3fb-d5ef-4413-89a2-4b79e7e4fd39",
   "metadata": {},
   "outputs": [],
   "source": [
    "from sklearn.feature_extraction.text import CountVectorizer\n",
    "from sklearn.naive_bayes import MultinomialNB\n",
    "from sklearn.pipeline import Pipeline\n",
    "\n",
    "# 파이프라인을 써야하는 이유? 매번 작업 시, Vectorizer를 사용해야 하지만,\n",
    "# 파이프라인으로 구축 시, 직접 할 필요가 없다.\n",
    "m_nb_pipe = Pipeline([('count_vectorizer', CountVectorizer()), ('multinomial_NB', MultinomialNB())])\n",
    "m_nb_pipe.fit(X_train, y_train)\n",
    "# 파이프라인에 리스트를 넣는다. Pipeline([])"
   ]
  },
  {
   "cell_type": "code",
   "execution_count": null,
   "id": "e910e412-9caf-4260-9f31-79599f7b69f5",
   "metadata": {},
   "outputs": [],
   "source": [
    "prediction = m_nb_pipe.predict(X_test)"
   ]
  },
  {
   "cell_type": "code",
   "execution_count": null,
   "id": "19d740b0-1e3f-436e-b968-e98f2746e82f",
   "metadata": {},
   "outputs": [],
   "source": [
    "#스코어나 프리딕트로 결과를 알 수 있음."
   ]
  },
  {
   "cell_type": "code",
   "execution_count": null,
   "id": "dceb2d31-5872-4654-92e4-e060ca03660c",
   "metadata": {},
   "outputs": [],
   "source": [
    "# 결과 1\n",
    "m_nb_pipe.score(X_test, y_test)\n",
    "# 의 확률로 스팸을 가려낼 수 있다."
   ]
  },
  {
   "cell_type": "code",
   "execution_count": null,
   "id": "4ff44ae7-c054-4114-88af-bd5b7bc824f1",
   "metadata": {},
   "outputs": [],
   "source": [
    "# 결과 2\n",
    "# 문자열만 넣어도 해당 데이터가 스팸인지 아닌지 알 수 있다.\n",
    "m_nb_pipe.predict([spam_df.iloc[5567].Message])"
   ]
  },
  {
   "cell_type": "code",
   "execution_count": null,
   "id": "4e758f5d-6c1a-4836-bdfc-357aa22bc274",
   "metadata": {},
   "outputs": [],
   "source": []
  },
  {
   "cell_type": "code",
   "execution_count": null,
   "id": "f94e5706-aebe-4e5e-80c9-7f05df5918b0",
   "metadata": {},
   "outputs": [],
   "source": []
  },
  {
   "cell_type": "code",
   "execution_count": null,
   "id": "a5c87eef-e692-4fb8-980f-e8a112db5327",
   "metadata": {},
   "outputs": [],
   "source": []
  },
  {
   "cell_type": "code",
   "execution_count": null,
   "id": "5f4dfb02-06d3-40fb-9f40-5c7a53c4a696",
   "metadata": {},
   "outputs": [],
   "source": []
  },
  {
   "cell_type": "code",
   "execution_count": null,
   "id": "f33f823d-0061-4dc7-815a-d2053ddb778d",
   "metadata": {},
   "outputs": [],
   "source": []
  },
  {
   "cell_type": "code",
   "execution_count": null,
   "id": "9822ea54-2c89-4e7b-bc1a-3335d64b0235",
   "metadata": {},
   "outputs": [],
   "source": []
  }
 ],
 "metadata": {
  "kernelspec": {
   "display_name": "Python 3 (ipykernel)",
   "language": "python",
   "name": "python3"
  },
  "language_info": {
   "codemirror_mode": {
    "name": "ipython",
    "version": 3
   },
   "file_extension": ".py",
   "mimetype": "text/x-python",
   "name": "python",
   "nbconvert_exporter": "python",
   "pygments_lexer": "ipython3",
   "version": "3.11.8"
  }
 },
 "nbformat": 4,
 "nbformat_minor": 5
}
