{
 "cells": [
  {
   "cell_type": "markdown",
   "id": "90384289-f4af-483b-a69c-88b8c7d95dd4",
   "metadata": {},
   "source": [
    "### Feature Selection\r\n",
    "- 결과 예측에 있어서, 불필요한 feature들로 인해 모델 예측 성능을 떨어뜨릴 가능성을 사전 제거할 수 있다.\r\n",
    "- 타겟 데이터와 관련이 없는 feature들을 제거하여, 타겟 데이터를 가장 잘 예측하는 feature들의 조합(상관관계가 높은)을 찾아내는 것이 목적이다.\r\n",
    "\r\n",
    "#### 🎈용어 정리\r\n",
    "<table style=\"margin-left: 0\">\r\n",
    "    <tr>\r\n",
    "        <th style=\"text-align: center\">표현</th>\r\n",
    "        <th style=\"text-align: center\">정의</th>\r\n",
    "    </tr>\r\n",
    "    <tr>\r\n",
    "        <td style=\"text-align: center\">Feature Engineering</td>\r\n",
    "        <td style=\"text-align: center\">도메인(기본) 지식을 사용하여 데이터에서 피처를 변형 및 생성</td>\r\n",
    "    </tr>\r\n",
    "    <tr>\r\n",
    "        <td style=\"text-align: center\">Feature Extraction</td>\r\n",
    "        <td style=\"text-align: center\">차원축소 등 새로운 중요 피처를 추출</td>\r\n",
    "    </tr>\r\n",
    "    <tr>\r\n",
    "        <td style=\"text-align: center\">Feature Selection</td>\r\n",
    "        <td style=\"text-align: center\">기존 피처에서 원하는 피처만 선택하는 과정</td>\r\n",
    "    </tr>\r\n",
    "</table>\r\n",
    "\r\n",
    "#### Recursive Feature Elimination (RFE)\r\n",
    "- 모델 최초 학습 이후 feature의 중요도를 선정하는 방식이다.\r\n",
    "- feature의 중요도가 낮은 속성들을 차례로 제거하면서 원하는 feature의 개수가 남을 때까지 반복적으로 학습 및 평가를 수행한다.\r\n",
    "- 경우의 수로 제거해가며 학습을 재수행하기 때문에 시간이 오래 걸린다.\r\n",
    "- 몇 개의 feature를 추출<img src=\"./images/RFE.png.png\" width=\"500px\">해야 하는 것이 단점이다.\r\n",
    "\r\n",
    "<img src=\"./\n",
    "\n",
    "#### Permutation Importance\n",
    "- Permutation(순열)이란, 서로 다른 n개의 원소에서 r개를 중복없이 순서에 상관있게 선택하는 혹은 나열하는 것이다. 여기서 원소는 feature이며, 각 feature별로 중복없이 선택하여 feature의 중요도를 검증하는 방식이다.\n",
    "- 임의의 feature의 요소 순서를 무작위로 섞은 후 성능 감소에 대한 평균을 구한다.\n",
    "- 중요도를 판단하려는 feature의 요소를 nosie로 만들어서 전과 후를 비교한 뒤 중요도를 판단한다.\n",
    "- 임의의 feature를 noise로 만들었을 때 성능이 떨어진 정도로 feature importance를 판별할 수 있다.\n",
    "\n",
    "<img src=\"./images/feature_selection01.png.png\" width=\"500px\">\n",
    "<img src=\"./images/feature_selecimages/RFE.png\" width=\"400px\">"
   ]
  },
  {
   "cell_type": "code",
   "execution_count": null,
   "id": "1bd156d6-da0b-4d52-9fce-2cd6151c716d",
   "metadata": {},
   "outputs": [],
   "source": [
    "iris = load_iris()\n",
    "X_train, X_test, y_train, y_test = \\\n",
    "train_test_split(iris.data, iris.target, stratify=iris.target, test_size=0.2, random_state=124)\n",
    "\n",
    "# 전처리가 끝난 상태에서 fit\n",
    "svc = SVC().fit(X_train, y_train)\n",
    "\n",
    "# 많이 반복할수록 정확하지만 속도면에서 100개 미만으로 하는것이 좋다. n_repeats\n",
    "importance = \n",
    "# 중요도순\n",
    "importance.importances_mean.argsort()[::-1]"
   ]
  },
  {
   "cell_type": "code",
   "execution_count": null,
   "id": "50fc3977-58b1-4d0f-8d2a-84179b610e97",
   "metadata": {},
   "outputs": [],
   "source": [
    "# 피쳐별 중요도 나타내기\n",
    "for i in importance.importances_mean.argsort()[::-1]:"
   ]
  },
  {
   "cell_type": "code",
   "execution_count": null,
   "id": "915f697c-c7d3-4565-bc47-96ddf7821e1e",
   "metadata": {},
   "outputs": [],
   "source": [
    "# 훈련 후 훈련할때 importance로 중요도를 뽑아보고 다시 전처리로 돌아가기 (중요도를 보고 그 피쳐를 중점으로 전처리할 수 있다.)"
   ]
  },
  {
   "cell_type": "code",
   "execution_count": null,
   "id": "0cb50b95-cfd1-46a3-bcaa-a9a3b27c3638",
   "metadata": {},
   "outputs": [],
   "source": []
  },
  {
   "cell_type": "code",
   "execution_count": null,
   "id": "a2b15a35-774b-4454-b926-5cf12ed0310c",
   "metadata": {},
   "outputs": [],
   "source": []
  },
  {
   "cell_type": "code",
   "execution_count": null,
   "id": "61f3bfb9-06e5-46a0-9647-da47b063db29",
   "metadata": {},
   "outputs": [],
   "source": []
  },
  {
   "cell_type": "code",
   "execution_count": null,
   "id": "d090c7cd-91e4-408e-bd00-0c48cf95adc2",
   "metadata": {},
   "outputs": [],
   "source": []
  }
 ],
 "metadata": {
  "kernelspec": {
   "display_name": "Python 3 (ipykernel)",
   "language": "python",
   "name": "python3"
  },
  "language_info": {
   "codemirror_mode": {
    "name": "ipython",
    "version": 3
   },
   "file_extension": ".py",
   "mimetype": "text/x-python",
   "name": "python",
   "nbconvert_exporter": "python",
   "pygments_lexer": "ipython3",
   "version": "3.11.8"
  }
 },
 "nbformat": 4,
 "nbformat_minor": 5
}
