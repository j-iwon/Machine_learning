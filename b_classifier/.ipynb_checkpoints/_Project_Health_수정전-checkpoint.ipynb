{
 "cells": [
  {
   "cell_type": "markdown",
   "id": "82813608-ea10-4580-840c-2f73918eb076",
   "metadata": {},
   "source": [
    "## **💊의료 예측 모델**"
   ]
  },
  {
   "cell_type": "markdown",
   "id": "7b3bed22-1bde-4832-b6f7-b665220284d9",
   "metadata": {},
   "source": [
    "**Feature**\n",
    " \n",
    "> **Name**: 의료 기록과 관련된 환자의 이름.  \n",
    "> **Age**: 입원 당시 환자의 나이. (세로 표시)  \n",
    "> **Gender**: 환자의 성별. (남성 또는 여성)  \n",
    "> **Blood Type**: 환자의 혈액형으로 일반적인 혈액형(A,B,AB,O)에 +와 -로 나타남.  \n",
    "> **Medical Condition**: 의학적 상태. 당뇨병, 고혈압, 천식등 환자와 관련된 주요 의학적 상태 또는 진단을 나타냄.  \n",
    "> **Date of Admission**: 입원 날짜.  \n",
    "> **Doctor**: 환자의 진료를 담당한 의사.  \n",
    "> **Hospital**: 환자가 입원한 의료시설.  \n",
    "> **Insurance Provider**: 보험제공자.  \"Aetna\", \"Blue Cross\", \"Cigna\", \"UnitedHealthcare\" 및 \"Medicare\"를 포함한 여러 옵션 중 하나.  \n",
    "> **Billing Amount**: 청구 금액.  \n",
    "> **Room Number**: 병실 번호.  \n",
    "> **Admission Type**: 입원 유형. Emergency(응급), Elective(선택), Urgent(긴급)의 유형이 있음.  \n",
    "> **Discharge Date**: 퇴원일  \n",
    "> **Medication**: 입원중 환자에게 처방되거나 투여된 약물. 아스피린, 이부프로펜, 페니실린, 파라세타몰, 리피토 등.  \n",
    "\n",
    "**Target**\n",
    "\n",
    "> **Test Results**: 의료 검사 결과. Normal(정상), Abnormal(비정상), Inconclusive(불확실함).  "
   ]
  },
  {
   "cell_type": "markdown",
   "id": "56dd2fdc-fb8b-48d6-bccd-8438b5f9161e",
   "metadata": {},
   "source": [
    "#### **🚑 데이터 탐색**"
   ]
  },
  {
   "cell_type": "code",
   "execution_count": 1,
   "id": "bf883133-5665-4057-bc9f-d74009a87a72",
   "metadata": {},
   "outputs": [
    {
     "data": {
      "text/html": [
       "<div>\n",
       "<style scoped>\n",
       "    .dataframe tbody tr th:only-of-type {\n",
       "        vertical-align: middle;\n",
       "    }\n",
       "\n",
       "    .dataframe tbody tr th {\n",
       "        vertical-align: top;\n",
       "    }\n",
       "\n",
       "    .dataframe thead th {\n",
       "        text-align: right;\n",
       "    }\n",
       "</style>\n",
       "<table border=\"1\" class=\"dataframe\">\n",
       "  <thead>\n",
       "    <tr style=\"text-align: right;\">\n",
       "      <th></th>\n",
       "      <th>Name</th>\n",
       "      <th>Age</th>\n",
       "      <th>Gender</th>\n",
       "      <th>Blood Type</th>\n",
       "      <th>Medical Condition</th>\n",
       "      <th>Date of Admission</th>\n",
       "      <th>Doctor</th>\n",
       "      <th>Hospital</th>\n",
       "      <th>Insurance Provider</th>\n",
       "      <th>Billing Amount</th>\n",
       "      <th>Room Number</th>\n",
       "      <th>Admission Type</th>\n",
       "      <th>Discharge Date</th>\n",
       "      <th>Medication</th>\n",
       "      <th>Test Results</th>\n",
       "    </tr>\n",
       "  </thead>\n",
       "  <tbody>\n",
       "    <tr>\n",
       "      <th>0</th>\n",
       "      <td>Tiffany Ramirez</td>\n",
       "      <td>81</td>\n",
       "      <td>Female</td>\n",
       "      <td>O-</td>\n",
       "      <td>Diabetes</td>\n",
       "      <td>2022-11-17</td>\n",
       "      <td>Patrick Parker</td>\n",
       "      <td>Wallace-Hamilton</td>\n",
       "      <td>Medicare</td>\n",
       "      <td>37490.983364</td>\n",
       "      <td>146</td>\n",
       "      <td>Elective</td>\n",
       "      <td>2022-12-01</td>\n",
       "      <td>Aspirin</td>\n",
       "      <td>Inconclusive</td>\n",
       "    </tr>\n",
       "    <tr>\n",
       "      <th>1</th>\n",
       "      <td>Ruben Burns</td>\n",
       "      <td>35</td>\n",
       "      <td>Male</td>\n",
       "      <td>O+</td>\n",
       "      <td>Asthma</td>\n",
       "      <td>2023-06-01</td>\n",
       "      <td>Diane Jackson</td>\n",
       "      <td>Burke, Griffin and Cooper</td>\n",
       "      <td>UnitedHealthcare</td>\n",
       "      <td>47304.064845</td>\n",
       "      <td>404</td>\n",
       "      <td>Emergency</td>\n",
       "      <td>2023-06-15</td>\n",
       "      <td>Lipitor</td>\n",
       "      <td>Normal</td>\n",
       "    </tr>\n",
       "    <tr>\n",
       "      <th>2</th>\n",
       "      <td>Chad Byrd</td>\n",
       "      <td>61</td>\n",
       "      <td>Male</td>\n",
       "      <td>B-</td>\n",
       "      <td>Obesity</td>\n",
       "      <td>2019-01-09</td>\n",
       "      <td>Paul Baker</td>\n",
       "      <td>Walton LLC</td>\n",
       "      <td>Medicare</td>\n",
       "      <td>36874.896997</td>\n",
       "      <td>292</td>\n",
       "      <td>Emergency</td>\n",
       "      <td>2019-02-08</td>\n",
       "      <td>Lipitor</td>\n",
       "      <td>Normal</td>\n",
       "    </tr>\n",
       "    <tr>\n",
       "      <th>3</th>\n",
       "      <td>Antonio Frederick</td>\n",
       "      <td>49</td>\n",
       "      <td>Male</td>\n",
       "      <td>B-</td>\n",
       "      <td>Asthma</td>\n",
       "      <td>2020-05-02</td>\n",
       "      <td>Brian Chandler</td>\n",
       "      <td>Garcia Ltd</td>\n",
       "      <td>Medicare</td>\n",
       "      <td>23303.322092</td>\n",
       "      <td>480</td>\n",
       "      <td>Urgent</td>\n",
       "      <td>2020-05-03</td>\n",
       "      <td>Penicillin</td>\n",
       "      <td>Abnormal</td>\n",
       "    </tr>\n",
       "    <tr>\n",
       "      <th>4</th>\n",
       "      <td>Mrs. Brandy Flowers</td>\n",
       "      <td>51</td>\n",
       "      <td>Male</td>\n",
       "      <td>O-</td>\n",
       "      <td>Arthritis</td>\n",
       "      <td>2021-07-09</td>\n",
       "      <td>Dustin Griffin</td>\n",
       "      <td>Jones, Brown and Murray</td>\n",
       "      <td>UnitedHealthcare</td>\n",
       "      <td>18086.344184</td>\n",
       "      <td>477</td>\n",
       "      <td>Urgent</td>\n",
       "      <td>2021-08-02</td>\n",
       "      <td>Paracetamol</td>\n",
       "      <td>Normal</td>\n",
       "    </tr>\n",
       "    <tr>\n",
       "      <th>...</th>\n",
       "      <td>...</td>\n",
       "      <td>...</td>\n",
       "      <td>...</td>\n",
       "      <td>...</td>\n",
       "      <td>...</td>\n",
       "      <td>...</td>\n",
       "      <td>...</td>\n",
       "      <td>...</td>\n",
       "      <td>...</td>\n",
       "      <td>...</td>\n",
       "      <td>...</td>\n",
       "      <td>...</td>\n",
       "      <td>...</td>\n",
       "      <td>...</td>\n",
       "      <td>...</td>\n",
       "    </tr>\n",
       "    <tr>\n",
       "      <th>9995</th>\n",
       "      <td>James Hood</td>\n",
       "      <td>83</td>\n",
       "      <td>Male</td>\n",
       "      <td>A+</td>\n",
       "      <td>Obesity</td>\n",
       "      <td>2022-07-29</td>\n",
       "      <td>Samuel Moody</td>\n",
       "      <td>Wood, Martin and Simmons</td>\n",
       "      <td>UnitedHealthcare</td>\n",
       "      <td>39606.840083</td>\n",
       "      <td>110</td>\n",
       "      <td>Elective</td>\n",
       "      <td>2022-08-02</td>\n",
       "      <td>Ibuprofen</td>\n",
       "      <td>Abnormal</td>\n",
       "    </tr>\n",
       "    <tr>\n",
       "      <th>9996</th>\n",
       "      <td>Stephanie Evans</td>\n",
       "      <td>47</td>\n",
       "      <td>Female</td>\n",
       "      <td>AB+</td>\n",
       "      <td>Arthritis</td>\n",
       "      <td>2022-01-06</td>\n",
       "      <td>Christopher Yates</td>\n",
       "      <td>Nash-Krueger</td>\n",
       "      <td>Blue Cross</td>\n",
       "      <td>5995.717488</td>\n",
       "      <td>244</td>\n",
       "      <td>Emergency</td>\n",
       "      <td>2022-01-29</td>\n",
       "      <td>Ibuprofen</td>\n",
       "      <td>Normal</td>\n",
       "    </tr>\n",
       "    <tr>\n",
       "      <th>9997</th>\n",
       "      <td>Christopher Martinez</td>\n",
       "      <td>54</td>\n",
       "      <td>Male</td>\n",
       "      <td>B-</td>\n",
       "      <td>Arthritis</td>\n",
       "      <td>2022-07-01</td>\n",
       "      <td>Robert Nicholson</td>\n",
       "      <td>Larson and Sons</td>\n",
       "      <td>Blue Cross</td>\n",
       "      <td>49559.202905</td>\n",
       "      <td>312</td>\n",
       "      <td>Elective</td>\n",
       "      <td>2022-07-15</td>\n",
       "      <td>Ibuprofen</td>\n",
       "      <td>Normal</td>\n",
       "    </tr>\n",
       "    <tr>\n",
       "      <th>9998</th>\n",
       "      <td>Amanda Duke</td>\n",
       "      <td>84</td>\n",
       "      <td>Male</td>\n",
       "      <td>A+</td>\n",
       "      <td>Arthritis</td>\n",
       "      <td>2020-02-06</td>\n",
       "      <td>Jamie Lewis</td>\n",
       "      <td>Wilson-Lyons</td>\n",
       "      <td>UnitedHealthcare</td>\n",
       "      <td>25236.344761</td>\n",
       "      <td>420</td>\n",
       "      <td>Urgent</td>\n",
       "      <td>2020-02-26</td>\n",
       "      <td>Penicillin</td>\n",
       "      <td>Normal</td>\n",
       "    </tr>\n",
       "    <tr>\n",
       "      <th>9999</th>\n",
       "      <td>Eric King</td>\n",
       "      <td>20</td>\n",
       "      <td>Male</td>\n",
       "      <td>B-</td>\n",
       "      <td>Arthritis</td>\n",
       "      <td>2023-03-22</td>\n",
       "      <td>Tasha Avila</td>\n",
       "      <td>Torres, Young and Stewart</td>\n",
       "      <td>Aetna</td>\n",
       "      <td>37223.965865</td>\n",
       "      <td>290</td>\n",
       "      <td>Emergency</td>\n",
       "      <td>2023-04-15</td>\n",
       "      <td>Penicillin</td>\n",
       "      <td>Abnormal</td>\n",
       "    </tr>\n",
       "  </tbody>\n",
       "</table>\n",
       "<p>10000 rows × 15 columns</p>\n",
       "</div>"
      ],
      "text/plain": [
       "                      Name  Age  Gender Blood Type Medical Condition  \\\n",
       "0          Tiffany Ramirez   81  Female         O-          Diabetes   \n",
       "1              Ruben Burns   35    Male         O+            Asthma   \n",
       "2                Chad Byrd   61    Male         B-           Obesity   \n",
       "3        Antonio Frederick   49    Male         B-            Asthma   \n",
       "4      Mrs. Brandy Flowers   51    Male         O-         Arthritis   \n",
       "...                    ...  ...     ...        ...               ...   \n",
       "9995            James Hood   83    Male         A+           Obesity   \n",
       "9996       Stephanie Evans   47  Female        AB+         Arthritis   \n",
       "9997  Christopher Martinez   54    Male         B-         Arthritis   \n",
       "9998           Amanda Duke   84    Male         A+         Arthritis   \n",
       "9999             Eric King   20    Male         B-         Arthritis   \n",
       "\n",
       "     Date of Admission             Doctor                   Hospital  \\\n",
       "0           2022-11-17     Patrick Parker           Wallace-Hamilton   \n",
       "1           2023-06-01      Diane Jackson  Burke, Griffin and Cooper   \n",
       "2           2019-01-09         Paul Baker                 Walton LLC   \n",
       "3           2020-05-02     Brian Chandler                 Garcia Ltd   \n",
       "4           2021-07-09     Dustin Griffin    Jones, Brown and Murray   \n",
       "...                ...                ...                        ...   \n",
       "9995        2022-07-29       Samuel Moody   Wood, Martin and Simmons   \n",
       "9996        2022-01-06  Christopher Yates               Nash-Krueger   \n",
       "9997        2022-07-01   Robert Nicholson            Larson and Sons   \n",
       "9998        2020-02-06        Jamie Lewis               Wilson-Lyons   \n",
       "9999        2023-03-22        Tasha Avila  Torres, Young and Stewart   \n",
       "\n",
       "     Insurance Provider  Billing Amount  Room Number Admission Type  \\\n",
       "0              Medicare    37490.983364          146       Elective   \n",
       "1      UnitedHealthcare    47304.064845          404      Emergency   \n",
       "2              Medicare    36874.896997          292      Emergency   \n",
       "3              Medicare    23303.322092          480         Urgent   \n",
       "4      UnitedHealthcare    18086.344184          477         Urgent   \n",
       "...                 ...             ...          ...            ...   \n",
       "9995   UnitedHealthcare    39606.840083          110       Elective   \n",
       "9996         Blue Cross     5995.717488          244      Emergency   \n",
       "9997         Blue Cross    49559.202905          312       Elective   \n",
       "9998   UnitedHealthcare    25236.344761          420         Urgent   \n",
       "9999              Aetna    37223.965865          290      Emergency   \n",
       "\n",
       "     Discharge Date   Medication  Test Results  \n",
       "0        2022-12-01      Aspirin  Inconclusive  \n",
       "1        2023-06-15      Lipitor        Normal  \n",
       "2        2019-02-08      Lipitor        Normal  \n",
       "3        2020-05-03   Penicillin      Abnormal  \n",
       "4        2021-08-02  Paracetamol        Normal  \n",
       "...             ...          ...           ...  \n",
       "9995     2022-08-02    Ibuprofen      Abnormal  \n",
       "9996     2022-01-29    Ibuprofen        Normal  \n",
       "9997     2022-07-15    Ibuprofen        Normal  \n",
       "9998     2020-02-26   Penicillin        Normal  \n",
       "9999     2023-04-15   Penicillin      Abnormal  \n",
       "\n",
       "[10000 rows x 15 columns]"
      ]
     },
     "execution_count": 1,
     "metadata": {},
     "output_type": "execute_result"
    }
   ],
   "source": [
    "import pandas as pd\n",
    "\n",
    "healthcare_df = pd.read_csv('./datasets/healthcare_dataset.csv')\n",
    "healthcare_df"
   ]
  },
  {
   "cell_type": "code",
   "execution_count": 2,
   "id": "bdab0104-f837-4f12-a518-56d76df19336",
   "metadata": {},
   "outputs": [
    {
     "name": "stdout",
     "output_type": "stream",
     "text": [
      "<class 'pandas.core.frame.DataFrame'>\n",
      "RangeIndex: 10000 entries, 0 to 9999\n",
      "Data columns (total 15 columns):\n",
      " #   Column              Non-Null Count  Dtype  \n",
      "---  ------              --------------  -----  \n",
      " 0   Name                10000 non-null  object \n",
      " 1   Age                 10000 non-null  int64  \n",
      " 2   Gender              10000 non-null  object \n",
      " 3   Blood Type          10000 non-null  object \n",
      " 4   Medical Condition   10000 non-null  object \n",
      " 5   Date of Admission   10000 non-null  object \n",
      " 6   Doctor              10000 non-null  object \n",
      " 7   Hospital            10000 non-null  object \n",
      " 8   Insurance Provider  10000 non-null  object \n",
      " 9   Billing Amount      10000 non-null  float64\n",
      " 10  Room Number         10000 non-null  int64  \n",
      " 11  Admission Type      10000 non-null  object \n",
      " 12  Discharge Date      10000 non-null  object \n",
      " 13  Medication          10000 non-null  object \n",
      " 14  Test Results        10000 non-null  object \n",
      "dtypes: float64(1), int64(2), object(12)\n",
      "memory usage: 1.1+ MB\n"
     ]
    }
   ],
   "source": [
    "healthcare_df.info()"
   ]
  },
  {
   "cell_type": "code",
   "execution_count": 3,
   "id": "956ab5c5-ae56-441e-ac90-0e559d7bc607",
   "metadata": {},
   "outputs": [
    {
     "data": {
      "text/plain": [
       "Name                  0\n",
       "Age                   0\n",
       "Gender                0\n",
       "Blood Type            0\n",
       "Medical Condition     0\n",
       "Date of Admission     0\n",
       "Doctor                0\n",
       "Hospital              0\n",
       "Insurance Provider    0\n",
       "Billing Amount        0\n",
       "Room Number           0\n",
       "Admission Type        0\n",
       "Discharge Date        0\n",
       "Medication            0\n",
       "Test Results          0\n",
       "dtype: int64"
      ]
     },
     "execution_count": 3,
     "metadata": {},
     "output_type": "execute_result"
    }
   ],
   "source": [
    "# 결측치 검사\n",
    "healthcare_df.isna().sum()"
   ]
  },
  {
   "cell_type": "code",
   "execution_count": 4,
   "id": "0d5fc6b0-eec1-4e6a-baa5-d038f9028c39",
   "metadata": {},
   "outputs": [
    {
     "data": {
      "text/plain": [
       "0"
      ]
     },
     "execution_count": 4,
     "metadata": {},
     "output_type": "execute_result"
    }
   ],
   "source": [
    "# 중복행 검사\n",
    "healthcare_df.duplicated().sum()"
   ]
  },
  {
   "cell_type": "markdown",
   "id": "02fe9728-5e24-4ad3-a42f-d3dea217b956",
   "metadata": {},
   "source": [
    "#### **🚑 데이터 전처리**"
   ]
  },
  {
   "cell_type": "code",
   "execution_count": 5,
   "id": "d3ca6347-0a21-4a77-9238-144b46c0ac01",
   "metadata": {},
   "outputs": [],
   "source": [
    "# 데이터 복사\n",
    "h_df = healthcare_df.copy()"
   ]
  },
  {
   "cell_type": "code",
   "execution_count": 6,
   "id": "f8d711d8-5668-411c-8ecd-a1afe5908649",
   "metadata": {},
   "outputs": [
    {
     "data": {
      "text/html": [
       "<div>\n",
       "<style scoped>\n",
       "    .dataframe tbody tr th:only-of-type {\n",
       "        vertical-align: middle;\n",
       "    }\n",
       "\n",
       "    .dataframe tbody tr th {\n",
       "        vertical-align: top;\n",
       "    }\n",
       "\n",
       "    .dataframe thead th {\n",
       "        text-align: right;\n",
       "    }\n",
       "</style>\n",
       "<table border=\"1\" class=\"dataframe\">\n",
       "  <thead>\n",
       "    <tr style=\"text-align: right;\">\n",
       "      <th></th>\n",
       "      <th>Age</th>\n",
       "      <th>Gender</th>\n",
       "      <th>Blood Type</th>\n",
       "      <th>Medical Condition</th>\n",
       "      <th>Admission Type</th>\n",
       "      <th>Medication</th>\n",
       "      <th>Test Results</th>\n",
       "    </tr>\n",
       "  </thead>\n",
       "  <tbody>\n",
       "    <tr>\n",
       "      <th>0</th>\n",
       "      <td>81</td>\n",
       "      <td>Female</td>\n",
       "      <td>O-</td>\n",
       "      <td>Diabetes</td>\n",
       "      <td>Elective</td>\n",
       "      <td>Aspirin</td>\n",
       "      <td>Inconclusive</td>\n",
       "    </tr>\n",
       "    <tr>\n",
       "      <th>1</th>\n",
       "      <td>35</td>\n",
       "      <td>Male</td>\n",
       "      <td>O+</td>\n",
       "      <td>Asthma</td>\n",
       "      <td>Emergency</td>\n",
       "      <td>Lipitor</td>\n",
       "      <td>Normal</td>\n",
       "    </tr>\n",
       "    <tr>\n",
       "      <th>2</th>\n",
       "      <td>61</td>\n",
       "      <td>Male</td>\n",
       "      <td>B-</td>\n",
       "      <td>Obesity</td>\n",
       "      <td>Emergency</td>\n",
       "      <td>Lipitor</td>\n",
       "      <td>Normal</td>\n",
       "    </tr>\n",
       "    <tr>\n",
       "      <th>3</th>\n",
       "      <td>49</td>\n",
       "      <td>Male</td>\n",
       "      <td>B-</td>\n",
       "      <td>Asthma</td>\n",
       "      <td>Urgent</td>\n",
       "      <td>Penicillin</td>\n",
       "      <td>Abnormal</td>\n",
       "    </tr>\n",
       "    <tr>\n",
       "      <th>4</th>\n",
       "      <td>51</td>\n",
       "      <td>Male</td>\n",
       "      <td>O-</td>\n",
       "      <td>Arthritis</td>\n",
       "      <td>Urgent</td>\n",
       "      <td>Paracetamol</td>\n",
       "      <td>Normal</td>\n",
       "    </tr>\n",
       "    <tr>\n",
       "      <th>...</th>\n",
       "      <td>...</td>\n",
       "      <td>...</td>\n",
       "      <td>...</td>\n",
       "      <td>...</td>\n",
       "      <td>...</td>\n",
       "      <td>...</td>\n",
       "      <td>...</td>\n",
       "    </tr>\n",
       "    <tr>\n",
       "      <th>9995</th>\n",
       "      <td>83</td>\n",
       "      <td>Male</td>\n",
       "      <td>A+</td>\n",
       "      <td>Obesity</td>\n",
       "      <td>Elective</td>\n",
       "      <td>Ibuprofen</td>\n",
       "      <td>Abnormal</td>\n",
       "    </tr>\n",
       "    <tr>\n",
       "      <th>9996</th>\n",
       "      <td>47</td>\n",
       "      <td>Female</td>\n",
       "      <td>AB+</td>\n",
       "      <td>Arthritis</td>\n",
       "      <td>Emergency</td>\n",
       "      <td>Ibuprofen</td>\n",
       "      <td>Normal</td>\n",
       "    </tr>\n",
       "    <tr>\n",
       "      <th>9997</th>\n",
       "      <td>54</td>\n",
       "      <td>Male</td>\n",
       "      <td>B-</td>\n",
       "      <td>Arthritis</td>\n",
       "      <td>Elective</td>\n",
       "      <td>Ibuprofen</td>\n",
       "      <td>Normal</td>\n",
       "    </tr>\n",
       "    <tr>\n",
       "      <th>9998</th>\n",
       "      <td>84</td>\n",
       "      <td>Male</td>\n",
       "      <td>A+</td>\n",
       "      <td>Arthritis</td>\n",
       "      <td>Urgent</td>\n",
       "      <td>Penicillin</td>\n",
       "      <td>Normal</td>\n",
       "    </tr>\n",
       "    <tr>\n",
       "      <th>9999</th>\n",
       "      <td>20</td>\n",
       "      <td>Male</td>\n",
       "      <td>B-</td>\n",
       "      <td>Arthritis</td>\n",
       "      <td>Emergency</td>\n",
       "      <td>Penicillin</td>\n",
       "      <td>Abnormal</td>\n",
       "    </tr>\n",
       "  </tbody>\n",
       "</table>\n",
       "<p>10000 rows × 7 columns</p>\n",
       "</div>"
      ],
      "text/plain": [
       "      Age  Gender Blood Type Medical Condition Admission Type   Medication  \\\n",
       "0      81  Female         O-          Diabetes       Elective      Aspirin   \n",
       "1      35    Male         O+            Asthma      Emergency      Lipitor   \n",
       "2      61    Male         B-           Obesity      Emergency      Lipitor   \n",
       "3      49    Male         B-            Asthma         Urgent   Penicillin   \n",
       "4      51    Male         O-         Arthritis         Urgent  Paracetamol   \n",
       "...   ...     ...        ...               ...            ...          ...   \n",
       "9995   83    Male         A+           Obesity       Elective    Ibuprofen   \n",
       "9996   47  Female        AB+         Arthritis      Emergency    Ibuprofen   \n",
       "9997   54    Male         B-         Arthritis       Elective    Ibuprofen   \n",
       "9998   84    Male         A+         Arthritis         Urgent   Penicillin   \n",
       "9999   20    Male         B-         Arthritis      Emergency   Penicillin   \n",
       "\n",
       "      Test Results  \n",
       "0     Inconclusive  \n",
       "1           Normal  \n",
       "2           Normal  \n",
       "3         Abnormal  \n",
       "4           Normal  \n",
       "...            ...  \n",
       "9995      Abnormal  \n",
       "9996        Normal  \n",
       "9997        Normal  \n",
       "9998        Normal  \n",
       "9999      Abnormal  \n",
       "\n",
       "[10000 rows x 7 columns]"
      ]
     },
     "metadata": {},
     "output_type": "display_data"
    }
   ],
   "source": [
    "# 불필요한 컬럼 제거\n",
    "h_df.drop(labels=['Name',\n",
    "                  'Doctor',\n",
    "                  'Hospital',\n",
    "                  'Room Number',\n",
    "                  'Date of Admission',\n",
    "                  'Discharge Date',\n",
    "                  'Insurance Provider',\n",
    "                  'Room Number',\n",
    "                  'Billing Amount'], axis=1, inplace=True)\n",
    "display(h_df)"
   ]
  },
  {
   "cell_type": "code",
   "execution_count": 7,
   "id": "57ba46bb-497d-4d25-9d47-d9a45f1bff76",
   "metadata": {},
   "outputs": [
    {
     "data": {
      "text/plain": [
       "Test Results\n",
       "Abnormal        3456\n",
       "Inconclusive    3277\n",
       "Normal          3267\n",
       "Name: count, dtype: int64"
      ]
     },
     "execution_count": 7,
     "metadata": {},
     "output_type": "execute_result"
    }
   ],
   "source": [
    "# target value 확인\n",
    "h_df['Test Results'].value_counts()"
   ]
  },
  {
   "cell_type": "code",
   "execution_count": 8,
   "id": "ace4b71a-8370-4faa-bc5a-e4456f98fdc0",
   "metadata": {},
   "outputs": [
    {
     "data": {
      "text/plain": [
       "Medical Condition\n",
       "Asthma          1708\n",
       "Cancer          1703\n",
       "Hypertension    1688\n",
       "Arthritis       1650\n",
       "Obesity         1628\n",
       "Diabetes        1623\n",
       "Name: count, dtype: int64"
      ]
     },
     "execution_count": 8,
     "metadata": {},
     "output_type": "execute_result"
    }
   ],
   "source": [
    "# feature value 확인\n",
    "h_df['Medical Condition'].value_counts()"
   ]
  },
  {
   "cell_type": "code",
   "execution_count": 9,
   "id": "15c88617-efac-4cbe-a438-0be5824a9389",
   "metadata": {},
   "outputs": [
    {
     "data": {
      "text/plain": [
       "Admission Type\n",
       "Urgent       3391\n",
       "Emergency    3367\n",
       "Elective     3242\n",
       "Name: count, dtype: int64"
      ]
     },
     "execution_count": 9,
     "metadata": {},
     "output_type": "execute_result"
    }
   ],
   "source": [
    "h_df['Admission Type'].value_counts()"
   ]
  },
  {
   "cell_type": "code",
   "execution_count": 10,
   "id": "fe3609fa-c6b8-4885-8bde-ad26a7949e59",
   "metadata": {},
   "outputs": [
    {
     "data": {
      "text/plain": [
       "Medication\n",
       "Penicillin     2079\n",
       "Lipitor        2015\n",
       "Ibuprofen      1976\n",
       "Aspirin        1968\n",
       "Paracetamol    1962\n",
       "Name: count, dtype: int64"
      ]
     },
     "execution_count": 10,
     "metadata": {},
     "output_type": "execute_result"
    }
   ],
   "source": [
    "h_df['Medication'].value_counts()"
   ]
  },
  {
   "cell_type": "code",
   "execution_count": 11,
   "id": "6f227034-1a49-4c6e-9065-103f9b2b7c76",
   "metadata": {},
   "outputs": [],
   "source": [
    "h_df['Blood Type'] = h_df['Blood Type'].apply(lambda x: x[:-1] if x[-1] in ['+', '-'] else x)"
   ]
  },
  {
   "cell_type": "code",
   "execution_count": 12,
   "id": "ff4d8916-a7fb-4f59-b2e6-59a8d7770c92",
   "metadata": {},
   "outputs": [
    {
     "data": {
      "text/plain": [
       "Blood Type\n",
       "AB    2533\n",
       "B     2496\n",
       "O     2492\n",
       "A     2479\n",
       "Name: count, dtype: int64"
      ]
     },
     "execution_count": 12,
     "metadata": {},
     "output_type": "execute_result"
    }
   ],
   "source": [
    "h_df['Blood Type'].value_counts()"
   ]
  },
  {
   "cell_type": "code",
   "execution_count": 13,
   "id": "9fbf25b5-01e2-4e71-8e54-c69b4fd8ed9a",
   "metadata": {},
   "outputs": [],
   "source": [
    "# from sklearn.preprocessing import LabelEncoder\n",
    "\n",
    "# columns = ['Gender', 'Blood Type', 'Medical Condition', 'Admission Type', 'Medication', 'Test Results']\n",
    "# encoders = {}\n",
    "\n",
    "# for column in columns:\n",
    "#     encoder = LabelEncoder()\n",
    "#     h_df[column] = encoder.fit_transform(h_df[column])\n",
    "#     encoders[column] = encoder.classes_.tolist()"
   ]
  },
  {
   "cell_type": "code",
   "execution_count": 14,
   "id": "bd602557-9f61-4ccb-9fd8-db4381e9f738",
   "metadata": {},
   "outputs": [],
   "source": [
    "# 문자열 데이터 변환\n",
    "from sklearn.preprocessing import LabelEncoder\n",
    "\n",
    "gender_encoder = LabelEncoder()\n",
    "genders = gender_encoder.fit_transform(h_df['Gender'].tolist())\n",
    "h_df['Gender'] = genders\n",
    "\n",
    "blood_encoder = LabelEncoder()\n",
    "bloods = blood_encoder.fit_transform(h_df['Blood Type'].tolist())\n",
    "h_df['Blood Type'] = bloods\n",
    "\n",
    "medical_encoder = LabelEncoder()\n",
    "medicals = medical_encoder.fit_transform(h_df['Medical Condition'].tolist())\n",
    "h_df['Medical Condition'] = medicals\n",
    "\n",
    "admission_encoder = LabelEncoder()\n",
    "admissions = admission_encoder.fit_transform(h_df['Admission Type'].tolist())\n",
    "h_df['Admission Type'] = admissions\n",
    "\n",
    "medication_encoder = LabelEncoder()\n",
    "medications = medication_encoder.fit_transform(h_df['Medication'].tolist())\n",
    "h_df['Medication'] = medications\n",
    "\n",
    "result_encoder = LabelEncoder()\n",
    "results = result_encoder.fit_transform(h_df['Test Results'].tolist())\n",
    "h_df['Test Results'] = results"
   ]
  },
  {
   "cell_type": "code",
   "execution_count": 15,
   "id": "beebaaae-b690-4df9-97ea-d7b3f7b5941b",
   "metadata": {},
   "outputs": [
    {
     "data": {
      "text/html": [
       "<div>\n",
       "<style scoped>\n",
       "    .dataframe tbody tr th:only-of-type {\n",
       "        vertical-align: middle;\n",
       "    }\n",
       "\n",
       "    .dataframe tbody tr th {\n",
       "        vertical-align: top;\n",
       "    }\n",
       "\n",
       "    .dataframe thead th {\n",
       "        text-align: right;\n",
       "    }\n",
       "</style>\n",
       "<table border=\"1\" class=\"dataframe\">\n",
       "  <thead>\n",
       "    <tr style=\"text-align: right;\">\n",
       "      <th></th>\n",
       "      <th>Age</th>\n",
       "      <th>Gender</th>\n",
       "      <th>Blood Type</th>\n",
       "      <th>Medical Condition</th>\n",
       "      <th>Admission Type</th>\n",
       "      <th>Medication</th>\n",
       "      <th>Test Results</th>\n",
       "    </tr>\n",
       "  </thead>\n",
       "  <tbody>\n",
       "    <tr>\n",
       "      <th>0</th>\n",
       "      <td>81</td>\n",
       "      <td>0</td>\n",
       "      <td>3</td>\n",
       "      <td>3</td>\n",
       "      <td>0</td>\n",
       "      <td>0</td>\n",
       "      <td>1</td>\n",
       "    </tr>\n",
       "    <tr>\n",
       "      <th>1</th>\n",
       "      <td>35</td>\n",
       "      <td>1</td>\n",
       "      <td>3</td>\n",
       "      <td>1</td>\n",
       "      <td>1</td>\n",
       "      <td>2</td>\n",
       "      <td>2</td>\n",
       "    </tr>\n",
       "    <tr>\n",
       "      <th>2</th>\n",
       "      <td>61</td>\n",
       "      <td>1</td>\n",
       "      <td>2</td>\n",
       "      <td>5</td>\n",
       "      <td>1</td>\n",
       "      <td>2</td>\n",
       "      <td>2</td>\n",
       "    </tr>\n",
       "    <tr>\n",
       "      <th>3</th>\n",
       "      <td>49</td>\n",
       "      <td>1</td>\n",
       "      <td>2</td>\n",
       "      <td>1</td>\n",
       "      <td>2</td>\n",
       "      <td>4</td>\n",
       "      <td>0</td>\n",
       "    </tr>\n",
       "    <tr>\n",
       "      <th>4</th>\n",
       "      <td>51</td>\n",
       "      <td>1</td>\n",
       "      <td>3</td>\n",
       "      <td>0</td>\n",
       "      <td>2</td>\n",
       "      <td>3</td>\n",
       "      <td>2</td>\n",
       "    </tr>\n",
       "    <tr>\n",
       "      <th>...</th>\n",
       "      <td>...</td>\n",
       "      <td>...</td>\n",
       "      <td>...</td>\n",
       "      <td>...</td>\n",
       "      <td>...</td>\n",
       "      <td>...</td>\n",
       "      <td>...</td>\n",
       "    </tr>\n",
       "    <tr>\n",
       "      <th>9995</th>\n",
       "      <td>83</td>\n",
       "      <td>1</td>\n",
       "      <td>0</td>\n",
       "      <td>5</td>\n",
       "      <td>0</td>\n",
       "      <td>1</td>\n",
       "      <td>0</td>\n",
       "    </tr>\n",
       "    <tr>\n",
       "      <th>9996</th>\n",
       "      <td>47</td>\n",
       "      <td>0</td>\n",
       "      <td>1</td>\n",
       "      <td>0</td>\n",
       "      <td>1</td>\n",
       "      <td>1</td>\n",
       "      <td>2</td>\n",
       "    </tr>\n",
       "    <tr>\n",
       "      <th>9997</th>\n",
       "      <td>54</td>\n",
       "      <td>1</td>\n",
       "      <td>2</td>\n",
       "      <td>0</td>\n",
       "      <td>0</td>\n",
       "      <td>1</td>\n",
       "      <td>2</td>\n",
       "    </tr>\n",
       "    <tr>\n",
       "      <th>9998</th>\n",
       "      <td>84</td>\n",
       "      <td>1</td>\n",
       "      <td>0</td>\n",
       "      <td>0</td>\n",
       "      <td>2</td>\n",
       "      <td>4</td>\n",
       "      <td>2</td>\n",
       "    </tr>\n",
       "    <tr>\n",
       "      <th>9999</th>\n",
       "      <td>20</td>\n",
       "      <td>1</td>\n",
       "      <td>2</td>\n",
       "      <td>0</td>\n",
       "      <td>1</td>\n",
       "      <td>4</td>\n",
       "      <td>0</td>\n",
       "    </tr>\n",
       "  </tbody>\n",
       "</table>\n",
       "<p>10000 rows × 7 columns</p>\n",
       "</div>"
      ],
      "text/plain": [
       "      Age  Gender  Blood Type  Medical Condition  Admission Type  Medication  \\\n",
       "0      81       0           3                  3               0           0   \n",
       "1      35       1           3                  1               1           2   \n",
       "2      61       1           2                  5               1           2   \n",
       "3      49       1           2                  1               2           4   \n",
       "4      51       1           3                  0               2           3   \n",
       "...   ...     ...         ...                ...             ...         ...   \n",
       "9995   83       1           0                  5               0           1   \n",
       "9996   47       0           1                  0               1           1   \n",
       "9997   54       1           2                  0               0           1   \n",
       "9998   84       1           0                  0               2           4   \n",
       "9999   20       1           2                  0               1           4   \n",
       "\n",
       "      Test Results  \n",
       "0                1  \n",
       "1                2  \n",
       "2                2  \n",
       "3                0  \n",
       "4                2  \n",
       "...            ...  \n",
       "9995             0  \n",
       "9996             2  \n",
       "9997             2  \n",
       "9998             2  \n",
       "9999             0  \n",
       "\n",
       "[10000 rows x 7 columns]"
      ]
     },
     "execution_count": 15,
     "metadata": {},
     "output_type": "execute_result"
    }
   ],
   "source": [
    "h_df"
   ]
  },
  {
   "cell_type": "code",
   "execution_count": 16,
   "id": "cf37eddd-2f7d-4f09-91a9-91ed7fb0110a",
   "metadata": {},
   "outputs": [
    {
     "name": "stdout",
     "output_type": "stream",
     "text": [
      "Index(['Age', 'Gender', 'Blood Type', 'Medical Condition', 'Admission Type',\n",
      "       'Medication', 'Test Results'],\n",
      "      dtype='object')\n"
     ]
    }
   ],
   "source": [
    "# 데이터프레임의 열 이름 확인\n",
    "print(h_df.columns)"
   ]
  },
  {
   "cell_type": "code",
   "execution_count": 17,
   "id": "8c13c86f-3a13-4739-8431-6c8329cbe565",
   "metadata": {},
   "outputs": [
    {
     "name": "stdout",
     "output_type": "stream",
     "text": [
      "Age: 0건, 0.0%\n",
      "Gender: 0건, 0.0%\n",
      "Blood Type: 0건, 0.0%\n",
      "Medical Condition: 0건, 0.0%\n",
      "Admission Type: 0건, 0.0%\n",
      "Medication: 0건, 0.0%\n",
      "Test Results: 0건, 0.0%\n"
     ]
    }
   ],
   "source": [
    "# 이상치 확인\n",
    "import numpy as np\n",
    "from sklearn.preprocessing import StandardScaler\n",
    "\n",
    "std = StandardScaler()\n",
    "\n",
    "features = ['Age', 'Gender', 'Blood Type', 'Medical Condition', 'Admission Type',\n",
    "       'Medication', 'Test Results']\n",
    "\n",
    "total_count = h_df.shape[0]\n",
    "for feature in features:\n",
    "    std_df = std.fit_transform(h_df[[feature]])\n",
    "    count = ((std_df < -1.96) | (std_df > 1.96)).sum()\n",
    "    print(f'{feature}: {count}건, {np.round(count / total_count * 100, 4)}%')"
   ]
  },
  {
   "cell_type": "code",
   "execution_count": 18,
   "id": "0e9084ed-4ef3-4cad-88e6-e13b456cd783",
   "metadata": {},
   "outputs": [
    {
     "data": {
      "text/plain": [
       "array([[<Axes: title={'center': 'Age'}>,\n",
       "        <Axes: title={'center': 'Gender'}>,\n",
       "        <Axes: title={'center': 'Blood Type'}>],\n",
       "       [<Axes: title={'center': 'Medical Condition'}>,\n",
       "        <Axes: title={'center': 'Admission Type'}>,\n",
       "        <Axes: title={'center': 'Medication'}>],\n",
       "       [<Axes: title={'center': 'Test Results'}>, <Axes: >, <Axes: >]],\n",
       "      dtype=object)"
      ]
     },
     "execution_count": 18,
     "metadata": {},
     "output_type": "execute_result"
    },
    {
     "data": {
      "image/png": "[encoded data removed]",
      "text/plain": [
       "<Figure size 700x700 with 9 Axes>"
      ]
     },
     "metadata": {},
     "output_type": "display_data"
    }
   ],
   "source": [
    "import matplotlib.pyplot as plt\n",
    "# 컬러맵 가져오기\n",
    "cmap = plt.get_cmap('Pastel2')\n",
    "# 컬러맵의 색상 선택\n",
    "all_colors = cmap(np.array([0,4]))\n",
    "# 히스토그램 그려보기\n",
    "h_df.hist(figsize=(7, 7), color=cmap(np.array([1])))"
   ]
  },
  {
   "cell_type": "code",
   "execution_count": 19,
   "id": "7b0eb165-190f-4530-b99b-fad39f797585",
   "metadata": {},
   "outputs": [
    {
     "data": {
      "text/plain": [
       "Text(0.5, 1.0, 'Correlation')"
      ]
     },
     "execution_count": 19,
     "metadata": {},
     "output_type": "execute_result"
    },
    {
     "data": {
      "image/png": "[encoded data removed]",
      "text/plain": [
       "<Figure size 700x500 with 2 Axes>"
      ]
     },
     "metadata": {},
     "output_type": "display_data"
    }
   ],
   "source": [
    "# 데이터프레임의 상관관계\n",
    "import seaborn as sns\n",
    "import matplotlib.pyplot as plt\n",
    "\n",
    "corr = h_df.corr()\n",
    "fig = plt.figure(figsize=(7, 5))\n",
    "heatmap = sns.heatmap(corr, cmap=\"Oranges\")\n",
    "heatmap.set_title(\"Correlation\")"
   ]
  },
  {
   "cell_type": "markdown",
   "id": "14d68ef4-ab12-40e3-8e51-f879b5314cf7",
   "metadata": {},
   "source": [
    "### **🚑 DTC**"
   ]
  },
  {
   "cell_type": "code",
   "execution_count": 20,
   "id": "f513d97e-2d76-4585-9efc-abcf466fec37",
   "metadata": {},
   "outputs": [
    {
     "data": {
      "text/plain": [
       "Test Results\n",
       "1    2745\n",
       "0    2745\n",
       "2    2745\n",
       "Name: count, dtype: int64"
      ]
     },
     "execution_count": 20,
     "metadata": {},
     "output_type": "execute_result"
    }
   ],
   "source": [
    "from sklearn.tree import DecisionTreeClassifier\n",
    "from sklearn.model_selection import train_test_split\n",
    "from imblearn.over_sampling import SMOTE\n",
    "\n",
    "features, targets = h_df.iloc[:, :-1], h_df.iloc[:, -1]\n",
    "\n",
    "X_train, X_test, y_train, y_test = \\\n",
    "train_test_split(features, targets, test_size=0.2, random_state=124)\n",
    "\n",
    "smote = SMOTE(random_state=124)\n",
    "X_train_over, y_train_over = smote.fit_resample(X_train, y_train)\n",
    "\n",
    "y_train_over.value_counts()"
   ]
  },
  {
   "cell_type": "code",
   "execution_count": 21,
   "id": "c0522c2b-5ba0-4ddf-814c-8958a2b84a72",
   "metadata": {},
   "outputs": [
    {
     "data": {
      "text/html": [
       "<style>#sk-container-id-1 {color: black;background-color: white;}#sk-container-id-1 pre{padding: 0;}#sk-container-id-1 div.sk-toggleable {background-color: white;}#sk-container-id-1 label.sk-toggleable__label {cursor: pointer;display: block;width: 100%;margin-bottom: 0;padding: 0.3em;box-sizing: border-box;text-align: center;}#sk-container-id-1 label.sk-toggleable__label-arrow:before {content: \"▸\";float: left;margin-right: 0.25em;color: #696969;}#sk-container-id-1 label.sk-toggleable__label-arrow:hover:before {color: black;}#sk-container-id-1 div.sk-estimator:hover label.sk-toggleable__label-arrow:before {color: black;}#sk-container-id-1 div.sk-toggleable__content {max-height: 0;max-width: 0;overflow: hidden;text-align: left;background-color: #f0f8ff;}#sk-container-id-1 div.sk-toggleable__content pre {margin: 0.2em;color: black;border-radius: 0.25em;background-color: #f0f8ff;}#sk-container-id-1 input.sk-toggleable__control:checked~div.sk-toggleable__content {max-height: 200px;max-width: 100%;overflow: auto;}#sk-container-id-1 input.sk-toggleable__control:checked~label.sk-toggleable__label-arrow:before {content: \"▾\";}#sk-container-id-1 div.sk-estimator input.sk-toggleable__control:checked~label.sk-toggleable__label {background-color: #d4ebff;}#sk-container-id-1 div.sk-label input.sk-toggleable__control:checked~label.sk-toggleable__label {background-color: #d4ebff;}#sk-container-id-1 input.sk-hidden--visually {border: 0;clip: rect(1px 1px 1px 1px);clip: rect(1px, 1px, 1px, 1px);height: 1px;margin: -1px;overflow: hidden;padding: 0;position: absolute;width: 1px;}#sk-container-id-1 div.sk-estimator {font-family: monospace;background-color: #f0f8ff;border: 1px dotted black;border-radius: 0.25em;box-sizing: border-box;margin-bottom: 0.5em;}#sk-container-id-1 div.sk-estimator:hover {background-color: #d4ebff;}#sk-container-id-1 div.sk-parallel-item::after {content: \"\";width: 100%;border-bottom: 1px solid gray;flex-grow: 1;}#sk-container-id-1 div.sk-label:hover label.sk-toggleable__label {background-color: #d4ebff;}#sk-container-id-1 div.sk-serial::before {content: \"\";position: absolute;border-left: 1px solid gray;box-sizing: border-box;top: 0;bottom: 0;left: 50%;z-index: 0;}#sk-container-id-1 div.sk-serial {display: flex;flex-direction: column;align-items: center;background-color: white;padding-right: 0.2em;padding-left: 0.2em;position: relative;}#sk-container-id-1 div.sk-item {position: relative;z-index: 1;}#sk-container-id-1 div.sk-parallel {display: flex;align-items: stretch;justify-content: center;background-color: white;position: relative;}#sk-container-id-1 div.sk-item::before, #sk-container-id-1 div.sk-parallel-item::before {content: \"\";position: absolute;border-left: 1px solid gray;box-sizing: border-box;top: 0;bottom: 0;left: 50%;z-index: -1;}#sk-container-id-1 div.sk-parallel-item {display: flex;flex-direction: column;z-index: 1;position: relative;background-color: white;}#sk-container-id-1 div.sk-parallel-item:first-child::after {align-self: flex-end;width: 50%;}#sk-container-id-1 div.sk-parallel-item:last-child::after {align-self: flex-start;width: 50%;}#sk-container-id-1 div.sk-parallel-item:only-child::after {width: 0;}#sk-container-id-1 div.sk-dashed-wrapped {border: 1px dashed gray;margin: 0 0.4em 0.5em 0.4em;box-sizing: border-box;padding-bottom: 0.4em;background-color: white;}#sk-container-id-1 div.sk-label label {font-family: monospace;font-weight: bold;display: inline-block;line-height: 1.2em;}#sk-container-id-1 div.sk-label-container {text-align: center;}#sk-container-id-1 div.sk-container {/* jupyter's `normalize.less` sets `[hidden] { display: none; }` but bootstrap.min.css set `[hidden] { display: none !important; }` so we also need the `!important` here to be able to override the default hidden behavior on the sphinx rendered scikit-learn.org. See: https://github.com/scikit-learn/scikit-learn/issues/21755 */display: inline-block !important;position: relative;}#sk-container-id-1 div.sk-text-repr-fallback {display: none;}</style><div id=\"sk-container-id-1\" class=\"sk-top-container\"><div class=\"sk-text-repr-fallback\"><pre>DecisionTreeClassifier()</pre><b>In a Jupyter environment, please rerun this cell to show the HTML representation or trust the notebook. <br />On GitHub, the HTML representation is unable to render, please try loading this page with nbviewer.org.</b></div><div class=\"sk-container\" hidden><div class=\"sk-item\"><div class=\"sk-estimator sk-toggleable\"><input class=\"sk-toggleable__control sk-hidden--visually\" id=\"sk-estimator-id-1\" type=\"checkbox\" checked><label for=\"sk-estimator-id-1\" class=\"sk-toggleable__label sk-toggleable__label-arrow\">DecisionTreeClassifier</label><div class=\"sk-toggleable__content\"><pre>DecisionTreeClassifier()</pre></div></div></div></div></div>"
      ],
      "text/plain": [
       "DecisionTreeClassifier()"
      ]
     },
     "execution_count": 21,
     "metadata": {},
     "output_type": "execute_result"
    }
   ],
   "source": [
    "dtc.fit(X_train.values, y_train.values)"
   ]
  },
  {
   "cell_type": "code",
   "execution_count": 22,
   "id": "0de821b3-b236-446c-ba75-e1cd57c3015a",
   "metadata": {},
   "outputs": [],
   "source": [
    "# from sklearn.tree import export_graphviz\n",
    "\n",
    "# # 파일 내보내기\n",
    "# export_graphviz(\n",
    "#     dtc, \n",
    "#     out_file='./images/health_dtc01.dot',\n",
    "#     class_names = [str(class_) for class_ in result_encoder.classes_],\n",
    "#     feature_names=features.columns, \n",
    "#     impurity=True, \n",
    "#     filled=True\n",
    "# )"
   ]
  },
  {
   "cell_type": "code",
   "execution_count": 23,
   "id": "065cbd99-58f0-4c34-825d-74b47e7f0463",
   "metadata": {},
   "outputs": [],
   "source": [
    "# import graphviz\n",
    "\n",
    "# with open('./images/health_dtc01.dot') as f:\n",
    "#     health_dtc01 = f.read()\n",
    "\n",
    "# health_dtc01_graph = graphviz.Source(health_dtc01)"
   ]
  },
  {
   "cell_type": "code",
   "execution_count": 24,
   "id": "eace0076-bd3f-424f-9a5d-7bb1b197c1ae",
   "metadata": {},
   "outputs": [],
   "source": [
    "# health_dtc01_graph.render(filename='health_dtc01', directory='./images', format='png')"
   ]
  },
  {
   "cell_type": "markdown",
   "id": "fc6e7b3d-6fc0-42a0-8a03-610cedae65e2",
   "metadata": {},
   "source": [
    "<img src=\"./images/health_dtc01.png\">"
   ]
  },
  {
   "cell_type": "code",
   "execution_count": 25,
   "id": "79260f89-fd85-4dc3-9e10-3ed0fa023170",
   "metadata": {},
   "outputs": [],
   "source": [
    "# 데이터 분리\n",
    "from sklearn.model_selection import GridSearchCV, train_test_split\n",
    "from sklearn.tree import DecisionTreeClassifier\n",
    "\n",
    "features, targets = h_df.iloc[:, :-1], h_df.iloc[:, -1]\n",
    "\n",
    "X_train, X_test, y_train, y_test = \\\n",
    "train_test_split(features, targets, test_size=0.2, stratify=targets, random_state=124)\n",
    "\n",
    "dtc = DecisionTreeClassifier()\n",
    "\n",
    "# max_depth: graphviz 에서 확인한 깊이\n",
    "# min_samples_split: 노드 분할 시 필요한 최소한의 샘플 수\n",
    "parameters = {'max_depth': [8, 9, 10], 'min_samples_split': [10, 11, 12, 13]}"
   ]
  },
  {
   "cell_type": "code",
   "execution_count": 26,
   "id": "e4e462fd-0a05-43a4-b362-6228ffc95253",
   "metadata": {},
   "outputs": [
    {
     "data": {
      "text/html": [
       "<div>\n",
       "<style scoped>\n",
       "    .dataframe tbody tr th:only-of-type {\n",
       "        vertical-align: middle;\n",
       "    }\n",
       "\n",
       "    .dataframe tbody tr th {\n",
       "        vertical-align: top;\n",
       "    }\n",
       "\n",
       "    .dataframe thead th {\n",
       "        text-align: right;\n",
       "    }\n",
       "</style>\n",
       "<table border=\"1\" class=\"dataframe\">\n",
       "  <thead>\n",
       "    <tr style=\"text-align: right;\">\n",
       "      <th></th>\n",
       "      <th>params</th>\n",
       "      <th>mean_test_score</th>\n",
       "      <th>rank_test_score</th>\n",
       "      <th>split0_test_score</th>\n",
       "      <th>split1_test_score</th>\n",
       "      <th>split2_test_score</th>\n",
       "    </tr>\n",
       "  </thead>\n",
       "  <tbody>\n",
       "    <tr>\n",
       "      <th>0</th>\n",
       "      <td>{'max_depth': 8, 'min_samples_split': 10}</td>\n",
       "      <td>0.342000</td>\n",
       "      <td>5</td>\n",
       "      <td>0.35125</td>\n",
       "      <td>0.34000</td>\n",
       "      <td>0.34000</td>\n",
       "    </tr>\n",
       "    <tr>\n",
       "      <th>1</th>\n",
       "      <td>{'max_depth': 8, 'min_samples_split': 11}</td>\n",
       "      <td>0.342250</td>\n",
       "      <td>4</td>\n",
       "      <td>0.35000</td>\n",
       "      <td>0.34125</td>\n",
       "      <td>0.34000</td>\n",
       "    </tr>\n",
       "    <tr>\n",
       "      <th>2</th>\n",
       "      <td>{'max_depth': 8, 'min_samples_split': 12}</td>\n",
       "      <td>0.343000</td>\n",
       "      <td>2</td>\n",
       "      <td>0.35000</td>\n",
       "      <td>0.34125</td>\n",
       "      <td>0.34125</td>\n",
       "    </tr>\n",
       "    <tr>\n",
       "      <th>3</th>\n",
       "      <td>{'max_depth': 8, 'min_samples_split': 13}</td>\n",
       "      <td>0.343125</td>\n",
       "      <td>1</td>\n",
       "      <td>0.35125</td>\n",
       "      <td>0.34125</td>\n",
       "      <td>0.34250</td>\n",
       "    </tr>\n",
       "    <tr>\n",
       "      <th>4</th>\n",
       "      <td>{'max_depth': 9, 'min_samples_split': 10}</td>\n",
       "      <td>0.341625</td>\n",
       "      <td>7</td>\n",
       "      <td>0.34375</td>\n",
       "      <td>0.32375</td>\n",
       "      <td>0.35250</td>\n",
       "    </tr>\n",
       "    <tr>\n",
       "      <th>5</th>\n",
       "      <td>{'max_depth': 9, 'min_samples_split': 11}</td>\n",
       "      <td>0.341500</td>\n",
       "      <td>8</td>\n",
       "      <td>0.34250</td>\n",
       "      <td>0.32625</td>\n",
       "      <td>0.35125</td>\n",
       "    </tr>\n",
       "    <tr>\n",
       "      <th>6</th>\n",
       "      <td>{'max_depth': 9, 'min_samples_split': 12}</td>\n",
       "      <td>0.341875</td>\n",
       "      <td>6</td>\n",
       "      <td>0.34375</td>\n",
       "      <td>0.32625</td>\n",
       "      <td>0.35250</td>\n",
       "    </tr>\n",
       "    <tr>\n",
       "      <th>7</th>\n",
       "      <td>{'max_depth': 9, 'min_samples_split': 13}</td>\n",
       "      <td>0.342250</td>\n",
       "      <td>3</td>\n",
       "      <td>0.34375</td>\n",
       "      <td>0.32250</td>\n",
       "      <td>0.35375</td>\n",
       "    </tr>\n",
       "    <tr>\n",
       "      <th>8</th>\n",
       "      <td>{'max_depth': 10, 'min_samples_split': 10}</td>\n",
       "      <td>0.338000</td>\n",
       "      <td>10</td>\n",
       "      <td>0.35750</td>\n",
       "      <td>0.34625</td>\n",
       "      <td>0.35750</td>\n",
       "    </tr>\n",
       "    <tr>\n",
       "      <th>9</th>\n",
       "      <td>{'max_depth': 10, 'min_samples_split': 11}</td>\n",
       "      <td>0.336750</td>\n",
       "      <td>12</td>\n",
       "      <td>0.35250</td>\n",
       "      <td>0.34625</td>\n",
       "      <td>0.35625</td>\n",
       "    </tr>\n",
       "    <tr>\n",
       "      <th>10</th>\n",
       "      <td>{'max_depth': 10, 'min_samples_split': 12}</td>\n",
       "      <td>0.338125</td>\n",
       "      <td>9</td>\n",
       "      <td>0.35375</td>\n",
       "      <td>0.34875</td>\n",
       "      <td>0.35875</td>\n",
       "    </tr>\n",
       "    <tr>\n",
       "      <th>11</th>\n",
       "      <td>{'max_depth': 10, 'min_samples_split': 13}</td>\n",
       "      <td>0.337750</td>\n",
       "      <td>11</td>\n",
       "      <td>0.35625</td>\n",
       "      <td>0.34875</td>\n",
       "      <td>0.35750</td>\n",
       "    </tr>\n",
       "  </tbody>\n",
       "</table>\n",
       "</div>"
      ],
      "text/plain": [
       "                                        params  mean_test_score  \\\n",
       "0    {'max_depth': 8, 'min_samples_split': 10}         0.342000   \n",
       "1    {'max_depth': 8, 'min_samples_split': 11}         0.342250   \n",
       "2    {'max_depth': 8, 'min_samples_split': 12}         0.343000   \n",
       "3    {'max_depth': 8, 'min_samples_split': 13}         0.343125   \n",
       "4    {'max_depth': 9, 'min_samples_split': 10}         0.341625   \n",
       "5    {'max_depth': 9, 'min_samples_split': 11}         0.341500   \n",
       "6    {'max_depth': 9, 'min_samples_split': 12}         0.341875   \n",
       "7    {'max_depth': 9, 'min_samples_split': 13}         0.342250   \n",
       "8   {'max_depth': 10, 'min_samples_split': 10}         0.338000   \n",
       "9   {'max_depth': 10, 'min_samples_split': 11}         0.336750   \n",
       "10  {'max_depth': 10, 'min_samples_split': 12}         0.338125   \n",
       "11  {'max_depth': 10, 'min_samples_split': 13}         0.337750   \n",
       "\n",
       "    rank_test_score  split0_test_score  split1_test_score  split2_test_score  \n",
       "0                 5            0.35125            0.34000            0.34000  \n",
       "1                 4            0.35000            0.34125            0.34000  \n",
       "2                 2            0.35000            0.34125            0.34125  \n",
       "3                 1            0.35125            0.34125            0.34250  \n",
       "4                 7            0.34375            0.32375            0.35250  \n",
       "5                 8            0.34250            0.32625            0.35125  \n",
       "6                 6            0.34375            0.32625            0.35250  \n",
       "7                 3            0.34375            0.32250            0.35375  \n",
       "8                10            0.35750            0.34625            0.35750  \n",
       "9                12            0.35250            0.34625            0.35625  \n",
       "10                9            0.35375            0.34875            0.35875  \n",
       "11               11            0.35625            0.34875            0.35750  "
      ]
     },
     "execution_count": 26,
     "metadata": {},
     "output_type": "execute_result"
    }
   ],
   "source": [
    "g_dtc = GridSearchCV(dtc, param_grid=parameters, cv=10, refit=True, return_train_score=True, n_jobs=-1)\n",
    "\n",
    "# 교차 검증 진행\n",
    "g_dtc.fit(X_train, y_train)\n",
    "\n",
    "pd.DataFrame(g_dtc.cv_results_)[['params', 'mean_test_score', 'rank_test_score', 'split0_test_score', 'split1_test_score', 'split2_test_score']]"
   ]
  },
  {
   "cell_type": "code",
   "execution_count": 27,
   "id": "210d3fc0-174b-4d90-ad98-f2caa736f258",
   "metadata": {},
   "outputs": [
    {
     "data": {
      "text/html": [
       "<style>#sk-container-id-2 {color: black;background-color: white;}#sk-container-id-2 pre{padding: 0;}#sk-container-id-2 div.sk-toggleable {background-color: white;}#sk-container-id-2 label.sk-toggleable__label {cursor: pointer;display: block;width: 100%;margin-bottom: 0;padding: 0.3em;box-sizing: border-box;text-align: center;}#sk-container-id-2 label.sk-toggleable__label-arrow:before {content: \"▸\";float: left;margin-right: 0.25em;color: #696969;}#sk-container-id-2 label.sk-toggleable__label-arrow:hover:before {color: black;}#sk-container-id-2 div.sk-estimator:hover label.sk-toggleable__label-arrow:before {color: black;}#sk-container-id-2 div.sk-toggleable__content {max-height: 0;max-width: 0;overflow: hidden;text-align: left;background-color: #f0f8ff;}#sk-container-id-2 div.sk-toggleable__content pre {margin: 0.2em;color: black;border-radius: 0.25em;background-color: #f0f8ff;}#sk-container-id-2 input.sk-toggleable__control:checked~div.sk-toggleable__content {max-height: 200px;max-width: 100%;overflow: auto;}#sk-container-id-2 input.sk-toggleable__control:checked~label.sk-toggleable__label-arrow:before {content: \"▾\";}#sk-container-id-2 div.sk-estimator input.sk-toggleable__control:checked~label.sk-toggleable__label {background-color: #d4ebff;}#sk-container-id-2 div.sk-label input.sk-toggleable__control:checked~label.sk-toggleable__label {background-color: #d4ebff;}#sk-container-id-2 input.sk-hidden--visually {border: 0;clip: rect(1px 1px 1px 1px);clip: rect(1px, 1px, 1px, 1px);height: 1px;margin: -1px;overflow: hidden;padding: 0;position: absolute;width: 1px;}#sk-container-id-2 div.sk-estimator {font-family: monospace;background-color: #f0f8ff;border: 1px dotted black;border-radius: 0.25em;box-sizing: border-box;margin-bottom: 0.5em;}#sk-container-id-2 div.sk-estimator:hover {background-color: #d4ebff;}#sk-container-id-2 div.sk-parallel-item::after {content: \"\";width: 100%;border-bottom: 1px solid gray;flex-grow: 1;}#sk-container-id-2 div.sk-label:hover label.sk-toggleable__label {background-color: #d4ebff;}#sk-container-id-2 div.sk-serial::before {content: \"\";position: absolute;border-left: 1px solid gray;box-sizing: border-box;top: 0;bottom: 0;left: 50%;z-index: 0;}#sk-container-id-2 div.sk-serial {display: flex;flex-direction: column;align-items: center;background-color: white;padding-right: 0.2em;padding-left: 0.2em;position: relative;}#sk-container-id-2 div.sk-item {position: relative;z-index: 1;}#sk-container-id-2 div.sk-parallel {display: flex;align-items: stretch;justify-content: center;background-color: white;position: relative;}#sk-container-id-2 div.sk-item::before, #sk-container-id-2 div.sk-parallel-item::before {content: \"\";position: absolute;border-left: 1px solid gray;box-sizing: border-box;top: 0;bottom: 0;left: 50%;z-index: -1;}#sk-container-id-2 div.sk-parallel-item {display: flex;flex-direction: column;z-index: 1;position: relative;background-color: white;}#sk-container-id-2 div.sk-parallel-item:first-child::after {align-self: flex-end;width: 50%;}#sk-container-id-2 div.sk-parallel-item:last-child::after {align-self: flex-start;width: 50%;}#sk-container-id-2 div.sk-parallel-item:only-child::after {width: 0;}#sk-container-id-2 div.sk-dashed-wrapped {border: 1px dashed gray;margin: 0 0.4em 0.5em 0.4em;box-sizing: border-box;padding-bottom: 0.4em;background-color: white;}#sk-container-id-2 div.sk-label label {font-family: monospace;font-weight: bold;display: inline-block;line-height: 1.2em;}#sk-container-id-2 div.sk-label-container {text-align: center;}#sk-container-id-2 div.sk-container {/* jupyter's `normalize.less` sets `[hidden] { display: none; }` but bootstrap.min.css set `[hidden] { display: none !important; }` so we also need the `!important` here to be able to override the default hidden behavior on the sphinx rendered scikit-learn.org. See: https://github.com/scikit-learn/scikit-learn/issues/21755 */display: inline-block !important;position: relative;}#sk-container-id-2 div.sk-text-repr-fallback {display: none;}</style><div id=\"sk-container-id-2\" class=\"sk-top-container\"><div class=\"sk-text-repr-fallback\"><pre>DecisionTreeClassifier(max_depth=8, min_samples_split=13)</pre><b>In a Jupyter environment, please rerun this cell to show the HTML representation or trust the notebook. <br />On GitHub, the HTML representation is unable to render, please try loading this page with nbviewer.org.</b></div><div class=\"sk-container\" hidden><div class=\"sk-item\"><div class=\"sk-estimator sk-toggleable\"><input class=\"sk-toggleable__control sk-hidden--visually\" id=\"sk-estimator-id-2\" type=\"checkbox\" checked><label for=\"sk-estimator-id-2\" class=\"sk-toggleable__label sk-toggleable__label-arrow\">DecisionTreeClassifier</label><div class=\"sk-toggleable__content\"><pre>DecisionTreeClassifier(max_depth=8, min_samples_split=13)</pre></div></div></div></div></div>"
      ],
      "text/plain": [
       "DecisionTreeClassifier(max_depth=8, min_samples_split=13)"
      ]
     },
     "execution_count": 27,
     "metadata": {},
     "output_type": "execute_result"
    }
   ],
   "source": [
    "dtc = g_dtc.best_estimator_\n",
    "dtc"
   ]
  },
  {
   "cell_type": "code",
   "execution_count": 28,
   "id": "9bbac353-7b21-4e34-961c-1a54cd0cd3b0",
   "metadata": {},
   "outputs": [
    {
     "name": "stdout",
     "output_type": "stream",
     "text": [
      "DecisionTreeClassifier(max_depth=8, min_samples_split=13)\n"
     ]
    }
   ],
   "source": [
    "print(dtc)"
   ]
  },
  {
   "cell_type": "code",
   "execution_count": 29,
   "id": "55e123ab-a71e-4740-bc2c-240af6622582",
   "metadata": {},
   "outputs": [],
   "source": [
    "# from sklearn.tree import export_graphviz\n",
    "\n",
    "# # 파일 내보내기\n",
    "# export_graphviz(\n",
    "#     dtc, \n",
    "#     out_file='./images/health_dtc02.dot',\n",
    "#     class_names = [str(class_) for class_ in result_encoder.classes_],\n",
    "#     feature_names=features.columns, \n",
    "#     impurity=True, \n",
    "#     filled=True\n",
    "# )"
   ]
  },
  {
   "cell_type": "code",
   "execution_count": 30,
   "id": "764eb185-8a51-41bc-9595-b8582d9ed931",
   "metadata": {},
   "outputs": [],
   "source": [
    "# import graphviz\n",
    "#  # Graphviz를 사용하여 dot 파일을 시각화\n",
    "# with open('./images/health_dtc02.dot') as f:\n",
    "#     health_dtc02 = f.read()\n",
    "\n",
    "# health_dtc02_graph = graphviz.Source(health_dtc02)"
   ]
  },
  {
   "cell_type": "code",
   "execution_count": 31,
   "id": "e7e91224-86cc-438d-bc2e-173155d20c34",
   "metadata": {},
   "outputs": [],
   "source": [
    "# health_dtc02_graph.render(filename='health_dtc02', directory='./images', format='png')"
   ]
  },
  {
   "cell_type": "markdown",
   "id": "b10725a7-d82f-4c0c-bca2-0185c008c257",
   "metadata": {},
   "source": [
    "<img src=\"./images/health_dtc02.png\">"
   ]
  },
  {
   "cell_type": "code",
   "execution_count": 32,
   "id": "f4f090dc-2105-4388-b5b1-f0fb29b09112",
   "metadata": {},
   "outputs": [
    {
     "name": "stdout",
     "output_type": "stream",
     "text": [
      "정확도: 32.4%\n"
     ]
    }
   ],
   "source": [
    "import numpy as np\n",
    "\n",
    "# 정확도 확인\n",
    "from sklearn.metrics import accuracy_score\n",
    "\n",
    "prediction = dtc.predict(X_test)\n",
    "print(f'정확도: {np.round(accuracy_score(y_test, prediction) * 100, 4)}%')"
   ]
  },
  {
   "cell_type": "markdown",
   "id": "5cb546fd-8268-4502-86a5-706a65e58256",
   "metadata": {},
   "source": [
    "#### 📊 1Cycle 결과 \n",
    "정확도가 낮게 나와 학습이 충분하지 않다고 판단되었습니다.\n",
    "스탠다드 스케일링을 \n",
    "하이퍼 파라미터를 조정하여 데이터 품질 개선과 모델 기능 향상이 필요합니다."
   ]
  },
  {
   "cell_type": "code",
   "execution_count": 33,
   "id": "db65ca22-3037-4ba0-9f48-1f9e31c49f1f",
   "metadata": {},
   "outputs": [],
   "source": [
    "# 데이터 분리\n",
    "from sklearn.model_selection import GridSearchCV, train_test_split\n",
    "from sklearn.tree import DecisionTreeClassifier\n",
    "\n",
    "features, targets = h_df.iloc[:, :-1], h_df.iloc[:, -1]\n",
    "\n",
    "X_train, X_test, y_train, y_test = \\\n",
    "train_test_split(features, targets, test_size=0.2, stratify=targets, random_state=124)\n",
    "\n",
    "dtc = DecisionTreeClassifier()\n",
    "\n",
    "# max_depth: graphviz 에서 확인한 깊이\n",
    "# min_samples_split: 노드 분할 시 필요한 최소한의 샘플 수\n",
    "parameters = {'max_depth': [7, 8, 9, 10], 'min_samples_split': [11, 12, 13, 14]}"
   ]
  },
  {
   "cell_type": "code",
   "execution_count": 34,
   "id": "cf6e749e-7815-4dcf-bc26-b827286555bd",
   "metadata": {},
   "outputs": [
    {
     "data": {
      "text/html": [
       "<div>\n",
       "<style scoped>\n",
       "    .dataframe tbody tr th:only-of-type {\n",
       "        vertical-align: middle;\n",
       "    }\n",
       "\n",
       "    .dataframe tbody tr th {\n",
       "        vertical-align: top;\n",
       "    }\n",
       "\n",
       "    .dataframe thead th {\n",
       "        text-align: right;\n",
       "    }\n",
       "</style>\n",
       "<table border=\"1\" class=\"dataframe\">\n",
       "  <thead>\n",
       "    <tr style=\"text-align: right;\">\n",
       "      <th></th>\n",
       "      <th>params</th>\n",
       "      <th>mean_test_score</th>\n",
       "      <th>rank_test_score</th>\n",
       "      <th>split0_test_score</th>\n",
       "      <th>split1_test_score</th>\n",
       "      <th>split2_test_score</th>\n",
       "    </tr>\n",
       "  </thead>\n",
       "  <tbody>\n",
       "    <tr>\n",
       "      <th>0</th>\n",
       "      <td>{'max_depth': 7, 'min_samples_split': 11}</td>\n",
       "      <td>0.341625</td>\n",
       "      <td>11</td>\n",
       "      <td>0.33375</td>\n",
       "      <td>0.32875</td>\n",
       "      <td>0.34875</td>\n",
       "    </tr>\n",
       "    <tr>\n",
       "      <th>1</th>\n",
       "      <td>{'max_depth': 7, 'min_samples_split': 12}</td>\n",
       "      <td>0.341750</td>\n",
       "      <td>10</td>\n",
       "      <td>0.33375</td>\n",
       "      <td>0.32875</td>\n",
       "      <td>0.34875</td>\n",
       "    </tr>\n",
       "    <tr>\n",
       "      <th>2</th>\n",
       "      <td>{'max_depth': 7, 'min_samples_split': 13}</td>\n",
       "      <td>0.341750</td>\n",
       "      <td>9</td>\n",
       "      <td>0.33375</td>\n",
       "      <td>0.32875</td>\n",
       "      <td>0.35000</td>\n",
       "    </tr>\n",
       "    <tr>\n",
       "      <th>3</th>\n",
       "      <td>{'max_depth': 7, 'min_samples_split': 14}</td>\n",
       "      <td>0.342000</td>\n",
       "      <td>8</td>\n",
       "      <td>0.33375</td>\n",
       "      <td>0.32875</td>\n",
       "      <td>0.35125</td>\n",
       "    </tr>\n",
       "    <tr>\n",
       "      <th>4</th>\n",
       "      <td>{'max_depth': 8, 'min_samples_split': 11}</td>\n",
       "      <td>0.342500</td>\n",
       "      <td>5</td>\n",
       "      <td>0.35000</td>\n",
       "      <td>0.34125</td>\n",
       "      <td>0.34125</td>\n",
       "    </tr>\n",
       "    <tr>\n",
       "      <th>5</th>\n",
       "      <td>{'max_depth': 8, 'min_samples_split': 12}</td>\n",
       "      <td>0.342625</td>\n",
       "      <td>4</td>\n",
       "      <td>0.35000</td>\n",
       "      <td>0.34125</td>\n",
       "      <td>0.34125</td>\n",
       "    </tr>\n",
       "    <tr>\n",
       "      <th>6</th>\n",
       "      <td>{'max_depth': 8, 'min_samples_split': 13}</td>\n",
       "      <td>0.342750</td>\n",
       "      <td>2</td>\n",
       "      <td>0.35125</td>\n",
       "      <td>0.34125</td>\n",
       "      <td>0.34250</td>\n",
       "    </tr>\n",
       "    <tr>\n",
       "      <th>7</th>\n",
       "      <td>{'max_depth': 8, 'min_samples_split': 14}</td>\n",
       "      <td>0.342875</td>\n",
       "      <td>1</td>\n",
       "      <td>0.35125</td>\n",
       "      <td>0.34125</td>\n",
       "      <td>0.34375</td>\n",
       "    </tr>\n",
       "    <tr>\n",
       "      <th>8</th>\n",
       "      <td>{'max_depth': 9, 'min_samples_split': 11}</td>\n",
       "      <td>0.341625</td>\n",
       "      <td>11</td>\n",
       "      <td>0.34375</td>\n",
       "      <td>0.32500</td>\n",
       "      <td>0.35125</td>\n",
       "    </tr>\n",
       "    <tr>\n",
       "      <th>9</th>\n",
       "      <td>{'max_depth': 9, 'min_samples_split': 12}</td>\n",
       "      <td>0.342500</td>\n",
       "      <td>7</td>\n",
       "      <td>0.34625</td>\n",
       "      <td>0.32625</td>\n",
       "      <td>0.35250</td>\n",
       "    </tr>\n",
       "    <tr>\n",
       "      <th>10</th>\n",
       "      <td>{'max_depth': 9, 'min_samples_split': 13}</td>\n",
       "      <td>0.342500</td>\n",
       "      <td>5</td>\n",
       "      <td>0.34625</td>\n",
       "      <td>0.32250</td>\n",
       "      <td>0.35375</td>\n",
       "    </tr>\n",
       "    <tr>\n",
       "      <th>11</th>\n",
       "      <td>{'max_depth': 9, 'min_samples_split': 14}</td>\n",
       "      <td>0.342625</td>\n",
       "      <td>3</td>\n",
       "      <td>0.34500</td>\n",
       "      <td>0.32250</td>\n",
       "      <td>0.35500</td>\n",
       "    </tr>\n",
       "    <tr>\n",
       "      <th>12</th>\n",
       "      <td>{'max_depth': 10, 'min_samples_split': 11}</td>\n",
       "      <td>0.338000</td>\n",
       "      <td>13</td>\n",
       "      <td>0.35500</td>\n",
       "      <td>0.34625</td>\n",
       "      <td>0.35625</td>\n",
       "    </tr>\n",
       "    <tr>\n",
       "      <th>13</th>\n",
       "      <td>{'max_depth': 10, 'min_samples_split': 12}</td>\n",
       "      <td>0.337375</td>\n",
       "      <td>16</td>\n",
       "      <td>0.35375</td>\n",
       "      <td>0.34875</td>\n",
       "      <td>0.35875</td>\n",
       "    </tr>\n",
       "    <tr>\n",
       "      <th>14</th>\n",
       "      <td>{'max_depth': 10, 'min_samples_split': 13}</td>\n",
       "      <td>0.337625</td>\n",
       "      <td>14</td>\n",
       "      <td>0.35625</td>\n",
       "      <td>0.34875</td>\n",
       "      <td>0.35750</td>\n",
       "    </tr>\n",
       "    <tr>\n",
       "      <th>15</th>\n",
       "      <td>{'max_depth': 10, 'min_samples_split': 14}</td>\n",
       "      <td>0.337625</td>\n",
       "      <td>15</td>\n",
       "      <td>0.35875</td>\n",
       "      <td>0.34750</td>\n",
       "      <td>0.35875</td>\n",
       "    </tr>\n",
       "  </tbody>\n",
       "</table>\n",
       "</div>"
      ],
      "text/plain": [
       "                                        params  mean_test_score  \\\n",
       "0    {'max_depth': 7, 'min_samples_split': 11}         0.341625   \n",
       "1    {'max_depth': 7, 'min_samples_split': 12}         0.341750   \n",
       "2    {'max_depth': 7, 'min_samples_split': 13}         0.341750   \n",
       "3    {'max_depth': 7, 'min_samples_split': 14}         0.342000   \n",
       "4    {'max_depth': 8, 'min_samples_split': 11}         0.342500   \n",
       "5    {'max_depth': 8, 'min_samples_split': 12}         0.342625   \n",
       "6    {'max_depth': 8, 'min_samples_split': 13}         0.342750   \n",
       "7    {'max_depth': 8, 'min_samples_split': 14}         0.342875   \n",
       "8    {'max_depth': 9, 'min_samples_split': 11}         0.341625   \n",
       "9    {'max_depth': 9, 'min_samples_split': 12}         0.342500   \n",
       "10   {'max_depth': 9, 'min_samples_split': 13}         0.342500   \n",
       "11   {'max_depth': 9, 'min_samples_split': 14}         0.342625   \n",
       "12  {'max_depth': 10, 'min_samples_split': 11}         0.338000   \n",
       "13  {'max_depth': 10, 'min_samples_split': 12}         0.337375   \n",
       "14  {'max_depth': 10, 'min_samples_split': 13}         0.337625   \n",
       "15  {'max_depth': 10, 'min_samples_split': 14}         0.337625   \n",
       "\n",
       "    rank_test_score  split0_test_score  split1_test_score  split2_test_score  \n",
       "0                11            0.33375            0.32875            0.34875  \n",
       "1                10            0.33375            0.32875            0.34875  \n",
       "2                 9            0.33375            0.32875            0.35000  \n",
       "3                 8            0.33375            0.32875            0.35125  \n",
       "4                 5            0.35000            0.34125            0.34125  \n",
       "5                 4            0.35000            0.34125            0.34125  \n",
       "6                 2            0.35125            0.34125            0.34250  \n",
       "7                 1            0.35125            0.34125            0.34375  \n",
       "8                11            0.34375            0.32500            0.35125  \n",
       "9                 7            0.34625            0.32625            0.35250  \n",
       "10                5            0.34625            0.32250            0.35375  \n",
       "11                3            0.34500            0.32250            0.35500  \n",
       "12               13            0.35500            0.34625            0.35625  \n",
       "13               16            0.35375            0.34875            0.35875  \n",
       "14               14            0.35625            0.34875            0.35750  \n",
       "15               15            0.35875            0.34750            0.35875  "
      ]
     },
     "execution_count": 34,
     "metadata": {},
     "output_type": "execute_result"
    }
   ],
   "source": [
    "g_dtc = GridSearchCV(dtc, param_grid=parameters, cv=10, refit=True, return_train_score=True, n_jobs=-1)\n",
    "\n",
    "# 교차 검증 진행\n",
    "g_dtc.fit(X_train, y_train)\n",
    "\n",
    "pd.DataFrame(g_dtc.cv_results_)[['params', 'mean_test_score', 'rank_test_score', 'split0_test_score', 'split1_test_score', 'split2_test_score']]"
   ]
  },
  {
   "cell_type": "code",
   "execution_count": 35,
   "id": "e75c2d19-35b4-471a-bf77-e7f7c7daa31a",
   "metadata": {},
   "outputs": [
    {
     "data": {
      "text/html": [
       "<style>#sk-container-id-3 {color: black;background-color: white;}#sk-container-id-3 pre{padding: 0;}#sk-container-id-3 div.sk-toggleable {background-color: white;}#sk-container-id-3 label.sk-toggleable__label {cursor: pointer;display: block;width: 100%;margin-bottom: 0;padding: 0.3em;box-sizing: border-box;text-align: center;}#sk-container-id-3 label.sk-toggleable__label-arrow:before {content: \"▸\";float: left;margin-right: 0.25em;color: #696969;}#sk-container-id-3 label.sk-toggleable__label-arrow:hover:before {color: black;}#sk-container-id-3 div.sk-estimator:hover label.sk-toggleable__label-arrow:before {color: black;}#sk-container-id-3 div.sk-toggleable__content {max-height: 0;max-width: 0;overflow: hidden;text-align: left;background-color: #f0f8ff;}#sk-container-id-3 div.sk-toggleable__content pre {margin: 0.2em;color: black;border-radius: 0.25em;background-color: #f0f8ff;}#sk-container-id-3 input.sk-toggleable__control:checked~div.sk-toggleable__content {max-height: 200px;max-width: 100%;overflow: auto;}#sk-container-id-3 input.sk-toggleable__control:checked~label.sk-toggleable__label-arrow:before {content: \"▾\";}#sk-container-id-3 div.sk-estimator input.sk-toggleable__control:checked~label.sk-toggleable__label {background-color: #d4ebff;}#sk-container-id-3 div.sk-label input.sk-toggleable__control:checked~label.sk-toggleable__label {background-color: #d4ebff;}#sk-container-id-3 input.sk-hidden--visually {border: 0;clip: rect(1px 1px 1px 1px);clip: rect(1px, 1px, 1px, 1px);height: 1px;margin: -1px;overflow: hidden;padding: 0;position: absolute;width: 1px;}#sk-container-id-3 div.sk-estimator {font-family: monospace;background-color: #f0f8ff;border: 1px dotted black;border-radius: 0.25em;box-sizing: border-box;margin-bottom: 0.5em;}#sk-container-id-3 div.sk-estimator:hover {background-color: #d4ebff;}#sk-container-id-3 div.sk-parallel-item::after {content: \"\";width: 100%;border-bottom: 1px solid gray;flex-grow: 1;}#sk-container-id-3 div.sk-label:hover label.sk-toggleable__label {background-color: #d4ebff;}#sk-container-id-3 div.sk-serial::before {content: \"\";position: absolute;border-left: 1px solid gray;box-sizing: border-box;top: 0;bottom: 0;left: 50%;z-index: 0;}#sk-container-id-3 div.sk-serial {display: flex;flex-direction: column;align-items: center;background-color: white;padding-right: 0.2em;padding-left: 0.2em;position: relative;}#sk-container-id-3 div.sk-item {position: relative;z-index: 1;}#sk-container-id-3 div.sk-parallel {display: flex;align-items: stretch;justify-content: center;background-color: white;position: relative;}#sk-container-id-3 div.sk-item::before, #sk-container-id-3 div.sk-parallel-item::before {content: \"\";position: absolute;border-left: 1px solid gray;box-sizing: border-box;top: 0;bottom: 0;left: 50%;z-index: -1;}#sk-container-id-3 div.sk-parallel-item {display: flex;flex-direction: column;z-index: 1;position: relative;background-color: white;}#sk-container-id-3 div.sk-parallel-item:first-child::after {align-self: flex-end;width: 50%;}#sk-container-id-3 div.sk-parallel-item:last-child::after {align-self: flex-start;width: 50%;}#sk-container-id-3 div.sk-parallel-item:only-child::after {width: 0;}#sk-container-id-3 div.sk-dashed-wrapped {border: 1px dashed gray;margin: 0 0.4em 0.5em 0.4em;box-sizing: border-box;padding-bottom: 0.4em;background-color: white;}#sk-container-id-3 div.sk-label label {font-family: monospace;font-weight: bold;display: inline-block;line-height: 1.2em;}#sk-container-id-3 div.sk-label-container {text-align: center;}#sk-container-id-3 div.sk-container {/* jupyter's `normalize.less` sets `[hidden] { display: none; }` but bootstrap.min.css set `[hidden] { display: none !important; }` so we also need the `!important` here to be able to override the default hidden behavior on the sphinx rendered scikit-learn.org. See: https://github.com/scikit-learn/scikit-learn/issues/21755 */display: inline-block !important;position: relative;}#sk-container-id-3 div.sk-text-repr-fallback {display: none;}</style><div id=\"sk-container-id-3\" class=\"sk-top-container\"><div class=\"sk-text-repr-fallback\"><pre>DecisionTreeClassifier(max_depth=8, min_samples_split=14)</pre><b>In a Jupyter environment, please rerun this cell to show the HTML representation or trust the notebook. <br />On GitHub, the HTML representation is unable to render, please try loading this page with nbviewer.org.</b></div><div class=\"sk-container\" hidden><div class=\"sk-item\"><div class=\"sk-estimator sk-toggleable\"><input class=\"sk-toggleable__control sk-hidden--visually\" id=\"sk-estimator-id-3\" type=\"checkbox\" checked><label for=\"sk-estimator-id-3\" class=\"sk-toggleable__label sk-toggleable__label-arrow\">DecisionTreeClassifier</label><div class=\"sk-toggleable__content\"><pre>DecisionTreeClassifier(max_depth=8, min_samples_split=14)</pre></div></div></div></div></div>"
      ],
      "text/plain": [
       "DecisionTreeClassifier(max_depth=8, min_samples_split=14)"
      ]
     },
     "execution_count": 35,
     "metadata": {},
     "output_type": "execute_result"
    }
   ],
   "source": [
    "dtc = g_dtc.best_estimator_\n",
    "dtc"
   ]
  },
  {
   "cell_type": "code",
   "execution_count": 36,
   "id": "703c522b-618a-4034-93d9-aaea60e48c69",
   "metadata": {},
   "outputs": [
    {
     "name": "stdout",
     "output_type": "stream",
     "text": [
      "정확도: 32.35%\n"
     ]
    }
   ],
   "source": [
    "import numpy as np\n",
    "\n",
    "# 정확도 확인\n",
    "from sklearn.metrics import accuracy_score\n",
    "\n",
    "prediction = dtc.predict(X_test)\n",
    "print(f'정확도: {np.round(accuracy_score(y_test, prediction) * 100, 4)}%')"
   ]
  },
  {
   "cell_type": "markdown",
   "id": "e87fa0e4-7fb3-4f00-baae-90aeb139bfd7",
   "metadata": {},
   "source": [
    "#### 📊 2Cycle 결과 \n",
    "1cycle에서 나온 best_estimator을 기준으로 하이퍼 파라미터를 여러번 조정하였으나 정확도가 하락하였습니다.  \n",
    "다른 방법으로 분석하여 비교가 필요합니다.  "
   ]
  },
  {
   "cell_type": "markdown",
   "id": "463ba5ef-2cb5-4689-ac0c-0799aa72a94f",
   "metadata": {},
   "source": [
    "### **🚑 SVC**"
   ]
  },
  {
   "cell_type": "markdown",
   "id": "6cc4a7b4-8c76-422e-99d5-2054179b9688",
   "metadata": {},
   "source": [
    "스케일링 전 svc 실행해보기"
   ]
  },
  {
   "cell_type": "code",
   "execution_count": 37,
   "id": "bd31bb68-681e-4bca-851e-5a656a460cf7",
   "metadata": {},
   "outputs": [
    {
     "data": {
      "text/html": [
       "<style>#sk-container-id-4 {color: black;background-color: white;}#sk-container-id-4 pre{padding: 0;}#sk-container-id-4 div.sk-toggleable {background-color: white;}#sk-container-id-4 label.sk-toggleable__label {cursor: pointer;display: block;width: 100%;margin-bottom: 0;padding: 0.3em;box-sizing: border-box;text-align: center;}#sk-container-id-4 label.sk-toggleable__label-arrow:before {content: \"▸\";float: left;margin-right: 0.25em;color: #696969;}#sk-container-id-4 label.sk-toggleable__label-arrow:hover:before {color: black;}#sk-container-id-4 div.sk-estimator:hover label.sk-toggleable__label-arrow:before {color: black;}#sk-container-id-4 div.sk-toggleable__content {max-height: 0;max-width: 0;overflow: hidden;text-align: left;background-color: #f0f8ff;}#sk-container-id-4 div.sk-toggleable__content pre {margin: 0.2em;color: black;border-radius: 0.25em;background-color: #f0f8ff;}#sk-container-id-4 input.sk-toggleable__control:checked~div.sk-toggleable__content {max-height: 200px;max-width: 100%;overflow: auto;}#sk-container-id-4 input.sk-toggleable__control:checked~label.sk-toggleable__label-arrow:before {content: \"▾\";}#sk-container-id-4 div.sk-estimator input.sk-toggleable__control:checked~label.sk-toggleable__label {background-color: #d4ebff;}#sk-container-id-4 div.sk-label input.sk-toggleable__control:checked~label.sk-toggleable__label {background-color: #d4ebff;}#sk-container-id-4 input.sk-hidden--visually {border: 0;clip: rect(1px 1px 1px 1px);clip: rect(1px, 1px, 1px, 1px);height: 1px;margin: -1px;overflow: hidden;padding: 0;position: absolute;width: 1px;}#sk-container-id-4 div.sk-estimator {font-family: monospace;background-color: #f0f8ff;border: 1px dotted black;border-radius: 0.25em;box-sizing: border-box;margin-bottom: 0.5em;}#sk-container-id-4 div.sk-estimator:hover {background-color: #d4ebff;}#sk-container-id-4 div.sk-parallel-item::after {content: \"\";width: 100%;border-bottom: 1px solid gray;flex-grow: 1;}#sk-container-id-4 div.sk-label:hover label.sk-toggleable__label {background-color: #d4ebff;}#sk-container-id-4 div.sk-serial::before {content: \"\";position: absolute;border-left: 1px solid gray;box-sizing: border-box;top: 0;bottom: 0;left: 50%;z-index: 0;}#sk-container-id-4 div.sk-serial {display: flex;flex-direction: column;align-items: center;background-color: white;padding-right: 0.2em;padding-left: 0.2em;position: relative;}#sk-container-id-4 div.sk-item {position: relative;z-index: 1;}#sk-container-id-4 div.sk-parallel {display: flex;align-items: stretch;justify-content: center;background-color: white;position: relative;}#sk-container-id-4 div.sk-item::before, #sk-container-id-4 div.sk-parallel-item::before {content: \"\";position: absolute;border-left: 1px solid gray;box-sizing: border-box;top: 0;bottom: 0;left: 50%;z-index: -1;}#sk-container-id-4 div.sk-parallel-item {display: flex;flex-direction: column;z-index: 1;position: relative;background-color: white;}#sk-container-id-4 div.sk-parallel-item:first-child::after {align-self: flex-end;width: 50%;}#sk-container-id-4 div.sk-parallel-item:last-child::after {align-self: flex-start;width: 50%;}#sk-container-id-4 div.sk-parallel-item:only-child::after {width: 0;}#sk-container-id-4 div.sk-dashed-wrapped {border: 1px dashed gray;margin: 0 0.4em 0.5em 0.4em;box-sizing: border-box;padding-bottom: 0.4em;background-color: white;}#sk-container-id-4 div.sk-label label {font-family: monospace;font-weight: bold;display: inline-block;line-height: 1.2em;}#sk-container-id-4 div.sk-label-container {text-align: center;}#sk-container-id-4 div.sk-container {/* jupyter's `normalize.less` sets `[hidden] { display: none; }` but bootstrap.min.css set `[hidden] { display: none !important; }` so we also need the `!important` here to be able to override the default hidden behavior on the sphinx rendered scikit-learn.org. See: https://github.com/scikit-learn/scikit-learn/issues/21755 */display: inline-block !important;position: relative;}#sk-container-id-4 div.sk-text-repr-fallback {display: none;}</style><div id=\"sk-container-id-4\" class=\"sk-top-container\"><div class=\"sk-text-repr-fallback\"><pre>GridSearchCV(cv=5,\n",
       "             estimator=Pipeline(steps=[(&#x27;standard_scaler&#x27;, StandardScaler()),\n",
       "                                       (&#x27;svc&#x27;, SVC(probability=True))]),\n",
       "             param_grid={&#x27;svc__C&#x27;: [0.01, 0.1, 1, 10, 100],\n",
       "                         &#x27;svc__gamma&#x27;: [0.001, 0.01, 0.1, 1, 10, 100],\n",
       "                         &#x27;svc__kernel&#x27;: [&#x27;linear&#x27;, &#x27;rbf&#x27;]},\n",
       "             return_train_score=True)</pre><b>In a Jupyter environment, please rerun this cell to show the HTML representation or trust the notebook. <br />On GitHub, the HTML representation is unable to render, please try loading this page with nbviewer.org.</b></div><div class=\"sk-container\" hidden><div class=\"sk-item sk-dashed-wrapped\"><div class=\"sk-label-container\"><div class=\"sk-label sk-toggleable\"><input class=\"sk-toggleable__control sk-hidden--visually\" id=\"sk-estimator-id-4\" type=\"checkbox\" ><label for=\"sk-estimator-id-4\" class=\"sk-toggleable__label sk-toggleable__label-arrow\">GridSearchCV</label><div class=\"sk-toggleable__content\"><pre>GridSearchCV(cv=5,\n",
       "             estimator=Pipeline(steps=[(&#x27;standard_scaler&#x27;, StandardScaler()),\n",
       "                                       (&#x27;svc&#x27;, SVC(probability=True))]),\n",
       "             param_grid={&#x27;svc__C&#x27;: [0.01, 0.1, 1, 10, 100],\n",
       "                         &#x27;svc__gamma&#x27;: [0.001, 0.01, 0.1, 1, 10, 100],\n",
       "                         &#x27;svc__kernel&#x27;: [&#x27;linear&#x27;, &#x27;rbf&#x27;]},\n",
       "             return_train_score=True)</pre></div></div></div><div class=\"sk-parallel\"><div class=\"sk-parallel-item\"><div class=\"sk-item\"><div class=\"sk-label-container\"><div class=\"sk-label sk-toggleable\"><input class=\"sk-toggleable__control sk-hidden--visually\" id=\"sk-estimator-id-5\" type=\"checkbox\" ><label for=\"sk-estimator-id-5\" class=\"sk-toggleable__label sk-toggleable__label-arrow\">estimator: Pipeline</label><div class=\"sk-toggleable__content\"><pre>Pipeline(steps=[(&#x27;standard_scaler&#x27;, StandardScaler()),\n",
       "                (&#x27;svc&#x27;, SVC(probability=True))])</pre></div></div></div><div class=\"sk-serial\"><div class=\"sk-item\"><div class=\"sk-serial\"><div class=\"sk-item\"><div class=\"sk-estimator sk-toggleable\"><input class=\"sk-toggleable__control sk-hidden--visually\" id=\"sk-estimator-id-6\" type=\"checkbox\" ><label for=\"sk-estimator-id-6\" class=\"sk-toggleable__label sk-toggleable__label-arrow\">StandardScaler</label><div class=\"sk-toggleable__content\"><pre>StandardScaler()</pre></div></div></div><div class=\"sk-item\"><div class=\"sk-estimator sk-toggleable\"><input class=\"sk-toggleable__control sk-hidden--visually\" id=\"sk-estimator-id-7\" type=\"checkbox\" ><label for=\"sk-estimator-id-7\" class=\"sk-toggleable__label sk-toggleable__label-arrow\">SVC</label><div class=\"sk-toggleable__content\"><pre>SVC(probability=True)</pre></div></div></div></div></div></div></div></div></div></div></div></div>"
      ],
      "text/plain": [
       "GridSearchCV(cv=5,\n",
       "             estimator=Pipeline(steps=[('standard_scaler', StandardScaler()),\n",
       "                                       ('svc', SVC(probability=True))]),\n",
       "             param_grid={'svc__C': [0.01, 0.1, 1, 10, 100],\n",
       "                         'svc__gamma': [0.001, 0.01, 0.1, 1, 10, 100],\n",
       "                         'svc__kernel': ['linear', 'rbf']},\n",
       "             return_train_score=True)"
      ]
     },
     "execution_count": 37,
     "metadata": {},
     "output_type": "execute_result"
    }
   ],
   "source": [
    "from sklearn.model_selection import GridSearchCV, train_test_split\n",
    "from sklearn.svm import SVC\n",
    "from sklearn.preprocessing import StandardScaler\n",
    "from sklearn.pipeline import Pipeline\n",
    "\n",
    "features, targets = h_df.iloc[:, :-1], h_df.iloc[:, -1]\n",
    "\n",
    "X_train, X_test, y_train, y_test = \\\n",
    "train_test_split(features, targets, stratify=targets, test_size=0.2, random_state=124)\n",
    "\n",
    "parameters = {\n",
    "    'svc__C': [0.01, 0.1, 1, 10, 100],\n",
    "    'svc__gamma': [0.001, 0.01, 0.1, 1, 10, 100],\n",
    "    'svc__kernel': ['linear', 'rbf']\n",
    "}\n",
    "\n",
    "svc_pipe = Pipeline([('standard_scaler', StandardScaler()), ('svc', SVC(probability=True))])\n",
    "\n",
    "g_svc = GridSearchCV(svc_pipe, param_grid=parameters, cv=5, refit=True, return_train_score=True)\n",
    "g_svc.fit(X_train, y_train)"
   ]
  },
  {
   "cell_type": "code",
   "execution_count": 38,
   "id": "c5780fb2-028d-44b5-a5e5-98411b5edffe",
   "metadata": {},
   "outputs": [
    {
     "data": {
      "text/html": [
       "<div>\n",
       "<style scoped>\n",
       "    .dataframe tbody tr th:only-of-type {\n",
       "        vertical-align: middle;\n",
       "    }\n",
       "\n",
       "    .dataframe tbody tr th {\n",
       "        vertical-align: top;\n",
       "    }\n",
       "\n",
       "    .dataframe thead th {\n",
       "        text-align: right;\n",
       "    }\n",
       "</style>\n",
       "<table border=\"1\" class=\"dataframe\">\n",
       "  <thead>\n",
       "    <tr style=\"text-align: right;\">\n",
       "      <th></th>\n",
       "      <th>params</th>\n",
       "      <th>mean_test_score</th>\n",
       "      <th>rank_test_score</th>\n",
       "    </tr>\n",
       "  </thead>\n",
       "  <tbody>\n",
       "    <tr>\n",
       "      <th>0</th>\n",
       "      <td>{'svc__C': 0.01, 'svc__gamma': 0.001, 'svc__ke...</td>\n",
       "      <td>0.345625</td>\n",
       "      <td>2</td>\n",
       "    </tr>\n",
       "    <tr>\n",
       "      <th>1</th>\n",
       "      <td>{'svc__C': 0.01, 'svc__gamma': 0.001, 'svc__ke...</td>\n",
       "      <td>0.345625</td>\n",
       "      <td>2</td>\n",
       "    </tr>\n",
       "    <tr>\n",
       "      <th>2</th>\n",
       "      <td>{'svc__C': 0.01, 'svc__gamma': 0.01, 'svc__ker...</td>\n",
       "      <td>0.345625</td>\n",
       "      <td>2</td>\n",
       "    </tr>\n",
       "    <tr>\n",
       "      <th>3</th>\n",
       "      <td>{'svc__C': 0.01, 'svc__gamma': 0.01, 'svc__ker...</td>\n",
       "      <td>0.345625</td>\n",
       "      <td>2</td>\n",
       "    </tr>\n",
       "    <tr>\n",
       "      <th>4</th>\n",
       "      <td>{'svc__C': 0.01, 'svc__gamma': 0.1, 'svc__kern...</td>\n",
       "      <td>0.345625</td>\n",
       "      <td>2</td>\n",
       "    </tr>\n",
       "    <tr>\n",
       "      <th>5</th>\n",
       "      <td>{'svc__C': 0.01, 'svc__gamma': 0.1, 'svc__kern...</td>\n",
       "      <td>0.345625</td>\n",
       "      <td>2</td>\n",
       "    </tr>\n",
       "    <tr>\n",
       "      <th>6</th>\n",
       "      <td>{'svc__C': 0.01, 'svc__gamma': 1, 'svc__kernel...</td>\n",
       "      <td>0.345625</td>\n",
       "      <td>2</td>\n",
       "    </tr>\n",
       "    <tr>\n",
       "      <th>7</th>\n",
       "      <td>{'svc__C': 0.01, 'svc__gamma': 1, 'svc__kernel...</td>\n",
       "      <td>0.345625</td>\n",
       "      <td>2</td>\n",
       "    </tr>\n",
       "    <tr>\n",
       "      <th>8</th>\n",
       "      <td>{'svc__C': 0.01, 'svc__gamma': 10, 'svc__kerne...</td>\n",
       "      <td>0.345625</td>\n",
       "      <td>2</td>\n",
       "    </tr>\n",
       "    <tr>\n",
       "      <th>9</th>\n",
       "      <td>{'svc__C': 0.01, 'svc__gamma': 10, 'svc__kerne...</td>\n",
       "      <td>0.345625</td>\n",
       "      <td>2</td>\n",
       "    </tr>\n",
       "    <tr>\n",
       "      <th>10</th>\n",
       "      <td>{'svc__C': 0.01, 'svc__gamma': 100, 'svc__kern...</td>\n",
       "      <td>0.345625</td>\n",
       "      <td>2</td>\n",
       "    </tr>\n",
       "    <tr>\n",
       "      <th>11</th>\n",
       "      <td>{'svc__C': 0.01, 'svc__gamma': 100, 'svc__kern...</td>\n",
       "      <td>0.345625</td>\n",
       "      <td>2</td>\n",
       "    </tr>\n",
       "    <tr>\n",
       "      <th>12</th>\n",
       "      <td>{'svc__C': 0.1, 'svc__gamma': 0.001, 'svc__ker...</td>\n",
       "      <td>0.344375</td>\n",
       "      <td>22</td>\n",
       "    </tr>\n",
       "    <tr>\n",
       "      <th>13</th>\n",
       "      <td>{'svc__C': 0.1, 'svc__gamma': 0.001, 'svc__ker...</td>\n",
       "      <td>0.345625</td>\n",
       "      <td>2</td>\n",
       "    </tr>\n",
       "    <tr>\n",
       "      <th>14</th>\n",
       "      <td>{'svc__C': 0.1, 'svc__gamma': 0.01, 'svc__kern...</td>\n",
       "      <td>0.344375</td>\n",
       "      <td>22</td>\n",
       "    </tr>\n",
       "    <tr>\n",
       "      <th>15</th>\n",
       "      <td>{'svc__C': 0.1, 'svc__gamma': 0.01, 'svc__kern...</td>\n",
       "      <td>0.345625</td>\n",
       "      <td>2</td>\n",
       "    </tr>\n",
       "    <tr>\n",
       "      <th>16</th>\n",
       "      <td>{'svc__C': 0.1, 'svc__gamma': 0.1, 'svc__kerne...</td>\n",
       "      <td>0.344375</td>\n",
       "      <td>22</td>\n",
       "    </tr>\n",
       "    <tr>\n",
       "      <th>17</th>\n",
       "      <td>{'svc__C': 0.1, 'svc__gamma': 0.1, 'svc__kerne...</td>\n",
       "      <td>0.342625</td>\n",
       "      <td>29</td>\n",
       "    </tr>\n",
       "    <tr>\n",
       "      <th>18</th>\n",
       "      <td>{'svc__C': 0.1, 'svc__gamma': 1, 'svc__kernel'...</td>\n",
       "      <td>0.344375</td>\n",
       "      <td>22</td>\n",
       "    </tr>\n",
       "    <tr>\n",
       "      <th>19</th>\n",
       "      <td>{'svc__C': 0.1, 'svc__gamma': 1, 'svc__kernel'...</td>\n",
       "      <td>0.344750</td>\n",
       "      <td>21</td>\n",
       "    </tr>\n",
       "    <tr>\n",
       "      <th>20</th>\n",
       "      <td>{'svc__C': 0.1, 'svc__gamma': 10, 'svc__kernel...</td>\n",
       "      <td>0.344375</td>\n",
       "      <td>22</td>\n",
       "    </tr>\n",
       "    <tr>\n",
       "      <th>21</th>\n",
       "      <td>{'svc__C': 0.1, 'svc__gamma': 10, 'svc__kernel...</td>\n",
       "      <td>0.345625</td>\n",
       "      <td>2</td>\n",
       "    </tr>\n",
       "    <tr>\n",
       "      <th>22</th>\n",
       "      <td>{'svc__C': 0.1, 'svc__gamma': 100, 'svc__kerne...</td>\n",
       "      <td>0.344375</td>\n",
       "      <td>22</td>\n",
       "    </tr>\n",
       "    <tr>\n",
       "      <th>23</th>\n",
       "      <td>{'svc__C': 0.1, 'svc__gamma': 100, 'svc__kerne...</td>\n",
       "      <td>0.345625</td>\n",
       "      <td>2</td>\n",
       "    </tr>\n",
       "    <tr>\n",
       "      <th>24</th>\n",
       "      <td>{'svc__C': 1, 'svc__gamma': 0.001, 'svc__kerne...</td>\n",
       "      <td>0.340625</td>\n",
       "      <td>35</td>\n",
       "    </tr>\n",
       "    <tr>\n",
       "      <th>25</th>\n",
       "      <td>{'svc__C': 1, 'svc__gamma': 0.001, 'svc__kerne...</td>\n",
       "      <td>0.345625</td>\n",
       "      <td>2</td>\n",
       "    </tr>\n",
       "    <tr>\n",
       "      <th>26</th>\n",
       "      <td>{'svc__C': 1, 'svc__gamma': 0.01, 'svc__kernel...</td>\n",
       "      <td>0.340625</td>\n",
       "      <td>35</td>\n",
       "    </tr>\n",
       "    <tr>\n",
       "      <th>27</th>\n",
       "      <td>{'svc__C': 1, 'svc__gamma': 0.01, 'svc__kernel...</td>\n",
       "      <td>0.345625</td>\n",
       "      <td>2</td>\n",
       "    </tr>\n",
       "    <tr>\n",
       "      <th>28</th>\n",
       "      <td>{'svc__C': 1, 'svc__gamma': 0.1, 'svc__kernel'...</td>\n",
       "      <td>0.340625</td>\n",
       "      <td>35</td>\n",
       "    </tr>\n",
       "    <tr>\n",
       "      <th>29</th>\n",
       "      <td>{'svc__C': 1, 'svc__gamma': 0.1, 'svc__kernel'...</td>\n",
       "      <td>0.332750</td>\n",
       "      <td>59</td>\n",
       "    </tr>\n",
       "    <tr>\n",
       "      <th>30</th>\n",
       "      <td>{'svc__C': 1, 'svc__gamma': 1, 'svc__kernel': ...</td>\n",
       "      <td>0.340625</td>\n",
       "      <td>35</td>\n",
       "    </tr>\n",
       "    <tr>\n",
       "      <th>31</th>\n",
       "      <td>{'svc__C': 1, 'svc__gamma': 1, 'svc__kernel': ...</td>\n",
       "      <td>0.328875</td>\n",
       "      <td>60</td>\n",
       "    </tr>\n",
       "    <tr>\n",
       "      <th>32</th>\n",
       "      <td>{'svc__C': 1, 'svc__gamma': 10, 'svc__kernel':...</td>\n",
       "      <td>0.340625</td>\n",
       "      <td>35</td>\n",
       "    </tr>\n",
       "    <tr>\n",
       "      <th>33</th>\n",
       "      <td>{'svc__C': 1, 'svc__gamma': 10, 'svc__kernel':...</td>\n",
       "      <td>0.341500</td>\n",
       "      <td>32</td>\n",
       "    </tr>\n",
       "    <tr>\n",
       "      <th>34</th>\n",
       "      <td>{'svc__C': 1, 'svc__gamma': 100, 'svc__kernel'...</td>\n",
       "      <td>0.340625</td>\n",
       "      <td>35</td>\n",
       "    </tr>\n",
       "    <tr>\n",
       "      <th>35</th>\n",
       "      <td>{'svc__C': 1, 'svc__gamma': 100, 'svc__kernel'...</td>\n",
       "      <td>0.341000</td>\n",
       "      <td>34</td>\n",
       "    </tr>\n",
       "    <tr>\n",
       "      <th>36</th>\n",
       "      <td>{'svc__C': 10, 'svc__gamma': 0.001, 'svc__kern...</td>\n",
       "      <td>0.337625</td>\n",
       "      <td>50</td>\n",
       "    </tr>\n",
       "    <tr>\n",
       "      <th>37</th>\n",
       "      <td>{'svc__C': 10, 'svc__gamma': 0.001, 'svc__kern...</td>\n",
       "      <td>0.345625</td>\n",
       "      <td>2</td>\n",
       "    </tr>\n",
       "    <tr>\n",
       "      <th>38</th>\n",
       "      <td>{'svc__C': 10, 'svc__gamma': 0.01, 'svc__kerne...</td>\n",
       "      <td>0.337625</td>\n",
       "      <td>50</td>\n",
       "    </tr>\n",
       "    <tr>\n",
       "      <th>39</th>\n",
       "      <td>{'svc__C': 10, 'svc__gamma': 0.01, 'svc__kerne...</td>\n",
       "      <td>0.346375</td>\n",
       "      <td>1</td>\n",
       "    </tr>\n",
       "    <tr>\n",
       "      <th>40</th>\n",
       "      <td>{'svc__C': 10, 'svc__gamma': 0.1, 'svc__kernel...</td>\n",
       "      <td>0.337625</td>\n",
       "      <td>50</td>\n",
       "    </tr>\n",
       "    <tr>\n",
       "      <th>41</th>\n",
       "      <td>{'svc__C': 10, 'svc__gamma': 0.1, 'svc__kernel...</td>\n",
       "      <td>0.334500</td>\n",
       "      <td>58</td>\n",
       "    </tr>\n",
       "    <tr>\n",
       "      <th>42</th>\n",
       "      <td>{'svc__C': 10, 'svc__gamma': 1, 'svc__kernel':...</td>\n",
       "      <td>0.337625</td>\n",
       "      <td>50</td>\n",
       "    </tr>\n",
       "    <tr>\n",
       "      <th>43</th>\n",
       "      <td>{'svc__C': 10, 'svc__gamma': 1, 'svc__kernel':...</td>\n",
       "      <td>0.335000</td>\n",
       "      <td>57</td>\n",
       "    </tr>\n",
       "    <tr>\n",
       "      <th>44</th>\n",
       "      <td>{'svc__C': 10, 'svc__gamma': 10, 'svc__kernel'...</td>\n",
       "      <td>0.337625</td>\n",
       "      <td>50</td>\n",
       "    </tr>\n",
       "    <tr>\n",
       "      <th>45</th>\n",
       "      <td>{'svc__C': 10, 'svc__gamma': 10, 'svc__kernel'...</td>\n",
       "      <td>0.338375</td>\n",
       "      <td>48</td>\n",
       "    </tr>\n",
       "    <tr>\n",
       "      <th>46</th>\n",
       "      <td>{'svc__C': 10, 'svc__gamma': 100, 'svc__kernel...</td>\n",
       "      <td>0.337625</td>\n",
       "      <td>50</td>\n",
       "    </tr>\n",
       "    <tr>\n",
       "      <th>47</th>\n",
       "      <td>{'svc__C': 10, 'svc__gamma': 100, 'svc__kernel...</td>\n",
       "      <td>0.341875</td>\n",
       "      <td>30</td>\n",
       "    </tr>\n",
       "    <tr>\n",
       "      <th>48</th>\n",
       "      <td>{'svc__C': 100, 'svc__gamma': 0.001, 'svc__ker...</td>\n",
       "      <td>0.338875</td>\n",
       "      <td>42</td>\n",
       "    </tr>\n",
       "    <tr>\n",
       "      <th>49</th>\n",
       "      <td>{'svc__C': 100, 'svc__gamma': 0.001, 'svc__ker...</td>\n",
       "      <td>0.343250</td>\n",
       "      <td>28</td>\n",
       "    </tr>\n",
       "    <tr>\n",
       "      <th>50</th>\n",
       "      <td>{'svc__C': 100, 'svc__gamma': 0.01, 'svc__kern...</td>\n",
       "      <td>0.338875</td>\n",
       "      <td>42</td>\n",
       "    </tr>\n",
       "    <tr>\n",
       "      <th>51</th>\n",
       "      <td>{'svc__C': 100, 'svc__gamma': 0.01, 'svc__kern...</td>\n",
       "      <td>0.336750</td>\n",
       "      <td>56</td>\n",
       "    </tr>\n",
       "    <tr>\n",
       "      <th>52</th>\n",
       "      <td>{'svc__C': 100, 'svc__gamma': 0.1, 'svc__kerne...</td>\n",
       "      <td>0.338875</td>\n",
       "      <td>42</td>\n",
       "    </tr>\n",
       "    <tr>\n",
       "      <th>53</th>\n",
       "      <td>{'svc__C': 100, 'svc__gamma': 0.1, 'svc__kerne...</td>\n",
       "      <td>0.341250</td>\n",
       "      <td>33</td>\n",
       "    </tr>\n",
       "    <tr>\n",
       "      <th>54</th>\n",
       "      <td>{'svc__C': 100, 'svc__gamma': 1, 'svc__kernel'...</td>\n",
       "      <td>0.338875</td>\n",
       "      <td>42</td>\n",
       "    </tr>\n",
       "    <tr>\n",
       "      <th>55</th>\n",
       "      <td>{'svc__C': 100, 'svc__gamma': 1, 'svc__kernel'...</td>\n",
       "      <td>0.339375</td>\n",
       "      <td>41</td>\n",
       "    </tr>\n",
       "    <tr>\n",
       "      <th>56</th>\n",
       "      <td>{'svc__C': 100, 'svc__gamma': 10, 'svc__kernel...</td>\n",
       "      <td>0.338875</td>\n",
       "      <td>42</td>\n",
       "    </tr>\n",
       "    <tr>\n",
       "      <th>57</th>\n",
       "      <td>{'svc__C': 100, 'svc__gamma': 10, 'svc__kernel...</td>\n",
       "      <td>0.338375</td>\n",
       "      <td>48</td>\n",
       "    </tr>\n",
       "    <tr>\n",
       "      <th>58</th>\n",
       "      <td>{'svc__C': 100, 'svc__gamma': 100, 'svc__kerne...</td>\n",
       "      <td>0.338875</td>\n",
       "      <td>42</td>\n",
       "    </tr>\n",
       "    <tr>\n",
       "      <th>59</th>\n",
       "      <td>{'svc__C': 100, 'svc__gamma': 100, 'svc__kerne...</td>\n",
       "      <td>0.341750</td>\n",
       "      <td>31</td>\n",
       "    </tr>\n",
       "  </tbody>\n",
       "</table>\n",
       "</div>"
      ],
      "text/plain": [
       "                                               params  mean_test_score  \\\n",
       "0   {'svc__C': 0.01, 'svc__gamma': 0.001, 'svc__ke...         0.345625   \n",
       "1   {'svc__C': 0.01, 'svc__gamma': 0.001, 'svc__ke...         0.345625   \n",
       "2   {'svc__C': 0.01, 'svc__gamma': 0.01, 'svc__ker...         0.345625   \n",
       "3   {'svc__C': 0.01, 'svc__gamma': 0.01, 'svc__ker...         0.345625   \n",
       "4   {'svc__C': 0.01, 'svc__gamma': 0.1, 'svc__kern...         0.345625   \n",
       "5   {'svc__C': 0.01, 'svc__gamma': 0.1, 'svc__kern...         0.345625   \n",
       "6   {'svc__C': 0.01, 'svc__gamma': 1, 'svc__kernel...         0.345625   \n",
       "7   {'svc__C': 0.01, 'svc__gamma': 1, 'svc__kernel...         0.345625   \n",
       "8   {'svc__C': 0.01, 'svc__gamma': 10, 'svc__kerne...         0.345625   \n",
       "9   {'svc__C': 0.01, 'svc__gamma': 10, 'svc__kerne...         0.345625   \n",
       "10  {'svc__C': 0.01, 'svc__gamma': 100, 'svc__kern...         0.345625   \n",
       "11  {'svc__C': 0.01, 'svc__gamma': 100, 'svc__kern...         0.345625   \n",
       "12  {'svc__C': 0.1, 'svc__gamma': 0.001, 'svc__ker...         0.344375   \n",
       "13  {'svc__C': 0.1, 'svc__gamma': 0.001, 'svc__ker...         0.345625   \n",
       "14  {'svc__C': 0.1, 'svc__gamma': 0.01, 'svc__kern...         0.344375   \n",
       "15  {'svc__C': 0.1, 'svc__gamma': 0.01, 'svc__kern...         0.345625   \n",
       "16  {'svc__C': 0.1, 'svc__gamma': 0.1, 'svc__kerne...         0.344375   \n",
       "17  {'svc__C': 0.1, 'svc__gamma': 0.1, 'svc__kerne...         0.342625   \n",
       "18  {'svc__C': 0.1, 'svc__gamma': 1, 'svc__kernel'...         0.344375   \n",
       "19  {'svc__C': 0.1, 'svc__gamma': 1, 'svc__kernel'...         0.344750   \n",
       "20  {'svc__C': 0.1, 'svc__gamma': 10, 'svc__kernel...         0.344375   \n",
       "21  {'svc__C': 0.1, 'svc__gamma': 10, 'svc__kernel...         0.345625   \n",
       "22  {'svc__C': 0.1, 'svc__gamma': 100, 'svc__kerne...         0.344375   \n",
       "23  {'svc__C': 0.1, 'svc__gamma': 100, 'svc__kerne...         0.345625   \n",
       "24  {'svc__C': 1, 'svc__gamma': 0.001, 'svc__kerne...         0.340625   \n",
       "25  {'svc__C': 1, 'svc__gamma': 0.001, 'svc__kerne...         0.345625   \n",
       "26  {'svc__C': 1, 'svc__gamma': 0.01, 'svc__kernel...         0.340625   \n",
       "27  {'svc__C': 1, 'svc__gamma': 0.01, 'svc__kernel...         0.345625   \n",
       "28  {'svc__C': 1, 'svc__gamma': 0.1, 'svc__kernel'...         0.340625   \n",
       "29  {'svc__C': 1, 'svc__gamma': 0.1, 'svc__kernel'...         0.332750   \n",
       "30  {'svc__C': 1, 'svc__gamma': 1, 'svc__kernel': ...         0.340625   \n",
       "31  {'svc__C': 1, 'svc__gamma': 1, 'svc__kernel': ...         0.328875   \n",
       "32  {'svc__C': 1, 'svc__gamma': 10, 'svc__kernel':...         0.340625   \n",
       "33  {'svc__C': 1, 'svc__gamma': 10, 'svc__kernel':...         0.341500   \n",
       "34  {'svc__C': 1, 'svc__gamma': 100, 'svc__kernel'...         0.340625   \n",
       "35  {'svc__C': 1, 'svc__gamma': 100, 'svc__kernel'...         0.341000   \n",
       "36  {'svc__C': 10, 'svc__gamma': 0.001, 'svc__kern...         0.337625   \n",
       "37  {'svc__C': 10, 'svc__gamma': 0.001, 'svc__kern...         0.345625   \n",
       "38  {'svc__C': 10, 'svc__gamma': 0.01, 'svc__kerne...         0.337625   \n",
       "39  {'svc__C': 10, 'svc__gamma': 0.01, 'svc__kerne...         0.346375   \n",
       "40  {'svc__C': 10, 'svc__gamma': 0.1, 'svc__kernel...         0.337625   \n",
       "41  {'svc__C': 10, 'svc__gamma': 0.1, 'svc__kernel...         0.334500   \n",
       "42  {'svc__C': 10, 'svc__gamma': 1, 'svc__kernel':...         0.337625   \n",
       "43  {'svc__C': 10, 'svc__gamma': 1, 'svc__kernel':...         0.335000   \n",
       "44  {'svc__C': 10, 'svc__gamma': 10, 'svc__kernel'...         0.337625   \n",
       "45  {'svc__C': 10, 'svc__gamma': 10, 'svc__kernel'...         0.338375   \n",
       "46  {'svc__C': 10, 'svc__gamma': 100, 'svc__kernel...         0.337625   \n",
       "47  {'svc__C': 10, 'svc__gamma': 100, 'svc__kernel...         0.341875   \n",
       "48  {'svc__C': 100, 'svc__gamma': 0.001, 'svc__ker...         0.338875   \n",
       "49  {'svc__C': 100, 'svc__gamma': 0.001, 'svc__ker...         0.343250   \n",
       "50  {'svc__C': 100, 'svc__gamma': 0.01, 'svc__kern...         0.338875   \n",
       "51  {'svc__C': 100, 'svc__gamma': 0.01, 'svc__kern...         0.336750   \n",
       "52  {'svc__C': 100, 'svc__gamma': 0.1, 'svc__kerne...         0.338875   \n",
       "53  {'svc__C': 100, 'svc__gamma': 0.1, 'svc__kerne...         0.341250   \n",
       "54  {'svc__C': 100, 'svc__gamma': 1, 'svc__kernel'...         0.338875   \n",
       "55  {'svc__C': 100, 'svc__gamma': 1, 'svc__kernel'...         0.339375   \n",
       "56  {'svc__C': 100, 'svc__gamma': 10, 'svc__kernel...         0.338875   \n",
       "57  {'svc__C': 100, 'svc__gamma': 10, 'svc__kernel...         0.338375   \n",
       "58  {'svc__C': 100, 'svc__gamma': 100, 'svc__kerne...         0.338875   \n",
       "59  {'svc__C': 100, 'svc__gamma': 100, 'svc__kerne...         0.341750   \n",
       "\n",
       "    rank_test_score  \n",
       "0                 2  \n",
       "1                 2  \n",
       "2                 2  \n",
       "3                 2  \n",
       "4                 2  \n",
       "5                 2  \n",
       "6                 2  \n",
       "7                 2  \n",
       "8                 2  \n",
       "9                 2  \n",
       "10                2  \n",
       "11                2  \n",
       "12               22  \n",
       "13                2  \n",
       "14               22  \n",
       "15                2  \n",
       "16               22  \n",
       "17               29  \n",
       "18               22  \n",
       "19               21  \n",
       "20               22  \n",
       "21                2  \n",
       "22               22  \n",
       "23                2  \n",
       "24               35  \n",
       "25                2  \n",
       "26               35  \n",
       "27                2  \n",
       "28               35  \n",
       "29               59  \n",
       "30               35  \n",
       "31               60  \n",
       "32               35  \n",
       "33               32  \n",
       "34               35  \n",
       "35               34  \n",
       "36               50  \n",
       "37                2  \n",
       "38               50  \n",
       "39                1  \n",
       "40               50  \n",
       "41               58  \n",
       "42               50  \n",
       "43               57  \n",
       "44               50  \n",
       "45               48  \n",
       "46               50  \n",
       "47               30  \n",
       "48               42  \n",
       "49               28  \n",
       "50               42  \n",
       "51               56  \n",
       "52               42  \n",
       "53               33  \n",
       "54               42  \n",
       "55               41  \n",
       "56               42  \n",
       "57               48  \n",
       "58               42  \n",
       "59               31  "
      ]
     },
     "metadata": {},
     "output_type": "display_data"
    }
   ],
   "source": [
    "result_df = pd.DataFrame(g_svc.cv_results_)[['params', 'mean_test_score', 'rank_test_score']]\n",
    "display(result_df)"
   ]
  },
  {
   "cell_type": "code",
   "execution_count": 42,
   "id": "fb89f6d5-8b86-4eec-b371-bf4a8941c651",
   "metadata": {},
   "outputs": [],
   "source": [
    "import matplotlib.pyplot as plt\n",
    "from sklearn.metrics import accuracy_score, precision_score, recall_score, f1_score, roc_auc_score, confusion_matrix, ConfusionMatrixDisplay\n",
    "\n",
    "def get_evaluation(y_test, prediction, classifier=None, X_test=None):\n",
    "    confusion = confusion_matrix(y_test, prediction)\n",
    "    accuracy = accuracy_score(y_test , prediction)\n",
    "    precision = precision_score(y_test , prediction, average='macro')\n",
    "    recall = recall_score(y_test , prediction, average='macro')\n",
    "    f1 = f1_score(y_test, prediction, average='macro')\n",
    "    \n",
    "    print('오차 행렬')\n",
    "    print(confusion)\n",
    "    print('정확도: {0:.4f}, 정밀도: {1:.4f}, 재현율: {2:.4f}, F1: {3:.4f}'.format(accuracy, precision, recall, f1))\n",
    "    print(\"#\" * 80)\n",
    "    \n",
    "    if classifier is not None and  X_test is not None:\n",
    "        fig, axes = plt.subplots(nrows=1, ncols=2, figsize=(12,4))\n",
    "        titles_options = [(\"Confusion matrix\", None), (\"Normalized confusion matrix\", \"true\")]\n",
    "\n",
    "        for (title, normalize), ax in zip(titles_options, axes.flatten()):\n",
    "            disp = ConfusionMatrixDisplay.from_estimator(classifier, X_test, y_test, ax=ax, cmap=plt.cm.Blues, normalize=normalize)\n",
    "            disp.ax_.set_title(title)\n",
    "        plt.show()"
   ]
  },
  {
   "cell_type": "code",
   "execution_count": 43,
   "id": "4801e354-fdda-4efd-b5eb-9d7ad33212ff",
   "metadata": {},
   "outputs": [],
   "source": [
    "svc = g_svc.best_estimator_\n",
    "prediction = g_svc.predict(X_test)"
   ]
  },
  {
   "cell_type": "code",
   "execution_count": 44,
   "id": "7f274829-1ed6-4322-b6e4-e66a70894b86",
   "metadata": {},
   "outputs": [
    {
     "name": "stdout",
     "output_type": "stream",
     "text": [
      "오차 행렬\n",
      "[[390 169 132]\n",
      " [373 158 125]\n",
      " [361 179 113]]\n",
      "정확도: 0.3305, 정밀도: 0.3215, 재현율: 0.3261, F1: 0.3075\n",
      "################################################################################\n"
     ]
    },
    {
     "data": {
      "image/png": "[encoded data removed]",
      "text/plain": [
       "<Figure size 1200x400 with 4 Axes>"
      ]
     },
     "metadata": {},
     "output_type": "display_data"
    }
   ],
   "source": [
    "get_evaluation(y_test, prediction, svc, X_test)"
   ]
  },
  {
   "cell_type": "markdown",
   "id": "746b1a12-58a4-4d4e-a19d-0a53f63f4c83",
   "metadata": {},
   "source": [
    "#### 📊 1Cycle 결과 "
   ]
  },
  {
   "cell_type": "markdown",
   "id": "31f02f81-d186-4f2d-93dd-d2099e774718",
   "metadata": {},
   "source": [
    "### **🚑 KNN**"
   ]
  },
  {
   "cell_type": "code",
   "execution_count": 41,
   "id": "4529b801-f738-48b3-ad70-3680db0e615a",
   "metadata": {},
   "outputs": [
    {
     "data": {
      "text/html": [
       "<style>#sk-container-id-5 {color: black;background-color: white;}#sk-container-id-5 pre{padding: 0;}#sk-container-id-5 div.sk-toggleable {background-color: white;}#sk-container-id-5 label.sk-toggleable__label {cursor: pointer;display: block;width: 100%;margin-bottom: 0;padding: 0.3em;box-sizing: border-box;text-align: center;}#sk-container-id-5 label.sk-toggleable__label-arrow:before {content: \"▸\";float: left;margin-right: 0.25em;color: #696969;}#sk-container-id-5 label.sk-toggleable__label-arrow:hover:before {color: black;}#sk-container-id-5 div.sk-estimator:hover label.sk-toggleable__label-arrow:before {color: black;}#sk-container-id-5 div.sk-toggleable__content {max-height: 0;max-width: 0;overflow: hidden;text-align: left;background-color: #f0f8ff;}#sk-container-id-5 div.sk-toggleable__content pre {margin: 0.2em;color: black;border-radius: 0.25em;background-color: #f0f8ff;}#sk-container-id-5 input.sk-toggleable__control:checked~div.sk-toggleable__content {max-height: 200px;max-width: 100%;overflow: auto;}#sk-container-id-5 input.sk-toggleable__control:checked~label.sk-toggleable__label-arrow:before {content: \"▾\";}#sk-container-id-5 div.sk-estimator input.sk-toggleable__control:checked~label.sk-toggleable__label {background-color: #d4ebff;}#sk-container-id-5 div.sk-label input.sk-toggleable__control:checked~label.sk-toggleable__label {background-color: #d4ebff;}#sk-container-id-5 input.sk-hidden--visually {border: 0;clip: rect(1px 1px 1px 1px);clip: rect(1px, 1px, 1px, 1px);height: 1px;margin: -1px;overflow: hidden;padding: 0;position: absolute;width: 1px;}#sk-container-id-5 div.sk-estimator {font-family: monospace;background-color: #f0f8ff;border: 1px dotted black;border-radius: 0.25em;box-sizing: border-box;margin-bottom: 0.5em;}#sk-container-id-5 div.sk-estimator:hover {background-color: #d4ebff;}#sk-container-id-5 div.sk-parallel-item::after {content: \"\";width: 100%;border-bottom: 1px solid gray;flex-grow: 1;}#sk-container-id-5 div.sk-label:hover label.sk-toggleable__label {background-color: #d4ebff;}#sk-container-id-5 div.sk-serial::before {content: \"\";position: absolute;border-left: 1px solid gray;box-sizing: border-box;top: 0;bottom: 0;left: 50%;z-index: 0;}#sk-container-id-5 div.sk-serial {display: flex;flex-direction: column;align-items: center;background-color: white;padding-right: 0.2em;padding-left: 0.2em;position: relative;}#sk-container-id-5 div.sk-item {position: relative;z-index: 1;}#sk-container-id-5 div.sk-parallel {display: flex;align-items: stretch;justify-content: center;background-color: white;position: relative;}#sk-container-id-5 div.sk-item::before, #sk-container-id-5 div.sk-parallel-item::before {content: \"\";position: absolute;border-left: 1px solid gray;box-sizing: border-box;top: 0;bottom: 0;left: 50%;z-index: -1;}#sk-container-id-5 div.sk-parallel-item {display: flex;flex-direction: column;z-index: 1;position: relative;background-color: white;}#sk-container-id-5 div.sk-parallel-item:first-child::after {align-self: flex-end;width: 50%;}#sk-container-id-5 div.sk-parallel-item:last-child::after {align-self: flex-start;width: 50%;}#sk-container-id-5 div.sk-parallel-item:only-child::after {width: 0;}#sk-container-id-5 div.sk-dashed-wrapped {border: 1px dashed gray;margin: 0 0.4em 0.5em 0.4em;box-sizing: border-box;padding-bottom: 0.4em;background-color: white;}#sk-container-id-5 div.sk-label label {font-family: monospace;font-weight: bold;display: inline-block;line-height: 1.2em;}#sk-container-id-5 div.sk-label-container {text-align: center;}#sk-container-id-5 div.sk-container {/* jupyter's `normalize.less` sets `[hidden] { display: none; }` but bootstrap.min.css set `[hidden] { display: none !important; }` so we also need the `!important` here to be able to override the default hidden behavior on the sphinx rendered scikit-learn.org. See: https://github.com/scikit-learn/scikit-learn/issues/21755 */display: inline-block !important;position: relative;}#sk-container-id-5 div.sk-text-repr-fallback {display: none;}</style><div id=\"sk-container-id-5\" class=\"sk-top-container\"><div class=\"sk-text-repr-fallback\"><pre>GridSearchCV(cv=9, estimator=KNeighborsClassifier(),\n",
       "             param_grid={&#x27;n_neighbors&#x27;: [3, 5, 7]}, return_train_score=True)</pre><b>In a Jupyter environment, please rerun this cell to show the HTML representation or trust the notebook. <br />On GitHub, the HTML representation is unable to render, please try loading this page with nbviewer.org.</b></div><div class=\"sk-container\" hidden><div class=\"sk-item sk-dashed-wrapped\"><div class=\"sk-label-container\"><div class=\"sk-label sk-toggleable\"><input class=\"sk-toggleable__control sk-hidden--visually\" id=\"sk-estimator-id-8\" type=\"checkbox\" ><label for=\"sk-estimator-id-8\" class=\"sk-toggleable__label sk-toggleable__label-arrow\">GridSearchCV</label><div class=\"sk-toggleable__content\"><pre>GridSearchCV(cv=9, estimator=KNeighborsClassifier(),\n",
       "             param_grid={&#x27;n_neighbors&#x27;: [3, 5, 7]}, return_train_score=True)</pre></div></div></div><div class=\"sk-parallel\"><div class=\"sk-parallel-item\"><div class=\"sk-item\"><div class=\"sk-label-container\"><div class=\"sk-label sk-toggleable\"><input class=\"sk-toggleable__control sk-hidden--visually\" id=\"sk-estimator-id-9\" type=\"checkbox\" ><label for=\"sk-estimator-id-9\" class=\"sk-toggleable__label sk-toggleable__label-arrow\">estimator: KNeighborsClassifier</label><div class=\"sk-toggleable__content\"><pre>KNeighborsClassifier()</pre></div></div></div><div class=\"sk-serial\"><div class=\"sk-item\"><div class=\"sk-estimator sk-toggleable\"><input class=\"sk-toggleable__control sk-hidden--visually\" id=\"sk-estimator-id-10\" type=\"checkbox\" ><label for=\"sk-estimator-id-10\" class=\"sk-toggleable__label sk-toggleable__label-arrow\">KNeighborsClassifier</label><div class=\"sk-toggleable__content\"><pre>KNeighborsClassifier()</pre></div></div></div></div></div></div></div></div></div></div>"
      ],
      "text/plain": [
       "GridSearchCV(cv=9, estimator=KNeighborsClassifier(),\n",
       "             param_grid={'n_neighbors': [3, 5, 7]}, return_train_score=True)"
      ]
     },
     "execution_count": 41,
     "metadata": {},
     "output_type": "execute_result"
    }
   ],
   "source": [
    "from sklearn.model_selection import GridSearchCV, train_test_split\n",
    "from sklearn.neighbors import KNeighborsClassifier\n",
    "\n",
    "features, targets = h_df.iloc[:, :-1], h_df.iloc[:, -1]\n",
    "\n",
    "X_train, X_test, y_train, y_test = \\\n",
    "train_test_split(features, targets, stratify=targets, test_size=0.2, random_state=124)\n",
    "\n",
    "knn_c = KNeighborsClassifier()\n",
    "\n",
    "parameters = {\n",
    "    'n_neighbors': [3, 5, 7]\n",
    "}\n",
    "\n",
    "g_knn_c = GridSearchCV(knn_c, param_grid=parameters, cv=9, refit=True, return_train_score=True)\n",
    "g_knn_c.fit(X_train, y_train)"
   ]
  },
  {
   "cell_type": "code",
   "execution_count": null,
   "id": "33958603-7d3b-45e1-a375-46d5027be185",
   "metadata": {},
   "outputs": [],
   "source": [
    "result_df = pd.DataFrame(g_knn_c.cv_results_)[['params', 'mean_test_score', 'rank_test_score']]\n",
    "display(result_df)"
   ]
  },
  {
   "cell_type": "code",
   "execution_count": null,
   "id": "96e6fc50-d247-4c25-aa8d-cb914506eebc",
   "metadata": {},
   "outputs": [],
   "source": [
    "import matplotlib.pyplot as plt\n",
    "from sklearn.metrics import accuracy_score, precision_score, recall_score, f1_score, roc_auc_score, confusion_matrix, ConfusionMatrixDisplay\n",
    "\n",
    "def get_evaluation(y_test, prediction, classifier=None, X_test=None):\n",
    "    confusion = confusion_matrix(y_test, prediction)\n",
    "    accuracy = accuracy_score(y_test , prediction)\n",
    "    precision = precision_score(y_test , prediction, average='macro')\n",
    "    recall = recall_score(y_test , prediction, average='macro')\n",
    "    f1 = f1_score(y_test, prediction, average='macro')\n",
    "    \n",
    "    print('오차 행렬')\n",
    "    print(confusion)\n",
    "    print('정확도: {0:.4f}, 정밀도: {1:.4f}, 재현율: {2:.4f}, F1: {3:.4f}'.format(accuracy, precision, recall, f1))\n",
    "    print(\"#\" * 80)\n",
    "    \n",
    "    if classifier is not None and  X_test is not None:\n",
    "        fig, axes = plt.subplots(nrows=1, ncols=2, figsize=(12,4))\n",
    "        titles_options = [(\"Confusion matrix\", None), (\"Normalized confusion matrix\", \"true\")]\n",
    "\n",
    "        for (title, normalize), ax in zip(titles_options, axes.flatten()):\n",
    "            disp = ConfusionMatrixDisplay.from_estimator(classifier, X_test, y_test, ax=ax, cmap=plt.cm.Blues, normalize=normalize)\n",
    "            disp.ax_.set_title(title)\n",
    "        plt.show()"
   ]
  },
  {
   "cell_type": "code",
   "execution_count": 45,
   "id": "6053ee2b-cfee-487b-ae16-fe18109d160c",
   "metadata": {},
   "outputs": [],
   "source": [
    "knn_c = g_knn_c.best_estimator_\n",
    "prediction = knn_c.predict(X_test)"
   ]
  },
  {
   "cell_type": "code",
   "execution_count": 46,
   "id": "cc52feea-315d-4281-b7f0-136eeb9e5d2a",
   "metadata": {},
   "outputs": [
    {
     "name": "stdout",
     "output_type": "stream",
     "text": [
      "오차 행렬\n",
      "[[352 203 136]\n",
      " [324 205 127]\n",
      " [314 218 121]]\n",
      "정확도: 0.3390, 정밀도: 0.3327, 재현율: 0.3357, F1: 0.3240\n",
      "################################################################################\n"
     ]
    },
    {
     "data": {
      "image/png": "[encoded data removed]",
      "text/plain": [
       "<Figure size 1200x400 with 4 Axes>"
      ]
     },
     "metadata": {},
     "output_type": "display_data"
    }
   ],
   "source": [
    "get_evaluation(y_test, prediction, knn_c, X_test)"
   ]
  },
  {
   "cell_type": "markdown",
   "id": "52ccd7dd-eb24-4cda-8b3e-e575ee88f219",
   "metadata": {},
   "source": [
    "#### 📊 1Cycle 결과 \n",
    "<!-- KNN은 거리 기반 알고리즘이기 때문에 데이터의 스케일이 중요합니다. 때문에 정규화를 통해 특성이 동일한 데이터 스케일을 만들어줍니다.  \n",
    "또한 모델의 성능 향상을 위해서는 더 많은 데이터 수집을 필요로 하므로  \n",
    "불균형 해소 및 최대한 많은 데이터 학습을 위해 업스케일링하여 동일하게 만들어줍니다. -->\n",
    "스탠다드 스케일링으로 다시 해보기"
   ]
  },
  {
   "cell_type": "code",
   "execution_count": 2,
   "id": "636c5c67-01e8-4251-9d2b-4aa0e25f099b",
   "metadata": {},
   "outputs": [
    {
     "ename": "NameError",
     "evalue": "name 'X_train_over' is not defined",
     "output_type": "error",
     "traceback": [
      "\u001b[1;31m---------------------------------------------------------------------------\u001b[0m",
      "\u001b[1;31mNameError\u001b[0m                                 Traceback (most recent call last)",
      "Cell \u001b[1;32mIn[2], line 12\u001b[0m\n\u001b[0;32m      9\u001b[0m knn_pipe \u001b[38;5;241m=\u001b[39m Pipeline([(\u001b[38;5;124m'\u001b[39m\u001b[38;5;124mstandard_scaler\u001b[39m\u001b[38;5;124m'\u001b[39m, StandardScaler()), (\u001b[38;5;124m'\u001b[39m\u001b[38;5;124mknn\u001b[39m\u001b[38;5;124m'\u001b[39m, knn)])\n\u001b[0;32m     10\u001b[0m g_knn \u001b[38;5;241m=\u001b[39m GridSearchCV(knn_pipe, param_grid\u001b[38;5;241m=\u001b[39mknn_parameters, cv\u001b[38;5;241m=\u001b[39m\u001b[38;5;241m3\u001b[39m, refit\u001b[38;5;241m=\u001b[39m\u001b[38;5;28;01mTrue\u001b[39;00m, return_train_score\u001b[38;5;241m=\u001b[39m\u001b[38;5;28;01mTrue\u001b[39;00m, n_jobs\u001b[38;5;241m=\u001b[39m\u001b[38;5;241m-\u001b[39m\u001b[38;5;241m1\u001b[39m)\n\u001b[1;32m---> 12\u001b[0m g_knn\u001b[38;5;241m.\u001b[39mfit(X_train_over, y_train_over)\n",
      "\u001b[1;31mNameError\u001b[0m: name 'X_train_over' is not defined"
     ]
    }
   ],
   "source": [
    "from sklearn.model_selection import GridSearchCV, train_test_split\n",
    "from sklearn.pipeline import Pipeline\n",
    "from sklearn.preprocessing import StandardScaler\n",
    "from sklearn.neighbors import KNeighborsClassifier\n",
    "knn_parameters = {'knn__n_neighbors': [3, 5, 7, 9, 11]}\n",
    "\n",
    "knn = KNeighborsClassifier()\n",
    "\n",
    "knn_pipe = Pipeline([('standard_scaler', StandardScaler()), ('knn', knn)])\n",
    "g_knn = GridSearchCV(knn_pipe, param_grid=knn_parameters, cv=3, refit=True, return_train_score=True, n_jobs=-1)\n",
    "\n",
    "g_knn.fit(X_train_over, y_train_over)"
   ]
  },
  {
   "cell_type": "code",
   "execution_count": 48,
   "id": "e13fda56-2bc3-442d-a0f5-82d03d4ed28f",
   "metadata": {},
   "outputs": [
    {
     "name": "stdout",
     "output_type": "stream",
     "text": [
      "{'knn__n_neighbors': 9}\n"
     ]
    },
    {
     "data": {
      "text/html": [
       "<div>\n",
       "<style scoped>\n",
       "    .dataframe tbody tr th:only-of-type {\n",
       "        vertical-align: middle;\n",
       "    }\n",
       "\n",
       "    .dataframe tbody tr th {\n",
       "        vertical-align: top;\n",
       "    }\n",
       "\n",
       "    .dataframe thead th {\n",
       "        text-align: right;\n",
       "    }\n",
       "</style>\n",
       "<table border=\"1\" class=\"dataframe\">\n",
       "  <thead>\n",
       "    <tr style=\"text-align: right;\">\n",
       "      <th></th>\n",
       "      <th>params</th>\n",
       "      <th>mean_test_score</th>\n",
       "      <th>rank_test_score</th>\n",
       "    </tr>\n",
       "  </thead>\n",
       "  <tbody>\n",
       "    <tr>\n",
       "      <th>0</th>\n",
       "      <td>{'knn__n_neighbors': 3}</td>\n",
       "      <td>0.341105</td>\n",
       "      <td>5</td>\n",
       "    </tr>\n",
       "    <tr>\n",
       "      <th>1</th>\n",
       "      <td>{'knn__n_neighbors': 5}</td>\n",
       "      <td>0.348148</td>\n",
       "      <td>1</td>\n",
       "    </tr>\n",
       "    <tr>\n",
       "      <th>2</th>\n",
       "      <td>{'knn__n_neighbors': 7}</td>\n",
       "      <td>0.345598</td>\n",
       "      <td>3</td>\n",
       "    </tr>\n",
       "    <tr>\n",
       "      <th>3</th>\n",
       "      <td>{'knn__n_neighbors': 9}</td>\n",
       "      <td>0.347298</td>\n",
       "      <td>2</td>\n",
       "    </tr>\n",
       "    <tr>\n",
       "      <th>4</th>\n",
       "      <td>{'knn__n_neighbors': 11}</td>\n",
       "      <td>0.345355</td>\n",
       "      <td>4</td>\n",
       "    </tr>\n",
       "  </tbody>\n",
       "</table>\n",
       "</div>"
      ],
      "text/plain": [
       "                     params  mean_test_score  rank_test_score\n",
       "0   {'knn__n_neighbors': 3}         0.341105                5\n",
       "1   {'knn__n_neighbors': 5}         0.348148                1\n",
       "2   {'knn__n_neighbors': 7}         0.345598                3\n",
       "3   {'knn__n_neighbors': 9}         0.347298                2\n",
       "4  {'knn__n_neighbors': 11}         0.345355                4"
      ]
     },
     "metadata": {},
     "output_type": "display_data"
    },
    {
     "data": {
      "text/html": [
       "<style>#sk-container-id-7 {color: black;background-color: white;}#sk-container-id-7 pre{padding: 0;}#sk-container-id-7 div.sk-toggleable {background-color: white;}#sk-container-id-7 label.sk-toggleable__label {cursor: pointer;display: block;width: 100%;margin-bottom: 0;padding: 0.3em;box-sizing: border-box;text-align: center;}#sk-container-id-7 label.sk-toggleable__label-arrow:before {content: \"▸\";float: left;margin-right: 0.25em;color: #696969;}#sk-container-id-7 label.sk-toggleable__label-arrow:hover:before {color: black;}#sk-container-id-7 div.sk-estimator:hover label.sk-toggleable__label-arrow:before {color: black;}#sk-container-id-7 div.sk-toggleable__content {max-height: 0;max-width: 0;overflow: hidden;text-align: left;background-color: #f0f8ff;}#sk-container-id-7 div.sk-toggleable__content pre {margin: 0.2em;color: black;border-radius: 0.25em;background-color: #f0f8ff;}#sk-container-id-7 input.sk-toggleable__control:checked~div.sk-toggleable__content {max-height: 200px;max-width: 100%;overflow: auto;}#sk-container-id-7 input.sk-toggleable__control:checked~label.sk-toggleable__label-arrow:before {content: \"▾\";}#sk-container-id-7 div.sk-estimator input.sk-toggleable__control:checked~label.sk-toggleable__label {background-color: #d4ebff;}#sk-container-id-7 div.sk-label input.sk-toggleable__control:checked~label.sk-toggleable__label {background-color: #d4ebff;}#sk-container-id-7 input.sk-hidden--visually {border: 0;clip: rect(1px 1px 1px 1px);clip: rect(1px, 1px, 1px, 1px);height: 1px;margin: -1px;overflow: hidden;padding: 0;position: absolute;width: 1px;}#sk-container-id-7 div.sk-estimator {font-family: monospace;background-color: #f0f8ff;border: 1px dotted black;border-radius: 0.25em;box-sizing: border-box;margin-bottom: 0.5em;}#sk-container-id-7 div.sk-estimator:hover {background-color: #d4ebff;}#sk-container-id-7 div.sk-parallel-item::after {content: \"\";width: 100%;border-bottom: 1px solid gray;flex-grow: 1;}#sk-container-id-7 div.sk-label:hover label.sk-toggleable__label {background-color: #d4ebff;}#sk-container-id-7 div.sk-serial::before {content: \"\";position: absolute;border-left: 1px solid gray;box-sizing: border-box;top: 0;bottom: 0;left: 50%;z-index: 0;}#sk-container-id-7 div.sk-serial {display: flex;flex-direction: column;align-items: center;background-color: white;padding-right: 0.2em;padding-left: 0.2em;position: relative;}#sk-container-id-7 div.sk-item {position: relative;z-index: 1;}#sk-container-id-7 div.sk-parallel {display: flex;align-items: stretch;justify-content: center;background-color: white;position: relative;}#sk-container-id-7 div.sk-item::before, #sk-container-id-7 div.sk-parallel-item::before {content: \"\";position: absolute;border-left: 1px solid gray;box-sizing: border-box;top: 0;bottom: 0;left: 50%;z-index: -1;}#sk-container-id-7 div.sk-parallel-item {display: flex;flex-direction: column;z-index: 1;position: relative;background-color: white;}#sk-container-id-7 div.sk-parallel-item:first-child::after {align-self: flex-end;width: 50%;}#sk-container-id-7 div.sk-parallel-item:last-child::after {align-self: flex-start;width: 50%;}#sk-container-id-7 div.sk-parallel-item:only-child::after {width: 0;}#sk-container-id-7 div.sk-dashed-wrapped {border: 1px dashed gray;margin: 0 0.4em 0.5em 0.4em;box-sizing: border-box;padding-bottom: 0.4em;background-color: white;}#sk-container-id-7 div.sk-label label {font-family: monospace;font-weight: bold;display: inline-block;line-height: 1.2em;}#sk-container-id-7 div.sk-label-container {text-align: center;}#sk-container-id-7 div.sk-container {/* jupyter's `normalize.less` sets `[hidden] { display: none; }` but bootstrap.min.css set `[hidden] { display: none !important; }` so we also need the `!important` here to be able to override the default hidden behavior on the sphinx rendered scikit-learn.org. See: https://github.com/scikit-learn/scikit-learn/issues/21755 */display: inline-block !important;position: relative;}#sk-container-id-7 div.sk-text-repr-fallback {display: none;}</style><div id=\"sk-container-id-7\" class=\"sk-top-container\"><div class=\"sk-text-repr-fallback\"><pre>Pipeline(steps=[(&#x27;standard_scaler&#x27;, StandardScaler()),\n",
       "                (&#x27;knn&#x27;, KNeighborsClassifier(n_neighbors=9))])</pre><b>In a Jupyter environment, please rerun this cell to show the HTML representation or trust the notebook. <br />On GitHub, the HTML representation is unable to render, please try loading this page with nbviewer.org.</b></div><div class=\"sk-container\" hidden><div class=\"sk-item sk-dashed-wrapped\"><div class=\"sk-label-container\"><div class=\"sk-label sk-toggleable\"><input class=\"sk-toggleable__control sk-hidden--visually\" id=\"sk-estimator-id-15\" type=\"checkbox\" ><label for=\"sk-estimator-id-15\" class=\"sk-toggleable__label sk-toggleable__label-arrow\">Pipeline</label><div class=\"sk-toggleable__content\"><pre>Pipeline(steps=[(&#x27;standard_scaler&#x27;, StandardScaler()),\n",
       "                (&#x27;knn&#x27;, KNeighborsClassifier(n_neighbors=9))])</pre></div></div></div><div class=\"sk-serial\"><div class=\"sk-item\"><div class=\"sk-estimator sk-toggleable\"><input class=\"sk-toggleable__control sk-hidden--visually\" id=\"sk-estimator-id-16\" type=\"checkbox\" ><label for=\"sk-estimator-id-16\" class=\"sk-toggleable__label sk-toggleable__label-arrow\">StandardScaler</label><div class=\"sk-toggleable__content\"><pre>StandardScaler()</pre></div></div></div><div class=\"sk-item\"><div class=\"sk-estimator sk-toggleable\"><input class=\"sk-toggleable__control sk-hidden--visually\" id=\"sk-estimator-id-17\" type=\"checkbox\" ><label for=\"sk-estimator-id-17\" class=\"sk-toggleable__label sk-toggleable__label-arrow\">KNeighborsClassifier</label><div class=\"sk-toggleable__content\"><pre>KNeighborsClassifier(n_neighbors=9)</pre></div></div></div></div></div></div></div>"
      ],
      "text/plain": [
       "Pipeline(steps=[('standard_scaler', StandardScaler()),\n",
       "                ('knn', KNeighborsClassifier(n_neighbors=9))])"
      ]
     },
     "execution_count": 48,
     "metadata": {},
     "output_type": "execute_result"
    }
   ],
   "source": [
    "knn_result_df = pd.DataFrame(g_knn.cv_results_)[['params', 'mean_test_score', 'rank_test_score']]\n",
    "print(knn_result_df['params'].iloc[3])\n",
    "display(knn_result_df)\n",
    "\n",
    "knn = KNeighborsClassifier(n_neighbors=9)\n",
    "knn_pipe = Pipeline([('standard_scaler', StandardScaler()), ('knn', knn)])\n",
    "\n",
    "knn_pipe.fit(X_train_over, y_train_over)"
   ]
  },
  {
   "cell_type": "code",
   "execution_count": 1,
   "id": "5e9b980a-694f-4b1b-bdc9-3be3e1cff502",
   "metadata": {},
   "outputs": [
    {
     "ename": "NameError",
     "evalue": "name 'g_knn_c' is not defined",
     "output_type": "error",
     "traceback": [
      "\u001b[1;31m---------------------------------------------------------------------------\u001b[0m",
      "\u001b[1;31mNameError\u001b[0m                                 Traceback (most recent call last)",
      "Cell \u001b[1;32mIn[1], line 1\u001b[0m\n\u001b[1;32m----> 1\u001b[0m knn_c \u001b[38;5;241m=\u001b[39m g_knn_c\u001b[38;5;241m.\u001b[39mbest_estimator_\n\u001b[0;32m      2\u001b[0m prediction \u001b[38;5;241m=\u001b[39m knn_c\u001b[38;5;241m.\u001b[39mpredict(X_test)\n",
      "\u001b[1;31mNameError\u001b[0m: name 'g_knn_c' is not defined"
     ]
    }
   ],
   "source": [
    "knn_prediction = knn_pipe.predict(X_test)\n",
    "get_evaluation(y_test, knn_prediction, knn_pipe, X_test)"
   ]
  },
  {
   "cell_type": "markdown",
   "id": "0430d21c-3dfa-4a2f-aa67-da34e5ea4f40",
   "metadata": {},
   "source": [
    "#### 📊 2Cycle 결과\n",
    "스케일링 결과 정확도와 정밀도 재현율이 모두 상승했다"
   ]
  },
  {
   "cell_type": "markdown",
   "id": "50d8b5a9-56a0-4e44-8224-7cfef0f02a4c",
   "metadata": {},
   "source": [
    "### **🚑 Voting**\n",
    "- hard voting\n",
    "- soft voting"
   ]
  },
  {
   "cell_type": "code",
   "execution_count": 50,
   "id": "be150687-8f81-4b9b-8fd3-76818827e6a1",
   "metadata": {},
   "outputs": [],
   "source": [
    "from sklearn.ensemble import VotingClassifier\n",
    "\n",
    "vc = VotingClassifier(estimators=[('dtc', dtc), \n",
    "                             ('svc', svc_pipe), \n",
    "                             ('knn', knn_pipe)], \n",
    "                 voting='soft', \n",
    "                 n_jobs=-1)"
   ]
  },
  {
   "cell_type": "code",
   "execution_count": 51,
   "id": "d9c59815-1e17-47a1-b5e7-1494e5263285",
   "metadata": {},
   "outputs": [
    {
     "data": {
      "text/html": [
       "<style>#sk-container-id-8 {color: black;background-color: white;}#sk-container-id-8 pre{padding: 0;}#sk-container-id-8 div.sk-toggleable {background-color: white;}#sk-container-id-8 label.sk-toggleable__label {cursor: pointer;display: block;width: 100%;margin-bottom: 0;padding: 0.3em;box-sizing: border-box;text-align: center;}#sk-container-id-8 label.sk-toggleable__label-arrow:before {content: \"▸\";float: left;margin-right: 0.25em;color: #696969;}#sk-container-id-8 label.sk-toggleable__label-arrow:hover:before {color: black;}#sk-container-id-8 div.sk-estimator:hover label.sk-toggleable__label-arrow:before {color: black;}#sk-container-id-8 div.sk-toggleable__content {max-height: 0;max-width: 0;overflow: hidden;text-align: left;background-color: #f0f8ff;}#sk-container-id-8 div.sk-toggleable__content pre {margin: 0.2em;color: black;border-radius: 0.25em;background-color: #f0f8ff;}#sk-container-id-8 input.sk-toggleable__control:checked~div.sk-toggleable__content {max-height: 200px;max-width: 100%;overflow: auto;}#sk-container-id-8 input.sk-toggleable__control:checked~label.sk-toggleable__label-arrow:before {content: \"▾\";}#sk-container-id-8 div.sk-estimator input.sk-toggleable__control:checked~label.sk-toggleable__label {background-color: #d4ebff;}#sk-container-id-8 div.sk-label input.sk-toggleable__control:checked~label.sk-toggleable__label {background-color: #d4ebff;}#sk-container-id-8 input.sk-hidden--visually {border: 0;clip: rect(1px 1px 1px 1px);clip: rect(1px, 1px, 1px, 1px);height: 1px;margin: -1px;overflow: hidden;padding: 0;position: absolute;width: 1px;}#sk-container-id-8 div.sk-estimator {font-family: monospace;background-color: #f0f8ff;border: 1px dotted black;border-radius: 0.25em;box-sizing: border-box;margin-bottom: 0.5em;}#sk-container-id-8 div.sk-estimator:hover {background-color: #d4ebff;}#sk-container-id-8 div.sk-parallel-item::after {content: \"\";width: 100%;border-bottom: 1px solid gray;flex-grow: 1;}#sk-container-id-8 div.sk-label:hover label.sk-toggleable__label {background-color: #d4ebff;}#sk-container-id-8 div.sk-serial::before {content: \"\";position: absolute;border-left: 1px solid gray;box-sizing: border-box;top: 0;bottom: 0;left: 50%;z-index: 0;}#sk-container-id-8 div.sk-serial {display: flex;flex-direction: column;align-items: center;background-color: white;padding-right: 0.2em;padding-left: 0.2em;position: relative;}#sk-container-id-8 div.sk-item {position: relative;z-index: 1;}#sk-container-id-8 div.sk-parallel {display: flex;align-items: stretch;justify-content: center;background-color: white;position: relative;}#sk-container-id-8 div.sk-item::before, #sk-container-id-8 div.sk-parallel-item::before {content: \"\";position: absolute;border-left: 1px solid gray;box-sizing: border-box;top: 0;bottom: 0;left: 50%;z-index: -1;}#sk-container-id-8 div.sk-parallel-item {display: flex;flex-direction: column;z-index: 1;position: relative;background-color: white;}#sk-container-id-8 div.sk-parallel-item:first-child::after {align-self: flex-end;width: 50%;}#sk-container-id-8 div.sk-parallel-item:last-child::after {align-self: flex-start;width: 50%;}#sk-container-id-8 div.sk-parallel-item:only-child::after {width: 0;}#sk-container-id-8 div.sk-dashed-wrapped {border: 1px dashed gray;margin: 0 0.4em 0.5em 0.4em;box-sizing: border-box;padding-bottom: 0.4em;background-color: white;}#sk-container-id-8 div.sk-label label {font-family: monospace;font-weight: bold;display: inline-block;line-height: 1.2em;}#sk-container-id-8 div.sk-label-container {text-align: center;}#sk-container-id-8 div.sk-container {/* jupyter's `normalize.less` sets `[hidden] { display: none; }` but bootstrap.min.css set `[hidden] { display: none !important; }` so we also need the `!important` here to be able to override the default hidden behavior on the sphinx rendered scikit-learn.org. See: https://github.com/scikit-learn/scikit-learn/issues/21755 */display: inline-block !important;position: relative;}#sk-container-id-8 div.sk-text-repr-fallback {display: none;}</style><div id=\"sk-container-id-8\" class=\"sk-top-container\"><div class=\"sk-text-repr-fallback\"><pre>VotingClassifier(estimators=[(&#x27;dtc&#x27;,\n",
       "                              DecisionTreeClassifier(max_depth=8,\n",
       "                                                     min_samples_split=14)),\n",
       "                             (&#x27;svc&#x27;,\n",
       "                              Pipeline(steps=[(&#x27;standard_scaler&#x27;,\n",
       "                                               StandardScaler()),\n",
       "                                              (&#x27;svc&#x27;, SVC(probability=True))])),\n",
       "                             (&#x27;knn&#x27;,\n",
       "                              Pipeline(steps=[(&#x27;standard_scaler&#x27;,\n",
       "                                               StandardScaler()),\n",
       "                                              (&#x27;knn&#x27;,\n",
       "                                               KNeighborsClassifier(n_neighbors=9))]))],\n",
       "                 n_jobs=-1, voting=&#x27;soft&#x27;)</pre><b>In a Jupyter environment, please rerun this cell to show the HTML representation or trust the notebook. <br />On GitHub, the HTML representation is unable to render, please try loading this page with nbviewer.org.</b></div><div class=\"sk-container\" hidden><div class=\"sk-item sk-dashed-wrapped\"><div class=\"sk-label-container\"><div class=\"sk-label sk-toggleable\"><input class=\"sk-toggleable__control sk-hidden--visually\" id=\"sk-estimator-id-18\" type=\"checkbox\" ><label for=\"sk-estimator-id-18\" class=\"sk-toggleable__label sk-toggleable__label-arrow\">VotingClassifier</label><div class=\"sk-toggleable__content\"><pre>VotingClassifier(estimators=[(&#x27;dtc&#x27;,\n",
       "                              DecisionTreeClassifier(max_depth=8,\n",
       "                                                     min_samples_split=14)),\n",
       "                             (&#x27;svc&#x27;,\n",
       "                              Pipeline(steps=[(&#x27;standard_scaler&#x27;,\n",
       "                                               StandardScaler()),\n",
       "                                              (&#x27;svc&#x27;, SVC(probability=True))])),\n",
       "                             (&#x27;knn&#x27;,\n",
       "                              Pipeline(steps=[(&#x27;standard_scaler&#x27;,\n",
       "                                               StandardScaler()),\n",
       "                                              (&#x27;knn&#x27;,\n",
       "                                               KNeighborsClassifier(n_neighbors=9))]))],\n",
       "                 n_jobs=-1, voting=&#x27;soft&#x27;)</pre></div></div></div><div class=\"sk-parallel\"><div class=\"sk-parallel-item\"><div class=\"sk-item\"><div class=\"sk-label-container\"><div class=\"sk-label sk-toggleable\"><label>dtc</label></div></div><div class=\"sk-serial\"><div class=\"sk-item\"><div class=\"sk-estimator sk-toggleable\"><input class=\"sk-toggleable__control sk-hidden--visually\" id=\"sk-estimator-id-19\" type=\"checkbox\" ><label for=\"sk-estimator-id-19\" class=\"sk-toggleable__label sk-toggleable__label-arrow\">DecisionTreeClassifier</label><div class=\"sk-toggleable__content\"><pre>DecisionTreeClassifier(max_depth=8, min_samples_split=14)</pre></div></div></div></div></div></div><div class=\"sk-parallel-item\"><div class=\"sk-item\"><div class=\"sk-label-container\"><div class=\"sk-label sk-toggleable\"><label>svc</label></div></div><div class=\"sk-serial\"><div class=\"sk-item\"><div class=\"sk-serial\"><div class=\"sk-item\"><div class=\"sk-estimator sk-toggleable\"><input class=\"sk-toggleable__control sk-hidden--visually\" id=\"sk-estimator-id-20\" type=\"checkbox\" ><label for=\"sk-estimator-id-20\" class=\"sk-toggleable__label sk-toggleable__label-arrow\">StandardScaler</label><div class=\"sk-toggleable__content\"><pre>StandardScaler()</pre></div></div></div><div class=\"sk-item\"><div class=\"sk-estimator sk-toggleable\"><input class=\"sk-toggleable__control sk-hidden--visually\" id=\"sk-estimator-id-21\" type=\"checkbox\" ><label for=\"sk-estimator-id-21\" class=\"sk-toggleable__label sk-toggleable__label-arrow\">SVC</label><div class=\"sk-toggleable__content\"><pre>SVC(probability=True)</pre></div></div></div></div></div></div></div></div><div class=\"sk-parallel-item\"><div class=\"sk-item\"><div class=\"sk-label-container\"><div class=\"sk-label sk-toggleable\"><label>knn</label></div></div><div class=\"sk-serial\"><div class=\"sk-item\"><div class=\"sk-serial\"><div class=\"sk-item\"><div class=\"sk-estimator sk-toggleable\"><input class=\"sk-toggleable__control sk-hidden--visually\" id=\"sk-estimator-id-22\" type=\"checkbox\" ><label for=\"sk-estimator-id-22\" class=\"sk-toggleable__label sk-toggleable__label-arrow\">StandardScaler</label><div class=\"sk-toggleable__content\"><pre>StandardScaler()</pre></div></div></div><div class=\"sk-item\"><div class=\"sk-estimator sk-toggleable\"><input class=\"sk-toggleable__control sk-hidden--visually\" id=\"sk-estimator-id-23\" type=\"checkbox\" ><label for=\"sk-estimator-id-23\" class=\"sk-toggleable__label sk-toggleable__label-arrow\">KNeighborsClassifier</label><div class=\"sk-toggleable__content\"><pre>KNeighborsClassifier(n_neighbors=9)</pre></div></div></div></div></div></div></div></div></div></div></div></div>"
      ],
      "text/plain": [
       "VotingClassifier(estimators=[('dtc',\n",
       "                              DecisionTreeClassifier(max_depth=8,\n",
       "                                                     min_samples_split=14)),\n",
       "                             ('svc',\n",
       "                              Pipeline(steps=[('standard_scaler',\n",
       "                                               StandardScaler()),\n",
       "                                              ('svc', SVC(probability=True))])),\n",
       "                             ('knn',\n",
       "                              Pipeline(steps=[('standard_scaler',\n",
       "                                               StandardScaler()),\n",
       "                                              ('knn',\n",
       "                                               KNeighborsClassifier(n_neighbors=9))]))],\n",
       "                 n_jobs=-1, voting='soft')"
      ]
     },
     "execution_count": 51,
     "metadata": {},
     "output_type": "execute_result"
    }
   ],
   "source": [
    "vc.fit(X_train, y_train)"
   ]
  },
  {
   "cell_type": "code",
   "execution_count": 64,
   "id": "2e8a7e72-4758-43a2-a198-e5573e07a546",
   "metadata": {},
   "outputs": [],
   "source": [
    "import matplotlib.pyplot as plt\n",
    "from sklearn.metrics import accuracy_score, precision_score, recall_score, f1_score, roc_auc_score, confusion_matrix, ConfusionMatrixDisplay\n",
    "\n",
    "def get_evaluation(y_test, prediction, classifier=None, X_test=None):\n",
    "    confusion = confusion_matrix(y_test, prediction)\n",
    "    accuracy = accuracy_score(y_test , prediction)\n",
    "    precision = precision_score(y_test , prediction, average='macro')\n",
    "    recall = recall_score(y_test , prediction, average='macro')\n",
    "    f1 = f1_score(y_test, prediction, average='macro')\n",
    "    \n",
    "    print('오차 행렬')\n",
    "    print(confusion)\n",
    "    print('정확도: {0:.4f}, 정밀도: {1:.4f}, 재현율: {2:.4f}, F1: {3:.4f}'.format(accuracy, precision, recall, f1))\n",
    "    print(\"#\" * 80)\n",
    "    \n",
    "    if classifier is not None and  X_test is not None:\n",
    "        fig, axes = plt.subplots(nrows=1, ncols=2, figsize=(12,4))\n",
    "        titles_options = [(\"Confusion matrix\", None), (\"Normalized confusion matrix\", \"true\")]\n",
    "\n",
    "        for (title, normalize), ax in zip(titles_options, axes.flatten()):\n",
    "            disp = ConfusionMatrixDisplay.from_estimator(classifier, X_test, y_test, ax=ax, cmap=plt.cm.Blues, normalize=normalize)\n",
    "            disp.ax_.set_title(title)\n",
    "        plt.show()"
   ]
  },
  {
   "cell_type": "code",
   "execution_count": 65,
   "id": "15cbb8eb-904a-4817-979d-7cbe003d57f6",
   "metadata": {},
   "outputs": [],
   "source": [
    "prediction = vc.predict(X_test)"
   ]
  },
  {
   "cell_type": "markdown",
   "id": "5388fc6d-920b-429b-bef8-dff1a9d91504",
   "metadata": {},
   "source": [
    "#### 📊 soft Voting 결과"
   ]
  },
  {
   "cell_type": "code",
   "execution_count": 66,
   "id": "32f4cd51-1aca-44b8-b435-c6b18700ac0c",
   "metadata": {},
   "outputs": [
    {
     "name": "stdout",
     "output_type": "stream",
     "text": [
      "오차 행렬\n",
      "[[260 215 216]\n",
      " [231 219 206]\n",
      " [250 203 200]]\n",
      "정확도: 0.3395, 정밀도: 0.3387, 재현율: 0.3388, F1: 0.3385\n",
      "################################################################################\n"
     ]
    },
    {
     "data": {
      "image/png": "[encoded data removed]",
      "text/plain": [
       "<Figure size 1200x400 with 4 Axes>"
      ]
     },
     "metadata": {},
     "output_type": "display_data"
    }
   ],
   "source": [
    "get_evaluation(y_test, prediction, vc, X_test)"
   ]
  },
  {
   "cell_type": "code",
   "execution_count": 67,
   "id": "d6b7a8a7-bd8c-41c4-891b-7a9c12b16207",
   "metadata": {},
   "outputs": [],
   "source": [
    "from sklearn.ensemble import VotingClassifier\n",
    "\n",
    "vc = VotingClassifier(estimators=[('dtc', dtc), \n",
    "                             ('svc', svc_pipe), \n",
    "                             ('knn', knn_pipe)], \n",
    "                 voting='hard', \n",
    "                 n_jobs=-1)"
   ]
  },
  {
   "cell_type": "code",
   "execution_count": 68,
   "id": "d26f35b6-792d-4259-ac5d-660e926c37f7",
   "metadata": {},
   "outputs": [
    {
     "data": {
      "text/html": [
       "<style>#sk-container-id-9 {color: black;background-color: white;}#sk-container-id-9 pre{padding: 0;}#sk-container-id-9 div.sk-toggleable {background-color: white;}#sk-container-id-9 label.sk-toggleable__label {cursor: pointer;display: block;width: 100%;margin-bottom: 0;padding: 0.3em;box-sizing: border-box;text-align: center;}#sk-container-id-9 label.sk-toggleable__label-arrow:before {content: \"▸\";float: left;margin-right: 0.25em;color: #696969;}#sk-container-id-9 label.sk-toggleable__label-arrow:hover:before {color: black;}#sk-container-id-9 div.sk-estimator:hover label.sk-toggleable__label-arrow:before {color: black;}#sk-container-id-9 div.sk-toggleable__content {max-height: 0;max-width: 0;overflow: hidden;text-align: left;background-color: #f0f8ff;}#sk-container-id-9 div.sk-toggleable__content pre {margin: 0.2em;color: black;border-radius: 0.25em;background-color: #f0f8ff;}#sk-container-id-9 input.sk-toggleable__control:checked~div.sk-toggleable__content {max-height: 200px;max-width: 100%;overflow: auto;}#sk-container-id-9 input.sk-toggleable__control:checked~label.sk-toggleable__label-arrow:before {content: \"▾\";}#sk-container-id-9 div.sk-estimator input.sk-toggleable__control:checked~label.sk-toggleable__label {background-color: #d4ebff;}#sk-container-id-9 div.sk-label input.sk-toggleable__control:checked~label.sk-toggleable__label {background-color: #d4ebff;}#sk-container-id-9 input.sk-hidden--visually {border: 0;clip: rect(1px 1px 1px 1px);clip: rect(1px, 1px, 1px, 1px);height: 1px;margin: -1px;overflow: hidden;padding: 0;position: absolute;width: 1px;}#sk-container-id-9 div.sk-estimator {font-family: monospace;background-color: #f0f8ff;border: 1px dotted black;border-radius: 0.25em;box-sizing: border-box;margin-bottom: 0.5em;}#sk-container-id-9 div.sk-estimator:hover {background-color: #d4ebff;}#sk-container-id-9 div.sk-parallel-item::after {content: \"\";width: 100%;border-bottom: 1px solid gray;flex-grow: 1;}#sk-container-id-9 div.sk-label:hover label.sk-toggleable__label {background-color: #d4ebff;}#sk-container-id-9 div.sk-serial::before {content: \"\";position: absolute;border-left: 1px solid gray;box-sizing: border-box;top: 0;bottom: 0;left: 50%;z-index: 0;}#sk-container-id-9 div.sk-serial {display: flex;flex-direction: column;align-items: center;background-color: white;padding-right: 0.2em;padding-left: 0.2em;position: relative;}#sk-container-id-9 div.sk-item {position: relative;z-index: 1;}#sk-container-id-9 div.sk-parallel {display: flex;align-items: stretch;justify-content: center;background-color: white;position: relative;}#sk-container-id-9 div.sk-item::before, #sk-container-id-9 div.sk-parallel-item::before {content: \"\";position: absolute;border-left: 1px solid gray;box-sizing: border-box;top: 0;bottom: 0;left: 50%;z-index: -1;}#sk-container-id-9 div.sk-parallel-item {display: flex;flex-direction: column;z-index: 1;position: relative;background-color: white;}#sk-container-id-9 div.sk-parallel-item:first-child::after {align-self: flex-end;width: 50%;}#sk-container-id-9 div.sk-parallel-item:last-child::after {align-self: flex-start;width: 50%;}#sk-container-id-9 div.sk-parallel-item:only-child::after {width: 0;}#sk-container-id-9 div.sk-dashed-wrapped {border: 1px dashed gray;margin: 0 0.4em 0.5em 0.4em;box-sizing: border-box;padding-bottom: 0.4em;background-color: white;}#sk-container-id-9 div.sk-label label {font-family: monospace;font-weight: bold;display: inline-block;line-height: 1.2em;}#sk-container-id-9 div.sk-label-container {text-align: center;}#sk-container-id-9 div.sk-container {/* jupyter's `normalize.less` sets `[hidden] { display: none; }` but bootstrap.min.css set `[hidden] { display: none !important; }` so we also need the `!important` here to be able to override the default hidden behavior on the sphinx rendered scikit-learn.org. See: https://github.com/scikit-learn/scikit-learn/issues/21755 */display: inline-block !important;position: relative;}#sk-container-id-9 div.sk-text-repr-fallback {display: none;}</style><div id=\"sk-container-id-9\" class=\"sk-top-container\"><div class=\"sk-text-repr-fallback\"><pre>VotingClassifier(estimators=[(&#x27;dtc&#x27;,\n",
       "                              DecisionTreeClassifier(max_depth=8,\n",
       "                                                     min_samples_split=14)),\n",
       "                             (&#x27;svc&#x27;,\n",
       "                              Pipeline(steps=[(&#x27;standard_scaler&#x27;,\n",
       "                                               StandardScaler()),\n",
       "                                              (&#x27;svc&#x27;, SVC(probability=True))])),\n",
       "                             (&#x27;knn&#x27;,\n",
       "                              Pipeline(steps=[(&#x27;standard_scaler&#x27;,\n",
       "                                               StandardScaler()),\n",
       "                                              (&#x27;knn&#x27;,\n",
       "                                               KNeighborsClassifier(n_neighbors=9))]))],\n",
       "                 n_jobs=-1)</pre><b>In a Jupyter environment, please rerun this cell to show the HTML representation or trust the notebook. <br />On GitHub, the HTML representation is unable to render, please try loading this page with nbviewer.org.</b></div><div class=\"sk-container\" hidden><div class=\"sk-item sk-dashed-wrapped\"><div class=\"sk-label-container\"><div class=\"sk-label sk-toggleable\"><input class=\"sk-toggleable__control sk-hidden--visually\" id=\"sk-estimator-id-24\" type=\"checkbox\" ><label for=\"sk-estimator-id-24\" class=\"sk-toggleable__label sk-toggleable__label-arrow\">VotingClassifier</label><div class=\"sk-toggleable__content\"><pre>VotingClassifier(estimators=[(&#x27;dtc&#x27;,\n",
       "                              DecisionTreeClassifier(max_depth=8,\n",
       "                                                     min_samples_split=14)),\n",
       "                             (&#x27;svc&#x27;,\n",
       "                              Pipeline(steps=[(&#x27;standard_scaler&#x27;,\n",
       "                                               StandardScaler()),\n",
       "                                              (&#x27;svc&#x27;, SVC(probability=True))])),\n",
       "                             (&#x27;knn&#x27;,\n",
       "                              Pipeline(steps=[(&#x27;standard_scaler&#x27;,\n",
       "                                               StandardScaler()),\n",
       "                                              (&#x27;knn&#x27;,\n",
       "                                               KNeighborsClassifier(n_neighbors=9))]))],\n",
       "                 n_jobs=-1)</pre></div></div></div><div class=\"sk-parallel\"><div class=\"sk-parallel-item\"><div class=\"sk-item\"><div class=\"sk-label-container\"><div class=\"sk-label sk-toggleable\"><label>dtc</label></div></div><div class=\"sk-serial\"><div class=\"sk-item\"><div class=\"sk-estimator sk-toggleable\"><input class=\"sk-toggleable__control sk-hidden--visually\" id=\"sk-estimator-id-25\" type=\"checkbox\" ><label for=\"sk-estimator-id-25\" class=\"sk-toggleable__label sk-toggleable__label-arrow\">DecisionTreeClassifier</label><div class=\"sk-toggleable__content\"><pre>DecisionTreeClassifier(max_depth=8, min_samples_split=14)</pre></div></div></div></div></div></div><div class=\"sk-parallel-item\"><div class=\"sk-item\"><div class=\"sk-label-container\"><div class=\"sk-label sk-toggleable\"><label>svc</label></div></div><div class=\"sk-serial\"><div class=\"sk-item\"><div class=\"sk-serial\"><div class=\"sk-item\"><div class=\"sk-estimator sk-toggleable\"><input class=\"sk-toggleable__control sk-hidden--visually\" id=\"sk-estimator-id-26\" type=\"checkbox\" ><label for=\"sk-estimator-id-26\" class=\"sk-toggleable__label sk-toggleable__label-arrow\">StandardScaler</label><div class=\"sk-toggleable__content\"><pre>StandardScaler()</pre></div></div></div><div class=\"sk-item\"><div class=\"sk-estimator sk-toggleable\"><input class=\"sk-toggleable__control sk-hidden--visually\" id=\"sk-estimator-id-27\" type=\"checkbox\" ><label for=\"sk-estimator-id-27\" class=\"sk-toggleable__label sk-toggleable__label-arrow\">SVC</label><div class=\"sk-toggleable__content\"><pre>SVC(probability=True)</pre></div></div></div></div></div></div></div></div><div class=\"sk-parallel-item\"><div class=\"sk-item\"><div class=\"sk-label-container\"><div class=\"sk-label sk-toggleable\"><label>knn</label></div></div><div class=\"sk-serial\"><div class=\"sk-item\"><div class=\"sk-serial\"><div class=\"sk-item\"><div class=\"sk-estimator sk-toggleable\"><input class=\"sk-toggleable__control sk-hidden--visually\" id=\"sk-estimator-id-28\" type=\"checkbox\" ><label for=\"sk-estimator-id-28\" class=\"sk-toggleable__label sk-toggleable__label-arrow\">StandardScaler</label><div class=\"sk-toggleable__content\"><pre>StandardScaler()</pre></div></div></div><div class=\"sk-item\"><div class=\"sk-estimator sk-toggleable\"><input class=\"sk-toggleable__control sk-hidden--visually\" id=\"sk-estimator-id-29\" type=\"checkbox\" ><label for=\"sk-estimator-id-29\" class=\"sk-toggleable__label sk-toggleable__label-arrow\">KNeighborsClassifier</label><div class=\"sk-toggleable__content\"><pre>KNeighborsClassifier(n_neighbors=9)</pre></div></div></div></div></div></div></div></div></div></div></div></div>"
      ],
      "text/plain": [
       "VotingClassifier(estimators=[('dtc',\n",
       "                              DecisionTreeClassifier(max_depth=8,\n",
       "                                                     min_samples_split=14)),\n",
       "                             ('svc',\n",
       "                              Pipeline(steps=[('standard_scaler',\n",
       "                                               StandardScaler()),\n",
       "                                              ('svc', SVC(probability=True))])),\n",
       "                             ('knn',\n",
       "                              Pipeline(steps=[('standard_scaler',\n",
       "                                               StandardScaler()),\n",
       "                                              ('knn',\n",
       "                                               KNeighborsClassifier(n_neighbors=9))]))],\n",
       "                 n_jobs=-1)"
      ]
     },
     "execution_count": 68,
     "metadata": {},
     "output_type": "execute_result"
    }
   ],
   "source": [
    "vc.fit(X_train, y_train)"
   ]
  },
  {
   "cell_type": "code",
   "execution_count": 72,
   "id": "d422d8ea-f78b-4a85-8843-a51247660fa6",
   "metadata": {},
   "outputs": [],
   "source": [
    "import matplotlib.pyplot as plt\n",
    "from sklearn.metrics import accuracy_score, precision_score, recall_score, f1_score, roc_auc_score, confusion_matrix, ConfusionMatrixDisplay\n",
    "\n",
    "def get_evaluation(y_test, prediction, classifier=None, X_test=None):\n",
    "    confusion = confusion_matrix(y_test, prediction)\n",
    "    accuracy = accuracy_score(y_test , prediction)\n",
    "    precision = precision_score(y_test , prediction, average='macro')\n",
    "    recall = recall_score(y_test , prediction, average='macro')\n",
    "    f1 = f1_score(y_test, prediction, average='macro')\n",
    "    \n",
    "    print('오차 행렬')\n",
    "    print(confusion)\n",
    "    print('정확도: {0:.4f}, 정밀도: {1:.4f}, 재현율: {2:.4f}, F1: {3:.4f}'.format(accuracy, precision, recall, f1))\n",
    "    print(\"#\" * 80)\n",
    "    \n",
    "    if classifier is not None and  X_test is not None:\n",
    "        fig, axes = plt.subplots(nrows=1, ncols=2, figsize=(12,4))\n",
    "        titles_options = [(\"Confusion matrix\", None), (\"Normalized confusion matrix\", \"true\")]\n",
    "\n",
    "        for (title, normalize), ax in zip(titles_options, axes.flatten()):\n",
    "            disp = ConfusionMatrixDisplay.from_estimator(classifier, X_test, y_test, ax=ax, cmap=plt.cm.Blues, normalize=normalize)\n",
    "            disp.ax_.set_title(title)\n",
    "        plt.show()"
   ]
  },
  {
   "cell_type": "code",
   "execution_count": 73,
   "id": "e9d4b14c-5eea-4df4-9a6d-72bec0cb23af",
   "metadata": {},
   "outputs": [],
   "source": [
    "prediction = vc.predict(X_test)"
   ]
  },
  {
   "cell_type": "markdown",
   "id": "c557edd1-c2b6-40bc-b417-3bd1292bab4c",
   "metadata": {},
   "source": [
    "#### 📊 hard Voting 결과"
   ]
  },
  {
   "cell_type": "code",
   "execution_count": 74,
   "id": "86317625-2260-4c95-84ad-fe92f1d65567",
   "metadata": {},
   "outputs": [
    {
     "name": "stdout",
     "output_type": "stream",
     "text": [
      "오차 행렬\n",
      "[[378 134 179]\n",
      " [363 120 173]\n",
      " [387 120 146]]\n",
      "정확도: 0.3220, 정밀도: 0.3164, 재현율: 0.3178, F1: 0.3008\n",
      "################################################################################\n"
     ]
    },
    {
     "data": {
      "image/png": "[encoded data removed]",
      "text/plain": [
       "<Figure size 1200x400 with 4 Axes>"
      ]
     },
     "metadata": {},
     "output_type": "display_data"
    }
   ],
   "source": [
    "get_evaluation(y_test, prediction, vc, X_test)"
   ]
  },
  {
   "cell_type": "code",
   "execution_count": 75,
   "id": "3abd4955-ede3-4dd6-8c69-b55c7e098827",
   "metadata": {},
   "outputs": [
    {
     "data": {
      "image/png": "[encoded data removed]",
      "text/plain": [
       "<Figure size 640x480 with 1 Axes>"
      ]
     },
     "metadata": {},
     "output_type": "display_data"
    }
   ],
   "source": [
    "# 컬럼별 중요도 확인\n",
    "import matplotlib.pyplot as plt\n",
    "import seaborn as sns\n",
    "\n",
    "sns.barplot(x=dtc.feature_importances_, y=features.columns)\n",
    "plt.show()"
   ]
  },
  {
   "cell_type": "markdown",
   "id": "87973cb5-f324-4ebe-b4aa-09eb573c41d8",
   "metadata": {},
   "source": [
    "### **🚑 Boosting**"
   ]
  },
  {
   "cell_type": "code",
   "execution_count": null,
   "id": "727a377e-b813-47e8-85ed-beab7362fcfb",
   "metadata": {},
   "outputs": [],
   "source": [
    "from sklearn.tree import DecisionTreeClassifier\n",
    "from sklearn.svm import SVC\n",
    "from sklearn.svm import LinearSVC\n",
    "from sklearn.neighbors import KNeighborsClassifier\n",
    "from sklearn.model_selection import GridSearchCV, train_test_split\n",
    "from sklearn.pipeline import Pipeline\n",
    "from sklearn.preprocessing import StandardScaler\n",
    "\n",
    "\n",
    "dtc_parameters = {'dtc__max_depth': [10, 20, 30], 'dtc__min_samples_split': [60, 70, 80]}\n",
    "l_svc_parameters = {'C': [0.001, 0.01, 0.1, 10, 100]}\n",
    "knn_parameters = {'n_neighbors': [3, 5, 7, 9, 11]}\n",
    "\n",
    "dtc = DecisionTreeClassifier()\n",
    "l_svc = LinearSVC(verbose=True)\n",
    "knn = KNeighborsClassifier()\n",
    "\n",
    "dtc_pipe = Pipeline([('standard_scaler', StandardScaler()), ('dtc', dtc)])\n",
    "\n",
    "g_dtc = GridSearchCV(dtc_pipe, param_grid=dtc_parameters, cv=3, refit=True, return_train_score=True)\n",
    "g_l_svc = GridSearchCV(l_svc, param_grid=l_svc_parameters, cv=3, refit=True, return_train_score=True, n_jobs=-1)\n",
    "g_knn = GridSearchCV(knn, param_grid=knn_parameters, cv=3, refit=True, return_train_score=True, n_jobs=-1)"
   ]
  },
  {
   "cell_type": "code",
   "execution_count": null,
   "id": "2a62c9e2-848d-4f47-a25d-5649cf4f8a77",
   "metadata": {},
   "outputs": [],
   "source": [
    "### **🚑 Voting**"
   ]
  },
  {
   "cell_type": "code",
   "execution_count": null,
   "id": "b0ca8bc8-4cdf-4407-9d6d-daa01446768a",
   "metadata": {},
   "outputs": [],
   "source": [
    "from sklearn.tree import DecisionTreeClassifier\n",
    "from sklearn.svm import SVC\n",
    "from sklearn.svm import LinearSVC\n",
    "from sklearn.neighbors import KNeighborsClassifier\n",
    "from sklearn.model_selection import GridSearchCV, train_test_split\n",
    "from sklearn.pipeline import Pipeline\n",
    "from sklearn.preprocessing import StandardScaler\n",
    "\n",
    "\n",
    "dtc_parameters = {'dtc__max_depth': [10, 20, 30], 'dtc__min_samples_split': [60, 70, 80]}\n",
    "l_svc_parameters = {'C': [0.001, 0.01, 0.1, 10, 100]}\n",
    "knn_parameters = {'n_neighbors': [3, 5, 7, 9, 11]}\n",
    "\n",
    "dtc = DecisionTreeClassifier()\n",
    "l_svc = LinearSVC(verbose=True)\n",
    "knn = KNeighborsClassifier()\n",
    "\n",
    "dtc_pipe = Pipeline([('standard_scaler', StandardScaler()), ('dtc', dtc)])\n",
    "\n",
    "g_dtc = GridSearchCV(dtc_pipe, param_grid=dtc_parameters, cv=3, refit=True, return_train_score=True)\n",
    "g_l_svc = GridSearchCV(l_svc, param_grid=l_svc_parameters, cv=3, refit=True, return_train_score=True, n_jobs=-1)\n",
    "g_knn = GridSearchCV(knn, param_grid=knn_parameters, cv=3, refit=True, return_train_score=True, n_jobs=-1)"
   ]
  },
  {
   "cell_type": "code",
   "execution_count": null,
   "id": "331a7bc4-5aed-4100-ae2d-15b5b1ab5e5e",
   "metadata": {},
   "outputs": [],
   "source": [
    "from sklearn.svm import LinearSVC\n",
    "from sklearn.calibration import CalibratedClassifierCV\n",
    "\n",
    "svc_calibrated = LinearSVC(C=0.1)\n",
    "svc_calibrated.fit(X_train_over, y_train_over)\n",
    "soft_svc = CalibratedClassifierCV(svc_calibrated, method='sigmoid')\n",
    "soft_svc.fit(X_train_over, y_train_over)"
   ]
  },
  {
   "cell_type": "code",
   "execution_count": null,
   "id": "fdeec54a-5d26-49fb-95a3-1c3715b55a9c",
   "metadata": {},
   "outputs": [],
   "source": [
    "g_dtc.fit(X_train_over, y_train_over)"
   ]
  },
  {
   "cell_type": "code",
   "execution_count": null,
   "id": "ce522bd1-b240-4252-ba2c-92f0d55b08e7",
   "metadata": {},
   "outputs": [],
   "source": [
    "g_knn.fit(X_train_over, y_train_over)"
   ]
  },
  {
   "cell_type": "code",
   "execution_count": null,
   "id": "1721a6c3-342f-4899-9392-92e30542629e",
   "metadata": {},
   "outputs": [],
   "source": [
    "from sklearn.ensemble import VotingClassifier\n",
    "\n",
    "vc = VotingClassifier(estimators=[\n",
    "    ('dtc', dtc_pipe), ('soft_svc', soft_svc), ('knn', knn)\n",
    "], voting='soft', n_jobs=-1)\n",
    "\n",
    "vc.fit(X_train_over, y_train_over)"
   ]
  },
  {
   "cell_type": "code",
   "execution_count": null,
   "id": "7c640067-61a7-4f28-af7d-c0288953b4aa",
   "metadata": {},
   "outputs": [],
   "source": [
    "prediction = vc.predict(X_test)"
   ]
  },
  {
   "cell_type": "code",
   "execution_count": null,
   "id": "42e051ed-c4c2-4458-92dc-f8157fde16a4",
   "metadata": {},
   "outputs": [],
   "source": [
    "get_evaluation(y_test, prediction, vc, X_test)"
   ]
  },
  {
   "cell_type": "code",
   "execution_count": null,
   "id": "433730f1-772e-4b29-8b8e-d3cc7e6cf983",
   "metadata": {},
   "outputs": [],
   "source": [
    "#### 📊 Voting 결과\n",
    "앙상블 기법 중 하나인 soft viting과 hard voting을 사용하였을 때, 전체적인 성능이 향상되어 높은 정확도를 볼 수 있었다.  \n",
    "voting의 경우 개별 모델들이 서로 다른 유형의 오류를 가졌을 때 오류를 상쇄함으로써 유용하게 쓰일 수 있는데  \n",
    "dtc, knn이 각각 상반되는 결과를 가지고 있어 voting의 결과가 좋게 나올 가능성이 있다.  \n",
    "그 중 정확도가 제일 높은 soft viting이 제일 효율적인 모델이라고 할 수 있다.  "
   ]
  },
  {
   "cell_type": "code",
   "execution_count": null,
   "id": "995785b0-edde-4dc3-afe3-a34b01479a05",
   "metadata": {},
   "outputs": [],
   "source": []
  },
  {
   "cell_type": "code",
   "execution_count": null,
   "id": "8df5308a-6238-443d-a34f-39820bbd53e7",
   "metadata": {},
   "outputs": [],
   "source": []
  },
  {
   "cell_type": "code",
   "execution_count": null,
   "id": "11cf59b7-c3d5-4d6e-9a2b-4fce57686bc2",
   "metadata": {},
   "outputs": [],
   "source": []
  },
  {
   "cell_type": "code",
   "execution_count": null,
   "id": "34b561cd-0205-42f1-af47-171a637bd83a",
   "metadata": {},
   "outputs": [],
   "source": []
  },
  {
   "cell_type": "code",
   "execution_count": null,
   "id": "343f5a05-c927-45d0-8942-9e3d28aa43c8",
   "metadata": {},
   "outputs": [],
   "source": []
  },
  {
   "cell_type": "code",
   "execution_count": null,
   "id": "79439d1b-18a4-477e-a69d-7897140b8bd2",
   "metadata": {},
   "outputs": [],
   "source": []
  },
  {
   "cell_type": "code",
   "execution_count": null,
   "id": "19de6e69-85b7-4d1f-a288-eff604344696",
   "metadata": {},
   "outputs": [],
   "source": []
  },
  {
   "cell_type": "code",
   "execution_count": null,
   "id": "a68855df-34f3-4ef0-a798-209c7101ccb5",
   "metadata": {},
   "outputs": [],
   "source": []
  },
  {
   "cell_type": "code",
   "execution_count": null,
   "id": "4da9c1dc-08fd-422a-9f70-612db115c3d8",
   "metadata": {},
   "outputs": [],
   "source": []
  },
  {
   "cell_type": "code",
   "execution_count": null,
   "id": "edafdf44-7bfc-49e4-bca0-a0600afcf66e",
   "metadata": {},
   "outputs": [],
   "source": []
  },
  {
   "cell_type": "code",
   "execution_count": null,
   "id": "d064184b-2c89-470e-add9-ea71c6bcb224",
   "metadata": {},
   "outputs": [],
   "source": []
  }
 ],
 "metadata": {
  "kernelspec": {
   "display_name": "Python 3 (ipykernel)",
   "language": "python",
   "name": "python3"
  },
  "language_info": {
   "codemirror_mode": {
    "name": "ipython",
    "version": 3
   },
   "file_extension": ".py",
   "mimetype": "text/x-python",
   "name": "python",
   "nbconvert_exporter": "python",
   "pygments_lexer": "ipython3",
   "version": "3.11.8"
  }
 },
 "nbformat": 4,
 "nbformat_minor": 5
}
