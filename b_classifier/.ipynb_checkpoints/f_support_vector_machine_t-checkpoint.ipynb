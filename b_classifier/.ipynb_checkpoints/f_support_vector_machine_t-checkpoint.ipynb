{
 "cells": [
  {
   "attachments": {},
   "cell_type": "markdown",
   "id": "538c35b0-be88-4648-baf1-33bf5d5e25a6",
   "metadata": {},
   "source": [
    "### 서포트 벡터 머신 (SVM, Support Vector Machine)\n",
    "- 기존의 분류 방법들은 '오류율 최소화'의 목적으로 설계되었다면, SVM은 두 부류 사이에 존재하는 '여백 최대화'의 목적으로 설계되었다.\n",
    "- 분류 문제를 해결하는 지도 학습 모델 중 하나이며, 결정 경계라는 데이터 간 경계를 정의함으로써 분류를 할 수 있다.\n",
    "- 새로운 데이터가 경계를 기준으로 어떤 방향에 잡히는지를 확인함으로써 해당 데이터의 카테고리를 예측할 수 있다.\n",
    "- 데이터가 어느 카테고리에 속할지 판단하기 위해 가장 적절한 경계인 결정 경계를 찾는 선형 모델이다.  \n",
    "\n",
    "<img src=\"./images/support_vector_machine01.png\" width=\"400px\" style=\"margin-bottom: 60px;\">\n",
    "\n",
    "#### 서포트 벡터 (Support Vector)\n",
    "- 결정 경계를 결정하는 데이터(벡터)들을 서포트 벡터라고 부른다.\n",
    "- 서포트 벡터들이 결정 경계 (Decision boundary)를 결정한다.\n",
    "- 서포트 벡터와 결정 경계간의 거리를 마진(Margin)이라고 부르고, 마진이 크면 클 수록 좋은 결정 경계가 된다.\n",
    "- 서포트 벡터들을 통해 결정 경계를 결정하게 되고, 다른 학습 데이터들은 무시될 수 있기 때문에 SVM의 속도가 빠를 수 있다.\n",
    "\n",
    "#### 결정 경계 (Decision boundary)\n",
    "- 새로운 데이터가 들어오더라도 결정 경계를 중심으로 두 집단이 멀리 떨어져 있어야 두 집단을 잘 구분할 수 있기 때문에 일반화하기 쉬워진다.\n",
    "- 독립 변수의 차원보다 한 차원 낮아지며, N차원 공간에서 한 차원 낮은 N-1차원의 결정 경계가 생긴다.  \n",
    "  즉, 2차원 공간에서는 결정 경계는 선으로 결정되고, 고차원에서는 결정 경계는 선이 아닌 평면 이상의 도형이며, 이를 \"초평면(Hyperplane)\"이라고 부른다.\n",
    "\n",
    "<img src=\"./images/support_vector_machine02.png\" width=\"400px\" style=\"margin-bottom: 60px;\">  \n",
    "\n",
    "#### 하드 마진(Hard margin)\n",
    "- 매우 엄격하게 집단을 구분하는 방법으로 이상치를 허용해주지 않는 방법이다.\n",
    "- 이상치를 허용하지 않기 때문에 과적합이 발생하기 쉽고, 최적의 결정경계를 잘못 구분하거나 못찾는 경우가 생길 수 있다.\n",
    "- C(cost)는 패널티를 조절할 수 있고, 값이 커질수록 결정 경계가 데이터에 더 정확하게 맞춰진다.\n",
    "- C를 낮추면 일을 덜 하게 하는 것이고, C를 높이면 일을 더 해서 더 섬세하게 찾아낸다.\n",
    "- C가 너무 낮으면 underfitting될 가능성이 커지고, C가 너무 높으면 overfitting이 발생할 수 있다.\n",
    "\n",
    "<img src=\"./images/hard_margin.png\" width=\"350px\" style=\"margin-bottom: 60px;\">\n",
    "\n",
    "#### 소프트 마진(Soft margin)\n",
    "- 이상치를 허용해서 일부 데이터를 잘못 분류하더라도 나머지 데이터를 더욱 잘 분류해주는 방법이다.\n",
    "- 이상치 허용으로 인해 데이터의 패턴을 잘 감지하지 못하는 문제점이 생길 수 있다.\n",
    "\n",
    "<img src=\"./images/soft_margin.png\" width=\"550px\" style=\"margin-bottom: 60px;\">\n",
    "\n",
    "> 🎈정리  \n",
    "> 서포트 벡터 머신 알고리즘을 적용한 SVC 모델의 하이퍼파라미터은 Regularization cost, C에 값을 전달하여 ξ(패널티)를 조절할 수 있다. C가 클 수록 loss function에서 오차항인 ξ<sub>i</sub>의 영향력이 커지게 되기 때문에 마진의 크기가 줄어들고(하드 마진), 반대로 C가 작을 수록 마진의 크기가 늘어난다(소프트 마진). 적절히 조절하면 오히려 성능이 좋아질 수 있다."
   ]
  },
  {
   "cell_type": "markdown",
   "id": "b04dffef-c3a7-4a90-acae-511d0233f668",
   "metadata": {},
   "source": [
    "### 📱핸드폰 성능에 따른 가격 예측\n",
    "\n",
    "#### feature\n",
    "- battery_power: 배터리가 한 번에 저장할 수 있는 총 에너지(mAh) \n",
    "- blue: 블루투스 지원 여부  \n",
    "- clock_speed: 마이크로프로세서가 명령을 실행하는 속도  \n",
    "- dual_sim: 듀얼 심 지원 여부  \n",
    "- fc: 전면 카메라 메가 픽셀  \n",
    "- four_g: 4G 지원 여부  \n",
    "- int_memory: 내장 메모리(GB)  \n",
    "- m_dep: 핸드폰 깊이(cm)  \n",
    "- mobile_wt: 핸드폰 무게  \n",
    "- n_cores: 프로세스 코어 수  \n",
    "- pc: 기본 카메라 메가 픽셀  \n",
    "- px_height: 픽셀 해상도 높이  \n",
    "- px_width: 픽셀 해상도 너비  \n",
    "- ram: 랜덤 액세스 메모리(MB)  \n",
    "- sc_h: 핸드폰 화면 높이(cm)  \n",
    "- sc_w: 핸드폰 화면 너비(cm)  \n",
    "- talk_time: 배터리 한 번 충전으로 지속되는 가장 긴 시간  \n",
    "- three_g: 3G 지원 여부  \n",
    "- touch_screen:  터치 스크린 지원 여부  \n",
    "- wifi: Wifi 지원 여부  \n",
    "\n",
    "#### target\n",
    "-  price_range: 0(저비용), 1(중비용), 2(고비용), 3(초고비용)"
   ]
  },
  {
   "cell_type": "code",
   "execution_count": null,
   "id": "171cd33f-c1ad-4989-8783-5d00e53d6214",
   "metadata": {},
   "outputs": [],
   "source": []
  },
  {
   "cell_type": "code",
   "execution_count": null,
   "id": "905f8100-87fd-4463-8918-800645d32d1c",
   "metadata": {},
   "outputs": [],
   "source": []
  },
  {
   "cell_type": "code",
   "execution_count": null,
   "id": "efe1ffca-d713-49a1-a523-236239c30d23",
   "metadata": {},
   "outputs": [],
   "source": []
  },
  {
   "cell_type": "code",
   "execution_count": null,
   "id": "93eb2195-e7b8-4dfb-93a3-da05b4344c30",
   "metadata": {},
   "outputs": [],
   "source": []
  },
  {
   "cell_type": "code",
   "execution_count": null,
   "id": "a2150c88-2742-4137-a4d1-7b952d0702db",
   "metadata": {},
   "outputs": [],
   "source": []
  },
  {
   "cell_type": "code",
   "execution_count": null,
   "id": "85b78a69-7c7e-406e-accb-1d4eee3c2f4c",
   "metadata": {},
   "outputs": [],
   "source": []
  },
  {
   "cell_type": "code",
   "execution_count": null,
   "id": "5364c40f-6c5c-48a5-81c6-390a34c00d6f",
   "metadata": {},
   "outputs": [],
   "source": []
  },
  {
   "cell_type": "code",
   "execution_count": null,
   "id": "20dd9b69-b24a-47b5-a356-ef1b7a0adcb8",
   "metadata": {},
   "outputs": [],
   "source": []
  },
  {
   "cell_type": "code",
   "execution_count": null,
   "id": "f7848a36-8cbd-4af9-aeb6-bd214d0e16a0",
   "metadata": {},
   "outputs": [],
   "source": []
  },
  {
   "cell_type": "code",
   "execution_count": null,
   "id": "3bdb6753-b5ce-4fb9-a841-40ed2f345f11",
   "metadata": {},
   "outputs": [],
   "source": []
  },
  {
   "cell_type": "code",
   "execution_count": null,
   "id": "5cb6fe2f-0960-4fd0-be44-5de232c57153",
   "metadata": {},
   "outputs": [],
   "source": []
  },
  {
   "cell_type": "code",
   "execution_count": null,
   "id": "ee64ec2f-493b-4b99-8f23-eca11a2b6232",
   "metadata": {},
   "outputs": [],
   "source": []
  },
  {
   "cell_type": "code",
   "execution_count": null,
   "id": "cb9becca-d673-4f9a-b8dc-f7254f430678",
   "metadata": {},
   "outputs": [],
   "source": []
  },
  {
   "cell_type": "code",
   "execution_count": null,
   "id": "bb7faafa-baf6-44c3-a21a-2a868868d484",
   "metadata": {},
   "outputs": [],
   "source": []
  }
 ],
 "metadata": {
  "kernelspec": {
   "display_name": "Python 3 (ipykernel)",
   "language": "python",
   "name": "python3"
  },
  "language_info": {
   "codemirror_mode": {
    "name": "ipython",
    "version": 3
   },
   "file_extension": ".py",
   "mimetype": "text/x-python",
   "name": "python",
   "nbconvert_exporter": "python",
   "pygments_lexer": "ipython3",
   "version": "3.11.8"
  }
 },
 "nbformat": 4,
 "nbformat_minor": 5
}
