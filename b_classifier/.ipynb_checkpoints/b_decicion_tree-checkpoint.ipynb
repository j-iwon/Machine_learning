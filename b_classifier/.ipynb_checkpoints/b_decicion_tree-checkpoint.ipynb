{
 "cells": [
  {
   "cell_type": "markdown",
   "id": "ffc10a44-abf3-4fb2-8406-665e89f05f2e",
   "metadata": {},
   "source": [
    "### 결정 트리 (Decicion Tree)\n",
    "- 매우 쉽고 유연하게 적용될 수 있는 알고리즘으로서 데이터의 스케일링, 정규화 등의 데이터 전처리의 의존도가 매우 적다.\n",
    "- 학습을 통해 데이터에 있는 규칙을 자동으로 찾아내서 Tree 기반의 분류 규칙을 만든다.\n",
    "- 각 특성이 개별적으로 처리되어 데이터를 분할하는데 데이터 스케일의 영향을 받지 않으므로 결정트리에서는 정규화나 표준화같은 전처리 과정이 필요없다.\n",
    "- 영향을 가장 많이 미치는 feature를 찾아낼 수도 있다.\n",
    "- 예측 성능을 계속해서 향상시키면 복잡한 규칙 구조를 가지기 때문에 <sub>※</sub>과적합(Overfitting)이 발생해서 예측 성능이 저하될 수도 있다.\n",
    "- 가장 상위 노드를 \"루트 노드\"라고 하며, 나머지 분기점을 \"서브 노드\", 결정된 분류값 노드를 \"리프 노드\"라고 한다.\n",
    "\n",
    "<img src=\"./images/decision_tree.png\" width=\"550\" style=\"margin: 20px 0 20px 20px\">\n",
    "\n",
    "- 복잡도를 감소시키는것이 주목적이며, 정보의 복잡도를 불순도(Impurity)라고 한다.\n",
    "- 이를 수치화한 값으로 지니 계수(Gini coeficient)가 있다.\n",
    "- 클래스가 섞이지 않고 분류가 잘 되었다면, 불순도 낮다.\n",
    "- 클래스가 많이 섞여 있고 분류가 잘 안되었다면, 불순도 높다.\n",
    "- 통계적 분산 정도를 정량화하여 표현한 값이고, 0과 1사이의 값을 가진다.\n",
    "- 지니 계수가 낮을 수록 분류가 잘 된 것이다.\n",
    "\n",
    "---\n",
    "<sub>※ 과적합이란, 학습 데이터를 과하게 학습시켜서 실제 데이터에서는 오차가 오히려 증가하는 현상이다. </sub>\n",
    "\n",
    "<img src=\"./images/overfitting.png\" width=\"350\" style=\"margin-left: -10px\">"
   ]
  },
  {
   "cell_type": "markdown",
   "id": "a1a08884-5813-45f5-85e5-7b69cd2224f5",
   "metadata": {},
   "source": [
    "#### Graphviz\r\n",
    "- 결정트리 모델을 시각화할 수 있다.\r\n",
    "- https://graphviz.org/download/  \r\n",
    "  graphviz-9.0.0 (64-bit) EXE installer [sha256]\r\n",
    "- https://drive.google.com/file/d/1oCXidIjNAvUT2UcNFEdhRfFhnZ96iHrp/view?usp=sharing"
   ]
  },
  {
   "cell_type": "code",
   "execution_count": 1,
   "id": "d59855f0-ecdc-45c4-b4c4-2422f2c68531",
   "metadata": {},
   "outputs": [
    {
     "ename": "ModuleNotFoundError",
     "evalue": "No module named 'graphviz'",
     "output_type": "error",
     "traceback": [
      "\u001b[1;31m---------------------------------------------------------------------------\u001b[0m",
      "\u001b[1;31mModuleNotFoundError\u001b[0m                       Traceback (most recent call last)",
      "Cell \u001b[1;32mIn[1], line 1\u001b[0m\n\u001b[1;32m----> 1\u001b[0m \u001b[38;5;28;01mimport\u001b[39;00m \u001b[38;5;21;01mgraphviz\u001b[39;00m\n",
      "\u001b[1;31mModuleNotFoundError\u001b[0m: No module named 'graphviz'"
     ]
    }
   ],
   "source": [
    "import graphviz"
   ]
  },
  {
   "cell_type": "code",
   "execution_count": null,
   "id": "ff967485-d0c9-4b13-bcba-522ffbb1e75f",
   "metadata": {},
   "outputs": [],
   "source": []
  },
  {
   "cell_type": "code",
   "execution_count": null,
   "id": "e94478f5-ac72-428b-a0b3-98517651d015",
   "metadata": {},
   "outputs": [],
   "source": []
  },
  {
   "cell_type": "code",
   "execution_count": null,
   "id": "7ff30d18-8aee-44e9-9149-495aae67da79",
   "metadata": {},
   "outputs": [],
   "source": []
  }
 ],
 "metadata": {
  "kernelspec": {
   "display_name": "Python 3 (ipykernel)",
   "language": "python",
   "name": "python3"
  },
  "language_info": {
   "codemirror_mode": {
    "name": "ipython",
    "version": 3
   },
   "file_extension": ".py",
   "mimetype": "text/x-python",
   "name": "python",
   "nbconvert_exporter": "python",
   "pygments_lexer": "ipython3",
   "version": "3.11.8"
  }
 },
 "nbformat": 4,
 "nbformat_minor": 5
}
